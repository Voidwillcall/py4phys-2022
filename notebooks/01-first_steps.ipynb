{
 "cells": [
  {
   "cell_type": "markdown",
   "metadata": {},
   "source": [
    "# First steps"
   ]
  },
  {
   "cell_type": "markdown",
   "metadata": {},
   "source": [
    "## 1. Getting to know python\n",
    "Python is a programming language which is:\n",
    "- **interpreted**: the code of a python program is not compiled and translated into machine-language before execution, but rather translated line-by-line. We already have an example for this: the fact that we can have interactive notebooks! There is no real distinction between *compilation* and *runtime* like in compiled languages. A consequence of this is that computation-intensive operations are inherently inefficient (but we have libraries to get around this). \n",
    "- **strongly but dynamically typed**: variables have types, but this types are determined at *runtime*.   \n",
    "- **multi-paradigm**: python supports imperative, procedural, object-oriented and functional programming. Important to remember: every algorithm can be written in the form of sequences, selections (if) and loops!\n",
    "\n",
    "### Running python code\n",
    "- running the interpreter on a source file (script): `python3 script.py`\n",
    "- using an interactive prompt (also known as REPL, read-eval-print-loop). `ipython` is an example, Jupyter notebooks are just an improved way of doing it! "
   ]
  },
  {
   "cell_type": "markdown",
   "metadata": {},
   "source": [
    "## 2. Variables (actually, names and bindings)\n",
    "In traditional compiled programming languages, a variable has an *r-value* (a memory address) and an *l-value* (its actual value), so when we write an *assignment*:\n",
    "```C\n",
    "int a = 1; /* a little detour into the realm of C language */\n",
    "```\n",
    "it means that the binary representation of `1` is stored at a memory address statically associated to `a`. \n",
    "\n",
    "Python is more abstract:\n",
    "```python\n",
    "a = 1\n",
    "```\n",
    "where `a` is a *name* and `1` represents in general an *object*. This operation, strictly speaking, is a *name binding*. From now on, we will speak of *variables* and *assignments* for the sake of simplicity, but keep in mind that this is a bit of an abuse of language."
   ]
  },
  {
   "cell_type": "markdown",
   "metadata": {},
   "source": [
    "### Let's practice...\n",
    "We will now show practical examples of the ideas we have just introduced!"
   ]
  },
  {
   "cell_type": "code",
   "execution_count": 10,
   "metadata": {},
   "outputs": [
    {
     "name": "stdout",
     "output_type": "stream",
     "text": [
      "1 <class 'int'>\n"
     ]
    }
   ],
   "source": [
    "# first assignment\n",
    "a = 1\n",
    "print(a, type(a))"
   ]
  },
  {
   "cell_type": "code",
   "execution_count": 11,
   "metadata": {},
   "outputs": [
    {
     "name": "stdout",
     "output_type": "stream",
     "text": [
      "hello world! <class 'str'>\n"
     ]
    }
   ],
   "source": [
    "# second assignment\n",
    "a = \"hello world!\"\n",
    "print(a, type(a))"
   ]
  },
  {
   "cell_type": "markdown",
   "metadata": {},
   "source": [
    "Note that:\n",
    "- the type of `a` is automatically determined by the value we have assigned;\n",
    "- even simple data types are represented as instances of a class (objects)\n",
    "\n",
    "Values directly written in code `1` and `hello world!` take the name of *literals*."
   ]
  },
  {
   "cell_type": "markdown",
   "metadata": {},
   "source": [
    "## Types\n",
    "Summary of native types:\n",
    "- string (`str`): contains characters, supports unicodes, there is no separate type for individual characters;\n",
    "- numeric types: integers (`int`) have variable-length, that means they do not have minimum or maximum values. Floating point numbers (`float`) are double precision (64 bit). Important: **floating point** is a synonym of **variable precision**. This means that the resolution of your variable (i.e. the minimum difference between two values) depends on the order of magnitude of the number. Most of the times you will have enough precision for all practical purposes, but be aware that some numbers (especially decimals) may not have an exact representation!\n",
    "- booleans (`True` and `False`)\n",
    "- collections: `tuple` (immutable sequence), `list` (mutable sequence), `set` (set of unique items), `dict` (key-value mapping)\n",
    "- none `None` is a special object of `NoneType`, its usage may vary.\n",
    "Let's illustrate a how to write the corresponding literals:\n"
   ]
  },
  {
   "cell_type": "code",
   "execution_count": 12,
   "metadata": {},
   "outputs": [
    {
     "data": {
      "text/plain": [
       "(True, False)"
      ]
     },
     "execution_count": 12,
     "metadata": {},
     "output_type": "execute_result"
    }
   ],
   "source": [
    "\"python\", \"🐍\"                      # str\n",
    "b\"\\xf0\\x9f\\x90\\x8d\"                 # bytes\n",
    "42                                  # int\n",
    "42., 42.0, 4.2e1                    # float\n",
    "(1, 42., \"🐍\")                      # tuple\n",
    "[1, 42., \"🐍\"]                      # list\n",
    "{1, 42., \"🐍\"}                      # set\n",
    "{1: \"foo\", 42.: \"bar\", \"🐍\": \"baz\"} # dict\n",
    "None                                # NoneType\n",
    "True, False                         # bool"
   ]
  },
  {
   "cell_type": "markdown",
   "metadata": {},
   "source": [
    "**Notes**\n",
    "- more than one variable can be written or assigned on a single line, for example `a, b = 0, 1`, this works by implicitly creating a `tuple`; most of the times you can use it to make your code more readable;\n",
    "- running an instruction with a single variable will print a *representation* of the corresponding object, however as you have just seen this only works for the last variable, so use `print()` statements to proper control your output."
   ]
  },
  {
   "cell_type": "markdown",
   "metadata": {},
   "source": [
    "You can check the typo of a variable with `isinstance()`:"
   ]
  },
  {
   "cell_type": "code",
   "execution_count": 13,
   "metadata": {},
   "outputs": [
    {
     "name": "stdout",
     "output_type": "stream",
     "text": [
      "False\n",
      "True\n"
     ]
    }
   ],
   "source": [
    "print(isinstance(\"python\", int))\n",
    "print(isinstance(\"python\", str))"
   ]
  },
  {
   "cell_type": "markdown",
   "metadata": {},
   "source": [
    "## 3. Formatting strings\n",
    "It is very important to"
   ]
  }
 ],
 "metadata": {
  "kernelspec": {
   "display_name": "Python 3.10.5 ('science')",
   "language": "python",
   "name": "python3"
  },
  "language_info": {
   "codemirror_mode": {
    "name": "ipython",
    "version": 3
   },
   "file_extension": ".py",
   "mimetype": "text/x-python",
   "name": "python",
   "nbconvert_exporter": "python",
   "pygments_lexer": "ipython3",
   "version": "3.10.5"
  },
  "orig_nbformat": 4,
  "vscode": {
   "interpreter": {
    "hash": "e22a2eb9a392155e6c1a70cb0bf3a6766fcf0e144014212996f1e147d1c2c35e"
   }
  }
 },
 "nbformat": 4,
 "nbformat_minor": 2
}
