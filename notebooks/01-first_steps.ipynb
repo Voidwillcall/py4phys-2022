{
 "cells": [
  {
   "cell_type": "markdown",
   "metadata": {},
   "source": [
    "# First steps\n",
    "This lecture is partially inspired by a past [Zeuthen Data Science Seminar](https://indico.desy.de/event/32700/) held by Jakob van Santen (DESY)."
   ]
  },
  {
   "cell_type": "markdown",
   "metadata": {},
   "source": [
    "## 1. Getting to know python\n",
    "Python is a programming language which is:\n",
    "- **interpreted**: the code of a python program is not compiled and translated into machine-language before execution, but rather translated line-by-line. We already have an example for this: the fact that we can have interactive notebooks! There is no real distinction between *compilation* and *runtime* like in compiled languages. A consequence of this is that computation-intensive operations are inherently inefficient (but we have libraries to get around this). \n",
    "- **strongly but dynamically typed**: variables have types, but this types are determined at *runtime*.   \n",
    "- **multi-paradigm**: python supports imperative, procedural, object-oriented and functional programming. Important to remember: every algorithm can be written in the form of sequences, selections (if) and loops!\n",
    "\n",
    "### Running python code\n",
    "- running the interpreter on a source file (script): `python3 script.py`\n",
    "- using an interactive prompt (also known as REPL, read-eval-print-loop). `ipython` is an example, Jupyter notebooks are just an improved way of doing it! "
   ]
  },
  {
   "cell_type": "markdown",
   "metadata": {},
   "source": [
    "## 2. Variables (actually, names and bindings)\n",
    "In traditional compiled programming languages, a variable has an *r-value* (a memory address) and an *l-value* (its actual value), so when we write an *assignment*:\n",
    "```C\n",
    "int a = 1; /* a little detour into the realm of C language */\n",
    "```\n",
    "it means that the binary representation of `1` is stored at a memory address statically associated to `a`. \n",
    "\n",
    "Python has a simpler syntax, partly because is a more abstract language:\n",
    "```python\n",
    "a = 1\n",
    "```\n",
    "where `a` is a *name* and `1` represents in general an *object*. This operation, strictly speaking, is a *name binding*.\n",
    "\n",
    "From now on, we will speak of *variables* and *assignments* for the sake of simplicity, but keep in mind that conceptually `python` is doing a different thing."
   ]
  },
  {
   "cell_type": "markdown",
   "metadata": {},
   "source": [
    "### Let's practice...\n",
    "We will now show practical examples of the ideas we have just introduced!"
   ]
  },
  {
   "cell_type": "code",
   "execution_count": 1,
   "metadata": {},
   "outputs": [
    {
     "name": "stdout",
     "output_type": "stream",
     "text": [
      "1 <class 'int'>\n"
     ]
    }
   ],
   "source": [
    "# first assignment\n",
    "a = 1\n",
    "print(a, type(a))"
   ]
  },
  {
   "cell_type": "code",
   "execution_count": 2,
   "metadata": {},
   "outputs": [
    {
     "name": "stdout",
     "output_type": "stream",
     "text": [
      "hello world! <class 'str'>\n"
     ]
    }
   ],
   "source": [
    "# second assignment\n",
    "a = \"hello world!\"\n",
    "print(a, type(a))"
   ]
  },
  {
   "cell_type": "markdown",
   "metadata": {},
   "source": [
    "Note that:\n",
    "- the type of `a` is automatically determined by the value we have assigned;\n",
    "- even simple data types are represented as instances of a class (objects)\n",
    "\n",
    "Values directly written in code `1` and `hello world!` take the name of *literals*."
   ]
  },
  {
   "cell_type": "markdown",
   "metadata": {},
   "source": [
    "## 3. Types\n",
    "Summary of native types:\n",
    "- string (`str`): contains characters, supports unicodes, there is no separate type for individual characters;\n",
    "- numeric types: integers (`int`) have variable-length, that means they do not have minimum or maximum values. Floating point numbers (`float`) are double precision (64 bit). Important: **floating point** is a synonym of **variable precision**. This means that the resolution of your variable (i.e. the minimum difference between two values) depends on the order of magnitude of the number. Most of the times you will have enough precision for all practical purposes, but be aware that some numbers (especially decimals) may not have an exact representation!\n",
    "- booleans (`True` and `False`)\n",
    "- collections: `tuple` (immutable sequence), `list` (mutable sequence), `set` (set of unique items), `dict` (key-value mapping)\n",
    "- none `None` is a special object of `NoneType`, its usage may vary.\n",
    "Let's illustrate a how to write the corresponding literals:\n"
   ]
  },
  {
   "cell_type": "code",
   "execution_count": 3,
   "metadata": {},
   "outputs": [
    {
     "data": {
      "text/plain": [
       "(True, False)"
      ]
     },
     "execution_count": 3,
     "metadata": {},
     "output_type": "execute_result"
    }
   ],
   "source": [
    "\"python\", \"🐍\"                      # str\n",
    "b\"\\xf0\\x9f\\x90\\x8d\"                 # bytes\n",
    "42                                  # int\n",
    "42., 42.0, 4.2e1                    # float\n",
    "(1, 42., \"🐍\")                      # tuple\n",
    "[1, 42., \"🐍\"]                      # list\n",
    "{1, 42., \"🐍\"}                      # set\n",
    "{1: \"foo\", 42.: \"bar\", \"🐍\": \"baz\"} # dict\n",
    "None                                # NoneType\n",
    "True, False                         # bool"
   ]
  },
  {
   "cell_type": "markdown",
   "metadata": {},
   "source": [
    "**Notes**\n",
    "- more than one variable can be written or assigned on a single line, for example `a, b = 0, 1`, this works by implicitly creating a `tuple`; most of the times you can use it to make your code more readable;\n",
    "- running an instruction with a single variable will print a *representation* of the corresponding object, however as you have just seen this only works for the last variable, so use `print()` statements to proper control your output."
   ]
  },
  {
   "cell_type": "markdown",
   "metadata": {},
   "source": [
    "You can check the type of a variable with `isinstance()`:"
   ]
  },
  {
   "cell_type": "code",
   "execution_count": 4,
   "metadata": {},
   "outputs": [
    {
     "name": "stdout",
     "output_type": "stream",
     "text": [
      "False\n",
      "True\n"
     ]
    }
   ],
   "source": [
    "print(isinstance(\"python\", int))\n",
    "print(isinstance(\"python\", str))"
   ]
  },
  {
   "cell_type": "markdown",
   "metadata": {},
   "source": [
    "## 4. Basic operations\n",
    "We will introduce now some basic operations on native types."
   ]
  },
  {
   "cell_type": "markdown",
   "metadata": {},
   "source": [
    "Typical arithmetic operations are represented by the usual symbols: `+`, `-`, `*`, `/`. "
   ]
  },
  {
   "cell_type": "code",
   "execution_count": 5,
   "metadata": {},
   "outputs": [
    {
     "name": "stdout",
     "output_type": "stream",
     "text": [
      "1.2\n"
     ]
    }
   ],
   "source": [
    "a = 1 # int\n",
    "b = 0.2 # float\n",
    "c = a + b # will be a float!\n",
    "print(c) "
   ]
  },
  {
   "cell_type": "markdown",
   "metadata": {},
   "source": [
    "As in other languages, an operation such as `a = a + 1` can be abbreviated with `a += 1`. While it can be tempting, and sometimes convenient, to use this shorthand notation to prepare a variable that has to be used later on, **avoid** using the same name for different meanings in the same block of code: it will quickly lead to confusion."
   ]
  },
  {
   "cell_type": "markdown",
   "metadata": {},
   "source": [
    "Some operators also work on strings:"
   ]
  },
  {
   "cell_type": "code",
   "execution_count": 6,
   "metadata": {},
   "outputs": [
    {
     "name": "stdout",
     "output_type": "stream",
     "text": [
      "Hello World\n"
     ]
    }
   ],
   "source": [
    "a = \"Hello\"\n",
    "b = \" \"\n",
    "c = \"World\"\n",
    "print(a + b + c)"
   ]
  },
  {
   "cell_type": "markdown",
   "metadata": {},
   "source": [
    "This property is called *overloading* which is a special case *polymorphism*. In practice, the same operator can behave differently depending on the type of the arguments."
   ]
  },
  {
   "cell_type": "markdown",
   "metadata": {},
   "source": [
    "### Division is special"
   ]
  },
  {
   "cell_type": "code",
   "execution_count": 7,
   "metadata": {},
   "outputs": [
    {
     "name": "stdout",
     "output_type": "stream",
     "text": [
      "2.5\n"
     ]
    }
   ],
   "source": [
    "a, b = 5, 2\n",
    "c = a / b\n",
    "print(c)"
   ]
  },
  {
   "cell_type": "markdown",
   "metadata": {},
   "source": [
    "The above statement reads very intuitively for a human, but from a computer's perspective is awkward: an operation between two integers actually returns a float!\n",
    "\n",
    "We can realise an Euclidean division (with remainder) using to the `//` and `%` (modulus) operators:"
   ]
  },
  {
   "cell_type": "code",
   "execution_count": 8,
   "metadata": {},
   "outputs": [
    {
     "name": "stdout",
     "output_type": "stream",
     "text": [
      "1 2\n"
     ]
    }
   ],
   "source": [
    "a, b = 10, 8\n",
    "d = a // b\n",
    "e = a % b\n",
    "print(d , e)"
   ]
  },
  {
   "cell_type": "markdown",
   "metadata": {},
   "source": [
    "In `python`, the `//` operator takes the name of *floor division* and together with `%` is also defined for floats:"
   ]
  },
  {
   "cell_type": "code",
   "execution_count": 9,
   "metadata": {},
   "outputs": [
    {
     "name": "stdout",
     "output_type": "stream",
     "text": [
      "2.0 1.1\n"
     ]
    }
   ],
   "source": [
    "a = 3.5\n",
    "b = 1.2\n",
    "print(a // b, a % b)"
   ]
  },
  {
   "cell_type": "markdown",
   "metadata": {},
   "source": [
    "One can interpret `//` between floats as a normal division `/` followed by a *floor function* returning the nearest smaller integer. Strictly speaking, a `//` between integers is a different operation altogether, but the two provide consistent results across integers and float.\n",
    "\n",
    "*Legacy note*: in early versions of python, the `/` operator for int values would return the result of the Euclidean division and could be overridden with enigmatic statements such as `from __future__ import division`. Hopefully, you will not have to deal with this anymore as almost all code should be python 3 by today, but you may always run into some outdated code."
   ]
  },
  {
   "cell_type": "markdown",
   "metadata": {},
   "source": [
    "### Booleans\n",
    "Let's show very quickly boolean operations."
   ]
  },
  {
   "cell_type": "code",
   "execution_count": 10,
   "metadata": {},
   "outputs": [
    {
     "name": "stdout",
     "output_type": "stream",
     "text": [
      "False\n"
     ]
    }
   ],
   "source": [
    "a = True\n",
    "b = not a\n",
    "print(b)"
   ]
  },
  {
   "cell_type": "code",
   "execution_count": 11,
   "metadata": {},
   "outputs": [
    {
     "name": "stdout",
     "output_type": "stream",
     "text": [
      "False True\n"
     ]
    }
   ],
   "source": [
    "c = a and b\n",
    "d = a or b\n",
    "print(c, d)"
   ]
  },
  {
   "cell_type": "markdown",
   "metadata": {},
   "source": [
    "In `python` as in other languages you can find *bitwise* operators, that they work as `not`, `and`, `or` but at the bit level. These are `&` (and), `|` (or), `~` (not). We will not go deeper into this, for now."
   ]
  },
  {
   "cell_type": "markdown",
   "metadata": {},
   "source": [
    "### Comparisons\n",
    "Comparisons operators... compare two values and return a boolean. You can either print directly or store the boolean in a further variable."
   ]
  },
  {
   "cell_type": "code",
   "execution_count": 12,
   "metadata": {},
   "outputs": [
    {
     "name": "stdout",
     "output_type": "stream",
     "text": [
      "False\n",
      "True\n"
     ]
    }
   ],
   "source": [
    "a = 2\n",
    "b = 1\n",
    "print(a == b) # are they equal?\n",
    "c = (a != b) # are they different?\n",
    "print(c)"
   ]
  },
  {
   "cell_type": "markdown",
   "metadata": {},
   "source": [
    "Don't forget the usual arithmetic comparisons: `>` (greater), `>=` (greater or equal), `<` (lesser), `<=` (lesser or equal)."
   ]
  },
  {
   "cell_type": "markdown",
   "metadata": {},
   "source": [
    "#### Floating point pitfalls"
   ]
  },
  {
   "cell_type": "code",
   "execution_count": 13,
   "metadata": {},
   "outputs": [
    {
     "name": "stdout",
     "output_type": "stream",
     "text": [
      "False\n"
     ]
    }
   ],
   "source": [
    "a = 10\n",
    "b = 9 + 0.5 + 0.1 + 0.1 + 0.1 + 0.1 + 0.1\n",
    "print(a == b)\n",
    "# print(a , b)"
   ]
  },
  {
   "cell_type": "markdown",
   "metadata": {},
   "source": [
    "Can you guess what is happening?"
   ]
  },
  {
   "cell_type": "markdown",
   "metadata": {},
   "source": [
    "## 5. String formatting"
   ]
  },
  {
   "cell_type": "markdown",
   "metadata": {},
   "source": [
    "In `python`, there are several ways of building strings incorporating different types of variables."
   ]
  },
  {
   "cell_type": "markdown",
   "metadata": {},
   "source": [
    "### String interpolation (legacy)\n",
    "The oldest style is *[string interpolation](https://docs.python.org/3/library/stdtypes.html#old-string-formatting)*:"
   ]
  },
  {
   "cell_type": "code",
   "execution_count": 25,
   "metadata": {},
   "outputs": [
    {
     "name": "stdout",
     "output_type": "stream",
     "text": [
      "a = 1, b = 42\n",
      "a = 01\n",
      "a = 1.234500\n",
      "a = 1.23\n"
     ]
    }
   ],
   "source": [
    "a = 1.2345\n",
    "b = 42\n",
    "print(\"a = %d, b = %d\" % (a, b)) # d -> integer\n",
    "print(\"a = %02d\" % a)\n",
    "print(\"a = %f\" % a) # f -> float\n",
    "print(\"a = %.2f\" % a)"
   ]
  },
  {
   "cell_type": "markdown",
   "metadata": {},
   "source": [
    "The `%d` and similar strings are called *format strings* and it is similar to what was done in the C language. This style has many pitfalls, is basically deprecated and we recommend against using it in your code!"
   ]
  },
  {
   "cell_type": "markdown",
   "metadata": {},
   "source": [
    "### f-strings and format() method\n",
    "*f-strings* are *formatted string literals* allowing to easily incorporate python variables and expressions in strings. An alternative and less compact notation uses the `format()` method."
   ]
  },
  {
   "cell_type": "code",
   "execution_count": 31,
   "metadata": {},
   "outputs": [
    {
     "name": "stdout",
     "output_type": "stream",
     "text": [
      "a = 1.2345, b = 1.2345\n",
      "a=1.2345, b=42\n",
      "a = 1.2345, b = 42\n"
     ]
    }
   ],
   "source": [
    "a, b = 1.2345, 42\n",
    "print(f\"a = {a}, b = {b}\") # this is simple\n",
    "print(f\"{a=}, {b=}\") # this is even more compact, although less flexible\n",
    "print(\"a = {}, b = {}\".format(a, b)) # this is an alternative standard, can be more or less readable depending on the circumstances\n"
   ]
  },
  {
   "cell_type": "markdown",
   "metadata": {},
   "source": [
    "You can control the spacing, number of zeros, number of decimals etc. with specific format strings. "
   ]
  },
  {
   "cell_type": "code",
   "execution_count": 45,
   "metadata": {},
   "outputs": [
    {
     "name": "stdout",
     "output_type": "stream",
     "text": [
      "b = 1042\n",
      "a =   42\n",
      "a = 0042\n"
     ]
    }
   ],
   "source": [
    "a, b = 42, 1042\n",
    "print(f\"b = {b:4d}\")\n",
    "print(f\"a = {a:4d}\") # this fill up to 4 spaces regardless of the number of digits\n",
    "print(f\"a = {a:04d}\") # this will fill with zeros instead\n"
   ]
  },
  {
   "cell_type": "code",
   "execution_count": 55,
   "metadata": {},
   "outputs": [
    {
     "name": "stdout",
     "output_type": "stream",
     "text": [
      "a = 123.456\n",
      "a = 123.46\n",
      "a = 1.23e+02\n"
     ]
    }
   ],
   "source": [
    "a = 123.456\n",
    "print(f\"a = {a}\") # default\n",
    "print(f\"a = {a:.2f}\") # only print two decimals\n",
    "print(f\"a = {a:.2e}\") # exponential notation!"
   ]
  },
  {
   "cell_type": "markdown",
   "metadata": {},
   "source": [
    "## Collections"
   ]
  },
  {
   "cell_type": "markdown",
   "metadata": {},
   "source": [
    "### Tuples\n",
    "Tuples are immutables set of values. Once constructed, they cannot be modified."
   ]
  },
  {
   "cell_type": "code",
   "execution_count": 70,
   "metadata": {},
   "outputs": [
    {
     "name": "stdout",
     "output_type": "stream",
     "text": [
      "1 3\n"
     ]
    }
   ],
   "source": [
    "a = (1,2,3)\n",
    "print(a[0], a[2])\n",
    "# a[0] = 1 # try this!"
   ]
  },
  {
   "cell_type": "code",
   "execution_count": 69,
   "metadata": {},
   "outputs": [
    {
     "name": "stdout",
     "output_type": "stream",
     "text": [
      "(1, 2, 3)\n"
     ]
    }
   ],
   "source": [
    "a, b, c = 1, 2, 3\n",
    "t = (a, b, c)\n",
    "print(t)\n",
    "# t[0] = 4 # this cannot work\n",
    "a = 4 # maybe this will work?"
   ]
  },
  {
   "cell_type": "code",
   "execution_count": 68,
   "metadata": {},
   "outputs": [
    {
     "name": "stdout",
     "output_type": "stream",
     "text": [
      "(1, 2, 3)\n"
     ]
    }
   ],
   "source": [
    "print(t)"
   ]
  },
  {
   "cell_type": "markdown",
   "metadata": {},
   "source": [
    "### Lists"
   ]
  },
  {
   "cell_type": "code",
   "execution_count": 71,
   "metadata": {},
   "outputs": [
    {
     "name": "stdout",
     "output_type": "stream",
     "text": [
      "[1, 'hello']\n"
     ]
    }
   ],
   "source": [
    "a = list() # create an empty list using the list() initialiser method\n",
    "b = [] # create an empty list using the `[]` literal\n",
    "b.append(1) # add an element to the list\n",
    "b.append(\"hello\")\n",
    "print(b)"
   ]
  },
  {
   "cell_type": "markdown",
   "metadata": {},
   "source": [
    "Collections can be non-homogeneous, but this is rarely a good practice to adopt!\n",
    "\n",
    "You can create lists from tuples:"
   ]
  },
  {
   "cell_type": "code",
   "execution_count": 72,
   "metadata": {},
   "outputs": [
    {
     "name": "stdout",
     "output_type": "stream",
     "text": [
      "[1, 2, 3]\n",
      "[4, 2, 3]\n"
     ]
    }
   ],
   "source": [
    "c = list((1,2,3))\n",
    "print(c)\n",
    "c[0] = 4 # now we can modify the list!\n",
    "print(c)"
   ]
  },
  {
   "cell_type": "markdown",
   "metadata": {},
   "source": [
    "We will show a few examples of list *slicing*. Slicing is a very powerful syntactic tool that allows to manipulate collections by means of a very compact notation."
   ]
  },
  {
   "cell_type": "code",
   "execution_count": 91,
   "metadata": {},
   "outputs": [
    {
     "name": "stdout",
     "output_type": "stream",
     "text": [
      "[3, 4, 5, 6, 7, 8, 9, 10]\n",
      "[3, 4, 5, 6, 7, 8, 9]\n",
      "[1, 2, 3, 4, 5, 6, 7, 8, 9]\n",
      "10 9 ...\n",
      "[10, 9, 8, 7, 6, 5, 4, 3, 2, 1]\n"
     ]
    }
   ],
   "source": [
    "l = [1, 2, 3, 4, 5, 6, 7, 8, 9, 10]\n",
    "\n",
    "print(l[2:]) # start at index 2\n",
    "print(l[2:9]) # select between indices 2 and 9-1 (upper limits are exclusive)\n",
    "print(l[:9]) # stop at index 9-1\n",
    "print(l[-1], l[-2], \"...\") # access individual elements in reverse order\n",
    "print(l[::-1]) # reverse the entire list"
   ]
  },
  {
   "cell_type": "code",
   "execution_count": 90,
   "metadata": {},
   "outputs": [
    {
     "name": "stdout",
     "output_type": "stream",
     "text": [
      "10 9 ...\n",
      "[10, 9, 8, 7, 6, 5, 4, 3, 2, 1]\n"
     ]
    }
   ],
   "source": []
  },
  {
   "cell_type": "markdown",
   "metadata": {},
   "source": []
  },
  {
   "cell_type": "markdown",
   "metadata": {},
   "source": []
  },
  {
   "cell_type": "markdown",
   "metadata": {},
   "source": [
    "So be careful, the tuple has stored the values of `a`, `b`, `c` and assigning a new value to `a` will not change what's in the tuple!"
   ]
  }
 ],
 "metadata": {
  "kernelspec": {
   "display_name": "Python 3.10.5 ('science')",
   "language": "python",
   "name": "python3"
  },
  "language_info": {
   "codemirror_mode": {
    "name": "ipython",
    "version": 3
   },
   "file_extension": ".py",
   "mimetype": "text/x-python",
   "name": "python",
   "nbconvert_exporter": "python",
   "pygments_lexer": "ipython3",
   "version": "3.10.5"
  },
  "orig_nbformat": 4,
  "vscode": {
   "interpreter": {
    "hash": "e22a2eb9a392155e6c1a70cb0bf3a6766fcf0e144014212996f1e147d1c2c35e"
   }
  }
 },
 "nbformat": 4,
 "nbformat_minor": 2
}
