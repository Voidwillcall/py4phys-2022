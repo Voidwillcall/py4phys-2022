{
 "cells": [
  {
   "cell_type": "markdown",
   "metadata": {},
   "source": [
    "# Operating system and files"
   ]
  },
  {
   "cell_type": "markdown",
   "metadata": {},
   "source": [
    "## Before we start... `import`\n",
    "To interact with the operating system and read files, we need to *import a module*:\n",
    "```python\n",
    "import os\n",
    "```\n",
    "\n",
    "- What is a **module**? A file containing `python` code (variables, function definitions, classes).\n",
    "- What does it mean to **import a module**? When we import a module, `python` runs all the code in the module, as simple as that.\n",
    "- Most of the times, a module only contains *definitions* and is not supposed to execute any function.\n"
   ]
  },
  {
   "cell_type": "code",
   "execution_count": 6,
   "metadata": {},
   "outputs": [
    {
     "name": "stdout",
     "output_type": "stream",
     "text": [
      "posix\n"
     ]
    }
   ],
   "source": [
    "import os\n",
    "print(os.name)"
   ]
  },
  {
   "cell_type": "markdown",
   "metadata": {},
   "source": [
    "## Paths\n",
    "Paths identify a file on a filesystem.\n",
    "\n",
    "Examples:\n",
    "- Windows path: `C:\\User\\Documents\\file.ext`\n",
    "- Linux path: `/home/user/file`.\n",
    "\n",
    "In Windows, most filenames have extensions and extensions is how the OS determines the file type.\n",
    "In Linux, file type and extension are unrelated at a fundamental level but extensions are of help to the user and applications.\n",
    "\n",
    "White it is technically possible to manipulate paths as strings, **don't do it**. It's messy, ugly and does not play well across different operating systems!"
   ]
  },
  {
   "cell_type": "markdown",
   "metadata": {},
   "source": [
    "### Python paths, the old way\n"
   ]
  },
  {
   "cell_type": "code",
   "execution_count": 7,
   "metadata": {},
   "outputs": [
    {
     "name": "stdout",
     "output_type": "stream",
     "text": [
      "/home/lincetto/Work/py4phys-2022/notebooks\n"
     ]
    }
   ],
   "source": [
    "# Let's find out our current directory\n",
    "base_dir = os.getcwd()\n",
    "print(base_dir)"
   ]
  },
  {
   "cell_type": "markdown",
   "metadata": {},
   "source": [
    "Now let's define a new directory..."
   ]
  },
  {
   "cell_type": "code",
   "execution_count": 8,
   "metadata": {},
   "outputs": [
    {
     "name": "stdout",
     "output_type": "stream",
     "text": [
      "/home/lincetto/Work/py4phys-2022/notebooks/work\n"
     ]
    }
   ],
   "source": [
    "new_dir = os.path.join(base_dir, 'work')\n",
    "print(new_dir)"
   ]
  },
  {
   "cell_type": "markdown",
   "metadata": {},
   "source": [
    "We have our path, let's create it!"
   ]
  },
  {
   "cell_type": "code",
   "execution_count": 9,
   "metadata": {},
   "outputs": [
    {
     "name": "stdout",
     "output_type": "stream",
     "text": [
      "<class 'str'>\n"
     ]
    }
   ],
   "source": [
    "# if we try to create a directory with an existing name, we get an error\n",
    "if not os.path.exists(new_dir):\n",
    "    os.makedirs(new_dir)\n",
    "\n",
    "print(type(new_dir))"
   ]
  },
  {
   "cell_type": "markdown",
   "metadata": {},
   "source": [
    "### Python paths, the cool way\n",
    "We have noticed that, after all, we are still manipulating a path as a string. Can we do better?"
   ]
  },
  {
   "cell_type": "code",
   "execution_count": 10,
   "metadata": {},
   "outputs": [],
   "source": [
    "from pathlib import Path"
   ]
  },
  {
   "cell_type": "code",
   "execution_count": 11,
   "metadata": {},
   "outputs": [
    {
     "name": "stdout",
     "output_type": "stream",
     "text": [
      "/home/lincetto/Work/py4phys-2022/notebooks\n"
     ]
    },
    {
     "data": {
      "text/plain": [
       "pathlib.PosixPath"
      ]
     },
     "execution_count": 11,
     "metadata": {},
     "output_type": "execute_result"
    }
   ],
   "source": [
    "base_dir = Path(base_dir)\n",
    "print(base_dir)\n",
    "type(base_dir)"
   ]
  },
  {
   "cell_type": "code",
   "execution_count": 12,
   "metadata": {},
   "outputs": [],
   "source": [
    "new_dir = base_dir / \"work\"\n",
    "\n",
    "Path.mkdir(new_dir, exist_ok=True)"
   ]
  },
  {
   "cell_type": "markdown",
   "metadata": {},
   "source": [
    "- We can manipulate paths as objects.\n",
    "- Better functionality in the form of class and instance methods of `Path`.\n",
    "- Awesome `/` operator! "
   ]
  },
  {
   "cell_type": "markdown",
   "metadata": {},
   "source": [
    "## First file: a text file"
   ]
  },
  {
   "cell_type": "code",
   "execution_count": 21,
   "metadata": {},
   "outputs": [],
   "source": [
    "# first, some data\n",
    "names = [\"NGC 5128\", \"TXS 0506+056\", \"NGC 1068\", \"GB6 J1040+0617\", \"TXS 2226-184\"]\n",
    "distances = [3.7, 1.75e3, 14.4, 1.51e4, 107.1]  # Mpc\n",
    "luminosities = [1e40, 3e46, 4.9e38, 6.2e45, 5.5e41] # erg/s\n",
    "\n",
    "dataset = { 'names' : names, 'distances' : distances, 'luminosities' : luminosities }"
   ]
  },
  {
   "cell_type": "code",
   "execution_count": 16,
   "metadata": {},
   "outputs": [],
   "source": [
    "filename = 'datafile.dat'\n",
    "\n",
    "filepath = new_dir / filename\n",
    "\n",
    "with open(filepath, 'w') as f:\n",
    "    for string in names:\n",
    "        f.write(string + '\\n')\n",
    "\n",
    "# no need to explicitly close the file!"
   ]
  },
  {
   "cell_type": "code",
   "execution_count": 17,
   "metadata": {},
   "outputs": [
    {
     "name": "stdout",
     "output_type": "stream",
     "text": [
      "NGC 5128\n",
      "TXS 0506+056\n",
      "NGC 1068\n",
      "GB6 J1040+0617\n",
      "TXS 2226-184\n",
      "\n"
     ]
    }
   ],
   "source": [
    "with open(filepath, 'r') as f:\n",
    "    data = f.read()\n",
    "\n",
    "print(data)"
   ]
  },
  {
   "cell_type": "markdown",
   "metadata": {},
   "source": [
    "If the file is really big, this is not ideal because all the file content gets loaded in a variable (on the RAM). Better to read line by line:"
   ]
  },
  {
   "cell_type": "code",
   "execution_count": 18,
   "metadata": {},
   "outputs": [
    {
     "name": "stdout",
     "output_type": "stream",
     "text": [
      "NGC 5128\n",
      "\n",
      "TXS 0506+056\n",
      "\n",
      "NGC 1068\n",
      "\n",
      "GB6 J1040+0617\n",
      "\n",
      "TXS 2226-184\n",
      "\n"
     ]
    }
   ],
   "source": [
    "with open(filepath, 'r') as f:\n",
    "    for line in f:\n",
    "        print(line)\n",
    "\n",
    "# you can also used f.readline() to read one line at a time"
   ]
  },
  {
   "cell_type": "markdown",
   "metadata": {},
   "source": [
    "By default, the file is opened in text mode, means that:\n",
    "- only characters/string can be written;\n",
    "- everything is read as a character."
   ]
  },
  {
   "cell_type": "markdown",
   "metadata": {},
   "source": [
    "## Binary files\n",
    "- Writing binary content by hand is complicate and messy.\n",
    "- In `python` we can use `pickle` to dump an arbitary object into a file."
   ]
  },
  {
   "cell_type": "code",
   "execution_count": 23,
   "metadata": {},
   "outputs": [],
   "source": [
    "import pickle\n",
    "\n",
    "with open(filepath, 'wb') as f:\n",
    "    pickle.dump(dataset, f)\n"
   ]
  },
  {
   "cell_type": "code",
   "execution_count": 25,
   "metadata": {},
   "outputs": [
    {
     "name": "stdout",
     "output_type": "stream",
     "text": [
      "{'names': ['NGC 5128', 'TXS 0506+056', 'NGC 1068', 'GB6 J1040+0617', 'TXS 2226-184'], 'distances': [3.7, 1750.0, 14.4, 15100.0, 107.1], 'luminosities': [1e+40, 3e+46, 4.9e+38, 6.2e+45, 5.5e+41]}\n"
     ]
    }
   ],
   "source": [
    "with open(filepath, 'rb') as f:\n",
    "    obj = pickle.load(f)\n",
    "\n",
    "print(obj)"
   ]
  },
  {
   "cell_type": "markdown",
   "metadata": {},
   "source": [
    "Works with basically any object (even your own classes), but it also very opaque:\n",
    "- `python` specific, no cross-language standard;\n",
    "- basically you need to know in advance what's inside the file;\n",
    "- writing and reading iteratively is possible but complicate."
   ]
  },
  {
   "cell_type": "markdown",
   "metadata": {},
   "source": [
    "## The magic of JSON\n",
    "- JSON (JavaScript Object Notation) is a standard encoding format that allows to write multiple data types in the form of a text file.\n",
    "- You can think of a JSON file as a big nested dictionary.\n",
    "- Most `python` native data types can be written as a JSON file. "
   ]
  },
  {
   "cell_type": "code",
   "execution_count": 29,
   "metadata": {},
   "outputs": [],
   "source": [
    "import json\n",
    "\n",
    "with open(filepath, 'w') as f:\n",
    "    json_data = json.dumps(dataset) # dumps() returns a string\n",
    "    json.dump(data, f) # dump() writes to file!"
   ]
  },
  {
   "cell_type": "code",
   "execution_count": 28,
   "metadata": {},
   "outputs": [
    {
     "name": "stdout",
     "output_type": "stream",
     "text": [
      "{\"names\": [\"NGC 5128\", \"TXS 0506+056\", \"NGC 1068\", \"GB6 J1040+0617\", \"TXS 2226-184\"], \"distances\": [3.7, 1750.0, 14.4, 15100.0, 107.1], \"luminosities\": [1e+40, 3e+46, 4.9e+38, 6.2e+45, 5.5e+41]}\n"
     ]
    },
    {
     "data": {
      "text/plain": [
       "str"
      ]
     },
     "execution_count": 28,
     "metadata": {},
     "output_type": "execute_result"
    }
   ],
   "source": [
    "print(json_data)\n",
    "type(json_data)"
   ]
  },
  {
   "cell_type": "markdown",
   "metadata": {},
   "source": [
    "- It seems like python syntax, but this is JSON.\n",
    "- The file is human-readable!"
   ]
  },
  {
   "cell_type": "code",
   "execution_count": 31,
   "metadata": {},
   "outputs": [
    {
     "name": "stdout",
     "output_type": "stream",
     "text": [
      "{'names': ['NGC 5128', 'TXS 0506+056', 'NGC 1068', 'GB6 J1040+0617', 'TXS 2226-184'], 'distances': [3.7, 1750.0, 14.4, 15100.0, 107.1], 'luminosities': [1e+40, 3e+46, 4.9e+38, 6.2e+45, 5.5e+41]}\n"
     ]
    },
    {
     "data": {
      "text/plain": [
       "dict"
      ]
     },
     "execution_count": 31,
     "metadata": {},
     "output_type": "execute_result"
    }
   ],
   "source": [
    "with open(filepath, 'r') as f:\n",
    "    obj = json.load(f)\n",
    "\n",
    "print(obj)\n",
    "type(obj) # original type is restored!"
   ]
  },
  {
   "cell_type": "markdown",
   "metadata": {},
   "source": [
    "## CSV\n",
    "CSV is acronym for \"comma separated values\", it is the format of choice for tabular data. A CSV files consists of lines (entries) where different values (fields) are separated by commas.  "
   ]
  },
  {
   "cell_type": "code",
   "execution_count": 32,
   "metadata": {},
   "outputs": [],
   "source": [
    "import csv"
   ]
  },
  {
   "cell_type": "code",
   "execution_count": 38,
   "metadata": {},
   "outputs": [],
   "source": [
    "with open(filepath, 'w') as f:\n",
    "    writer = csv.DictWriter(f, fieldnames=[\"name\",\"distance\", \"luminosity\"])\n",
    "    for name, dist, lum in zip(names, distances, luminosities):\n",
    "        writer.writerow({\"name\": name, \"distance\": dist, \"luminosity\": lum})"
   ]
  },
  {
   "cell_type": "code",
   "execution_count": 37,
   "metadata": {},
   "outputs": [
    {
     "name": "stdout",
     "output_type": "stream",
     "text": [
      "{'name': 'NGC 5128', 'distance': '3.7', 'luminosity': '1e+40'}\n",
      "{'name': 'TXS 0506+056', 'distance': '1750.0', 'luminosity': '3e+46'}\n",
      "{'name': 'NGC 1068', 'distance': '14.4', 'luminosity': '4.9e+38'}\n",
      "{'name': 'GB6 J1040+0617', 'distance': '15100.0', 'luminosity': '6.2e+45'}\n",
      "{'name': 'TXS 2226-184', 'distance': '107.1', 'luminosity': '5.5e+41'}\n"
     ]
    }
   ],
   "source": [
    "with open(filepath, 'r') as f:\n",
    "    reader = csv.DictReader(f, fieldnames=[\"name\",\"distance\", \"luminosity\"])\n",
    "    for row in reader:\n",
    "        print(row)"
   ]
  }
 ],
 "metadata": {
  "kernelspec": {
   "display_name": "Python 3.10.5 ('astronomy')",
   "language": "python",
   "name": "python3"
  },
  "language_info": {
   "codemirror_mode": {
    "name": "ipython",
    "version": 3
   },
   "file_extension": ".py",
   "mimetype": "text/x-python",
   "name": "python",
   "nbconvert_exporter": "python",
   "pygments_lexer": "ipython3",
   "version": "3.10.5"
  },
  "orig_nbformat": 4,
  "vscode": {
   "interpreter": {
    "hash": "a27840a7b1c12ed5c4097e0c82ce74f146693c21815a51f33b43828b75394333"
   }
  }
 },
 "nbformat": 4,
 "nbformat_minor": 2
}
