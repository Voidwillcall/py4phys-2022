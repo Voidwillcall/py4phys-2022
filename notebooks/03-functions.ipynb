{
 "cells": [
  {
   "cell_type": "markdown",
   "metadata": {},
   "source": [
    "## Indentation\n",
    "- *indentation* means shifting a line of code by either a given number of spaces or a tab (`Tab` key);\n",
    "- a tab is a *single* special character that is visualised as an empty space;\n",
    "- tab-style indentation may have been popular in the past, but today the standard is space-style indentation using 4 whitespaces;\n",
    "- most editors will produce 4 whitespaces by default (or can be set up to do so!)\n",
    "\n",
    "### In python\n",
    "- indentation in python is ***part of the syntax!***\n",
    "- indentation delimits the code of a function, an `if/elif/else` clause, a loop etc.\n",
    "- any number of spaces is recognised, but it has to be consistent\n",
    "\n"
   ]
  },
  {
   "cell_type": "markdown",
   "metadata": {},
   "source": [
    "## Dictionaries tips and tricks"
   ]
  },
  {
   "cell_type": "code",
   "execution_count": 15,
   "metadata": {},
   "outputs": [
    {
     "name": "stdout",
     "output_type": "stream",
     "text": [
      "{'a': 0, 'b': 1, 'c': 2, 'd': 3, 'e': 4, 'f': 5}\n"
     ]
    }
   ],
   "source": [
    "a_dict = { letter: number for number, letter in enumerate('abcdef') }\n",
    "\n",
    "print(a_dict)\n"
   ]
  },
  {
   "cell_type": "code",
   "execution_count": 12,
   "metadata": {},
   "outputs": [],
   "source": [
    "# print(a_dict['h']) # not nice"
   ]
  },
  {
   "cell_type": "code",
   "execution_count": 18,
   "metadata": {},
   "outputs": [
    {
     "name": "stdout",
     "output_type": "stream",
     "text": [
      "None\n"
     ]
    }
   ],
   "source": [
    "print(a_dict.get('h'))"
   ]
  },
  {
   "cell_type": "code",
   "execution_count": 25,
   "metadata": {},
   "outputs": [
    {
     "name": "stdout",
     "output_type": "stream",
     "text": [
      "5\n",
      "-1\n"
     ]
    }
   ],
   "source": [
    "print(a_dict.get('f',-1))\n",
    "print(a_dict.get('g',-1))"
   ]
  },
  {
   "cell_type": "markdown",
   "metadata": {},
   "source": [
    "## `defaultdict`\n",
    "`defaultdict` is a dictionary associated to a function, the output of this function is the default value for all non-existent keys"
   ]
  },
  {
   "cell_type": "code",
   "execution_count": 11,
   "metadata": {},
   "outputs": [],
   "source": [
    "from collections import defaultdict"
   ]
  },
  {
   "cell_type": "code",
   "execution_count": 15,
   "metadata": {},
   "outputs": [
    {
     "name": "stdout",
     "output_type": "stream",
     "text": [
      "custom value\n",
      "default value\n",
      "defaultdict(<function init_value at 0x7f1d504b7c70>, {0: 'custom value', 1: 'default value'})\n"
     ]
    }
   ],
   "source": [
    "def init_value():\n",
    "    return \"default value\"\n",
    "\n",
    "a = defaultdict(init_value)\n",
    "a[0] = \"custom value\"\n",
    "print(a[0])\n",
    "print(a[1])\n",
    "\n",
    "print(a)"
   ]
  },
  {
   "cell_type": "markdown",
   "metadata": {},
   "source": [
    "More useful when we do not know all our keys in advance."
   ]
  },
  {
   "cell_type": "code",
   "execution_count": 16,
   "metadata": {},
   "outputs": [
    {
     "name": "stdout",
     "output_type": "stream",
     "text": [
      "defaultdict(<class 'int'>, {'H': 1, 'e': 1, 'l': 3, 'o': 2, ' ': 1, 'W': 1, 'r': 1, 'd': 1, '!': 1})\n"
     ]
    }
   ],
   "source": [
    "freq = defaultdict(int)\n",
    "\n",
    "message = \"Hello World!\"\n",
    "\n",
    "for letter in message:\n",
    "    freq[letter] += 1\n",
    " \n",
    "print(freq)"
   ]
  },
  {
   "cell_type": "markdown",
   "metadata": {},
   "source": [
    "# Functions"
   ]
  },
  {
   "cell_type": "markdown",
   "metadata": {},
   "source": [
    "What are functions?\n",
    "- from maths: relation between two sets A and B that assign to each element of A exactly one element of B\n",
    "- in computing: similar concept, but in general (1) A and B are loosely defined (2) the association is determined through an algorithm."
   ]
  },
  {
   "cell_type": "markdown",
   "metadata": {},
   "source": [
    "## Example function"
   ]
  },
  {
   "cell_type": "code",
   "execution_count": 1,
   "metadata": {},
   "outputs": [],
   "source": [
    "def f(a, b):\n",
    "    c = a + b\n",
    "    return c"
   ]
  },
  {
   "cell_type": "code",
   "execution_count": 2,
   "metadata": {},
   "outputs": [
    {
     "data": {
      "text/plain": [
       "5"
      ]
     },
     "execution_count": 2,
     "metadata": {},
     "output_type": "execute_result"
    }
   ],
   "source": [
    "f(3,2)"
   ]
  },
  {
   "cell_type": "markdown",
   "metadata": {},
   "source": [
    "- `a` and `b` are called *arguments* and represent the input of the function;\n",
    "- `c` is called *return value* and represent the output of the function;\n",
    "- the combination of arguments and return values takes the name of *signature* of a function (not very important in `python`, much more in compiled languages);\n",
    "- functions return **one** item, don't they?"
   ]
  },
  {
   "cell_type": "code",
   "execution_count": 3,
   "metadata": {},
   "outputs": [],
   "source": [
    "def g(a, b):\n",
    "    c = a + b\n",
    "    d = a - b\n",
    "    return c, d\n",
    "\n",
    "def h():\n",
    "    return\n",
    "    # pass"
   ]
  },
  {
   "cell_type": "code",
   "execution_count": 4,
   "metadata": {},
   "outputs": [
    {
     "name": "stdout",
     "output_type": "stream",
     "text": [
      "5 1\n"
     ]
    }
   ],
   "source": [
    "sum, diff = g(3,2)\n",
    "print(sum, diff)"
   ]
  },
  {
   "cell_type": "code",
   "execution_count": 5,
   "metadata": {},
   "outputs": [
    {
     "name": "stdout",
     "output_type": "stream",
     "text": [
      "(5, 1) <class 'tuple'>\n"
     ]
    }
   ],
   "source": [
    "print(g(3,2), type(g(3,2)))"
   ]
  },
  {
   "cell_type": "code",
   "execution_count": 6,
   "metadata": {},
   "outputs": [
    {
     "name": "stdout",
     "output_type": "stream",
     "text": [
      "None <class 'NoneType'>\n"
     ]
    }
   ],
   "source": [
    "print(h(), type(h()))"
   ]
  },
  {
   "cell_type": "markdown",
   "metadata": {},
   "source": [
    "Functions in `python` return always exactly one item, but this item can actually be a collection. If you try to return more than one value, python will create a tuple for you."
   ]
  },
  {
   "cell_type": "markdown",
   "metadata": {},
   "source": [
    "## Positional arguments and keyword arguments\n",
    "- when calling a function with a sequence of arguments, we say we are *passing* the arguments to the function;\n",
    "- `python` function accepts arguments passing either by position or by keyword;\n",
    "- keyword arguments must alwasy follow positional arguments!"
   ]
  },
  {
   "cell_type": "code",
   "execution_count": 30,
   "metadata": {},
   "outputs": [
    {
     "name": "stdout",
     "output_type": "stream",
     "text": [
      "1 2 3\n",
      "1 2 3\n",
      "1 2 3\n"
     ]
    }
   ],
   "source": [
    "def f(a, b, c):\n",
    "    print(a, b, c)\n",
    "\n",
    "f(1,2,3) # position\n",
    "f(a=1, b=2, c=3) # keywords\n",
    "f(1, 2, c=3) # mixed\n",
    "# f(a=1, 2, 3)"
   ]
  },
  {
   "cell_type": "markdown",
   "metadata": {},
   "source": [
    "### Do all arguments need to be defined a priori?\n",
    "**No**!"
   ]
  },
  {
   "cell_type": "code",
   "execution_count": 47,
   "metadata": {},
   "outputs": [],
   "source": [
    "def f(arg, *args, **kwargs):\n",
    "    print(arg) # a name\n",
    "    print(args) # a tuple\n",
    "    print(kwargs) # a dictionary"
   ]
  },
  {
   "cell_type": "code",
   "execution_count": 48,
   "metadata": {},
   "outputs": [
    {
     "name": "stdout",
     "output_type": "stream",
     "text": [
      "1\n",
      "(2, 3)\n",
      "{'d': 4, 'e': 5}\n"
     ]
    }
   ],
   "source": [
    "f(1,2,3,d=4, e=5)"
   ]
  },
  {
   "cell_type": "markdown",
   "metadata": {},
   "source": [
    "This gives you a lot of flexibility but be careful in taking advantage of it. It is not a good idea to have too little control on what is passed to your function."
   ]
  },
  {
   "cell_type": "markdown",
   "metadata": {},
   "source": [
    "### What if I want more control?\n",
    "You can separate positional arguments from keyword arguments with a `*`. All the arguments after the `*` will be required to be passed as keywords."
   ]
  },
  {
   "cell_type": "code",
   "execution_count": 1,
   "metadata": {},
   "outputs": [],
   "source": [
    "def f(a, b, *, c, d):\n",
    "    return a * d - b * c"
   ]
  },
  {
   "cell_type": "code",
   "execution_count": 3,
   "metadata": {},
   "outputs": [
    {
     "data": {
      "text/plain": [
       "-2"
      ]
     },
     "execution_count": 3,
     "metadata": {},
     "output_type": "execute_result"
    }
   ],
   "source": [
    "# f(1,2,3,4)\n",
    "f(1,2, c=3, d=4)"
   ]
  },
  {
   "cell_type": "markdown",
   "metadata": {},
   "source": [
    "## Type hints\n",
    "- python is dynamically typed: you can do whatever you want and there will be little control about the types you use!\n",
    "- from python 3.5 *type hints* are supported: we can indicate what types a function is supposed to take as arguments and what type it returns!"
   ]
  },
  {
   "cell_type": "code",
   "execution_count": 7,
   "metadata": {},
   "outputs": [
    {
     "name": "stdout",
     "output_type": "stream",
     "text": [
      "1 is less than or equal to 2\n",
      "1.5 is less than or equal to 3.5\n"
     ]
    }
   ],
   "source": [
    "def f(a : int, b : int) -> str:\n",
    "    if a > b:\n",
    "        return f\"{a} is greater than {b}\"\n",
    "    else:\n",
    "        return f\"{a} is less than or equal to {b}\"\n",
    "\n",
    "print(f(1, 2))\n",
    "\n",
    "print(f(1.5, 3.5))"
   ]
  },
  {
   "cell_type": "markdown",
   "metadata": {},
   "source": [
    "- the python interpreter does not complain if you don't respect type hints, after all it is a *dynamically typed* language!\n",
    "- type hints are useful **to you** to remember how a function is supposed to behave: they may seem (and probably are) unnecessary at this level but it is important to **pick good habits** from the start! \n",
    "- there are tools known as **static type checkers** (one is `mypy`) that can check if your code respect all the type declarations."
   ]
  },
  {
   "cell_type": "code",
   "execution_count": 9,
   "metadata": {},
   "outputs": [
    {
     "data": {
      "text/plain": [
       "12"
      ]
     },
     "execution_count": 9,
     "metadata": {},
     "output_type": "execute_result"
    }
   ],
   "source": [
    "# one more advanced example...\n",
    "\n",
    "from typing import Collection\n",
    "\n",
    "def sum_list(v : Collection[float]) -> float:\n",
    "    return sum(v)\n",
    "\n",
    "sum_list([1,5,6])"
   ]
  },
  {
   "cell_type": "markdown",
   "metadata": {},
   "source": [
    "## Composition\n",
    "Naturally, a function can call another function."
   ]
  },
  {
   "cell_type": "code",
   "execution_count": 57,
   "metadata": {},
   "outputs": [
    {
     "data": {
      "text/plain": [
       "10"
      ]
     },
     "execution_count": 57,
     "metadata": {},
     "output_type": "execute_result"
    }
   ],
   "source": [
    "def f(x):\n",
    "    return x + 1\n",
    "\n",
    "def inv_f(x):\n",
    "    return x - 1\n",
    "\n",
    "f(inv_f(10))"
   ]
  },
  {
   "cell_type": "markdown",
   "metadata": {},
   "source": [
    "## Recursion\n",
    "- Recursion is a classic paradigm of computing where a function includes a call to itself in its body.\n",
    "- For recursion to work without resulting in an infinite loop eating all your computer's memory, there must be conditions that cause the function to exit without calling itself.\n",
    "- Most naturally recursive problems can naturally be resolved with iterations."
   ]
  },
  {
   "cell_type": "code",
   "execution_count": 19,
   "metadata": {},
   "outputs": [],
   "source": [
    "def fibonacci(n : int) -> int:\n",
    "    \"\"\"\n",
    "    Calculate the n-th fibonacci number\n",
    "    \"\"\"\n",
    "    if n == 0:\n",
    "        return 0\n",
    "    elif n == 1:\n",
    "        return 1\n",
    "    else:\n",
    "        return fibonacci(n - 1) + fibonacci(n - 2)\n"
   ]
  },
  {
   "cell_type": "code",
   "execution_count": 20,
   "metadata": {},
   "outputs": [
    {
     "data": {
      "text/plain": [
       "3"
      ]
     },
     "execution_count": 20,
     "metadata": {},
     "output_type": "execute_result"
    }
   ],
   "source": [
    "fibonacci(4)"
   ]
  },
  {
   "cell_type": "markdown",
   "metadata": {},
   "source": [
    "## Lambda function\n",
    "The `lambda` statement in python allows to define anonymous functions.\n",
    "\n"
   ]
  },
  {
   "cell_type": "code",
   "execution_count": 38,
   "metadata": {},
   "outputs": [],
   "source": [
    "sq1 = lambda a : a**2\n",
    "\n",
    "def sq2(x):\n",
    "    return x ** 2"
   ]
  },
  {
   "cell_type": "code",
   "execution_count": 39,
   "metadata": {},
   "outputs": [
    {
     "name": "stdout",
     "output_type": "stream",
     "text": [
      "25\n",
      "25\n"
     ]
    }
   ],
   "source": [
    "print(sq1(5))\n",
    "print(sq2(5))\n"
   ]
  },
  {
   "cell_type": "markdown",
   "metadata": {},
   "source": [
    "Like this it seems just a redundant syntax, however it allows more powerful uses like generating functions parametrically."
   ]
  },
  {
   "cell_type": "code",
   "execution_count": 41,
   "metadata": {},
   "outputs": [],
   "source": [
    "def pow(n):\n",
    "    return lambda x : x**n\n",
    "\n",
    "sq = pow(2)\n",
    "cu = pow(3)"
   ]
  },
  {
   "cell_type": "code",
   "execution_count": 48,
   "metadata": {},
   "outputs": [
    {
     "name": "stdout",
     "output_type": "stream",
     "text": [
      "4 8\n"
     ]
    }
   ],
   "source": [
    "print(sq(2), cu(2))"
   ]
  },
  {
   "cell_type": "markdown",
   "metadata": {},
   "source": [
    "Another common paradigm: let's say you have a function `f(x, y)` that you want to use many times fixing `x` and varying `y`."
   ]
  },
  {
   "cell_type": "code",
   "execution_count": 46,
   "metadata": {},
   "outputs": [],
   "source": [
    "def times(x, y):\n",
    "    return x * y\n",
    "\n",
    "x0 = 5\n",
    "times_5 = lambda a : times(x0, a)"
   ]
  },
  {
   "cell_type": "code",
   "execution_count": 47,
   "metadata": {},
   "outputs": [
    {
     "name": "stdout",
     "output_type": "stream",
     "text": [
      "25\n"
     ]
    }
   ],
   "source": [
    "print(g(5)) "
   ]
  },
  {
   "cell_type": "markdown",
   "metadata": {},
   "source": [
    "## Built-in functions\n",
    "A list of built-in functions is available at https://docs.python.org/3.11/library/functions.\n",
    "- numeric: `abs()` absolute value, `divmod()`  combination of `//` and `%`, `min()`, `max()`, `sum()`, `pow()`, `round()`,\n",
    "- boolean: `any()`, `all()`\n",
    "- list manipulation: `reversed()`, `sorted()`\n",
    "- character conversion: `chr()` (int to character)\n"
   ]
  },
  {
   "cell_type": "markdown",
   "metadata": {},
   "source": [
    "### Map and filter..."
   ]
  },
  {
   "cell_type": "code",
   "execution_count": 53,
   "metadata": {},
   "outputs": [
    {
     "name": "stdout",
     "output_type": "stream",
     "text": [
      "<filter object at 0x7f1d5061a6e0>\n",
      "1\n",
      "2\n",
      "3\n"
     ]
    }
   ],
   "source": [
    "a_list = [1, 2, 3, \"a\", \"b\", \"c\"]\n",
    "\n",
    "list_numbers = filter(lambda x: isinstance(x, int), a_list)\n",
    "list_letters = filter(lambda x: isinstance(x, str), a_list)\n",
    "\n",
    "print(list_numbers)\n",
    "\n",
    "for n in list_numbers:\n",
    "    print(n)"
   ]
  },
  {
   "cell_type": "markdown",
   "metadata": {},
   "source": [
    "What is happening here? The filter object is an iterator and needs to be \"unwrapped\"."
   ]
  },
  {
   "cell_type": "code",
   "execution_count": 54,
   "metadata": {},
   "outputs": [
    {
     "name": "stdout",
     "output_type": "stream",
     "text": [
      "<map object at 0x7f1d50f1af50>\n"
     ]
    }
   ],
   "source": [
    "n_list = range(10)\n",
    "\n",
    "square_list = map(lambda x : x**2, n_list)\n",
    "\n",
    "print(square_list)"
   ]
  },
  {
   "cell_type": "code",
   "execution_count": 55,
   "metadata": {},
   "outputs": [
    {
     "name": "stdout",
     "output_type": "stream",
     "text": [
      "[0, 1, 4, 9, 16, 25, 36, 49, 64, 81]\n"
     ]
    }
   ],
   "source": [
    "print(list(square_list))"
   ]
  },
  {
   "cell_type": "code",
   "execution_count": 59,
   "metadata": {},
   "outputs": [
    {
     "name": "stdout",
     "output_type": "stream",
     "text": [
      "135 ns ± 3.51 ns per loop (mean ± std. dev. of 7 runs, 10,000,000 loops each)\n"
     ]
    }
   ],
   "source": [
    "%%timeit\n",
    "\n",
    "square_list = map(lambda x : x**2, n_list)\n"
   ]
  },
  {
   "cell_type": "code",
   "execution_count": 61,
   "metadata": {},
   "outputs": [
    {
     "name": "stdout",
     "output_type": "stream",
     "text": [
      "2.29 µs ± 12.5 ns per loop (mean ± std. dev. of 7 runs, 100,000 loops each)\n"
     ]
    }
   ],
   "source": [
    "%%timeit\n",
    "square_list = [x**2 for x in n_list]"
   ]
  }
 ],
 "metadata": {
  "kernelspec": {
   "display_name": "Python 3.10.5 ('science')",
   "language": "python",
   "name": "python3"
  },
  "language_info": {
   "codemirror_mode": {
    "name": "ipython",
    "version": 3
   },
   "file_extension": ".py",
   "mimetype": "text/x-python",
   "name": "python",
   "nbconvert_exporter": "python",
   "pygments_lexer": "ipython3",
   "version": "3.10.5"
  },
  "orig_nbformat": 4,
  "vscode": {
   "interpreter": {
    "hash": "e22a2eb9a392155e6c1a70cb0bf3a6766fcf0e144014212996f1e147d1c2c35e"
   }
  }
 },
 "nbformat": 4,
 "nbformat_minor": 2
}
