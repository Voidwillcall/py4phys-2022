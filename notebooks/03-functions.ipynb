{
 "cells": [
  {
   "cell_type": "markdown",
   "metadata": {},
   "source": [
    "## Indentation\n",
    "- *indentation* means shifting a line of code by either a given number of spaces or a tab (`Tab` key);\n",
    "- a tab is a *single* special character that is visualised as an empty space;\n",
    "- tab-style indentation may have been popular in the past, but today the standard is space-style indentation using 4 whitespaces;\n",
    "- most editors will produce 4 whitespaces by default (or can be set up to do so!)\n",
    "\n",
    "### In python\n",
    "- indentation in python is ***part of the syntax!***\n",
    "- indentation delimits the code of a function, an `if/elif/else` clause, a loop etc.\n",
    "- any number of spaces is recognised, but it has to be consistent\n",
    "\n"
   ]
  },
  {
   "cell_type": "markdown",
   "metadata": {},
   "source": [
    "## Tips and tricks"
   ]
  },
  {
   "cell_type": "code",
   "execution_count": 15,
   "metadata": {},
   "outputs": [
    {
     "name": "stdout",
     "output_type": "stream",
     "text": [
      "{'a': 0, 'b': 1, 'c': 2, 'd': 3, 'e': 4, 'f': 5}\n"
     ]
    }
   ],
   "source": [
    "a_dict = { letter: number for number, letter in enumerate('abcdef') }\n",
    "\n",
    "print(a_dict)\n"
   ]
  },
  {
   "cell_type": "code",
   "execution_count": 12,
   "metadata": {},
   "outputs": [],
   "source": [
    "# print(a_dict['h']) # not nice"
   ]
  },
  {
   "cell_type": "code",
   "execution_count": 18,
   "metadata": {},
   "outputs": [
    {
     "name": "stdout",
     "output_type": "stream",
     "text": [
      "None\n"
     ]
    }
   ],
   "source": [
    "print(a_dict.get('h'))"
   ]
  },
  {
   "cell_type": "code",
   "execution_count": 25,
   "metadata": {},
   "outputs": [
    {
     "name": "stdout",
     "output_type": "stream",
     "text": [
      "5\n",
      "-1\n"
     ]
    }
   ],
   "source": [
    "print(a_dict.get('f',-1))\n",
    "print(a_dict.get('g',-1))"
   ]
  },
  {
   "cell_type": "markdown",
   "metadata": {},
   "source": [
    "# Functions"
   ]
  },
  {
   "cell_type": "markdown",
   "metadata": {},
   "source": [
    "What are functions?\n",
    "- from maths: relation between two sets A and B that assign to each element of A exactly one element of B\n",
    "- in computing: similar concept, but in general (1) A and B are loosely defined (2) the association is determined through an algorithm."
   ]
  },
  {
   "cell_type": "markdown",
   "metadata": {},
   "source": [
    "## Example function"
   ]
  },
  {
   "cell_type": "code",
   "execution_count": 1,
   "metadata": {},
   "outputs": [],
   "source": [
    "def f(a, b):\n",
    "    c = a + b\n",
    "    return c"
   ]
  },
  {
   "cell_type": "code",
   "execution_count": 2,
   "metadata": {},
   "outputs": [
    {
     "data": {
      "text/plain": [
       "5"
      ]
     },
     "execution_count": 2,
     "metadata": {},
     "output_type": "execute_result"
    }
   ],
   "source": [
    "f(3,2)"
   ]
  },
  {
   "cell_type": "markdown",
   "metadata": {},
   "source": [
    "- `a` and `b` are called *arguments* and represent the input of the function;\n",
    "- `c` is called *return value* and represent the output of the function;\n",
    "- the combination of arguments and return values takes the name of *signature* of a function (not very important in `python`, much more in compiled languages);\n",
    "- functions return **one** item, don't they?"
   ]
  },
  {
   "cell_type": "code",
   "execution_count": 3,
   "metadata": {},
   "outputs": [],
   "source": [
    "def g(a, b):\n",
    "    c = a + b\n",
    "    d = a - b\n",
    "    return c, d\n",
    "\n",
    "def h():\n",
    "    return\n",
    "    # pass"
   ]
  },
  {
   "cell_type": "code",
   "execution_count": 4,
   "metadata": {},
   "outputs": [
    {
     "name": "stdout",
     "output_type": "stream",
     "text": [
      "5 1\n"
     ]
    }
   ],
   "source": [
    "sum, diff = g(3,2)\n",
    "print(sum, diff)"
   ]
  },
  {
   "cell_type": "code",
   "execution_count": 5,
   "metadata": {},
   "outputs": [
    {
     "name": "stdout",
     "output_type": "stream",
     "text": [
      "(5, 1) <class 'tuple'>\n"
     ]
    }
   ],
   "source": [
    "print(g(3,2), type(g(3,2)))"
   ]
  },
  {
   "cell_type": "code",
   "execution_count": 6,
   "metadata": {},
   "outputs": [
    {
     "name": "stdout",
     "output_type": "stream",
     "text": [
      "None <class 'NoneType'>\n"
     ]
    }
   ],
   "source": [
    "print(h(), type(h()))"
   ]
  },
  {
   "cell_type": "markdown",
   "metadata": {},
   "source": [
    "Functions in `python` return always exactly one item, but this item can actually be a collection. If you try to return more than one value, python will create a tuple for you."
   ]
  },
  {
   "cell_type": "markdown",
   "metadata": {},
   "source": [
    "## Positional arguments and keyword arguments\n",
    "- when calling a function with a sequence of arguments, we say we are *passing* the arguments to the function;\n",
    "- `python` function accepts arguments passing either by position or by keyword;\n",
    "- keyword arguments must alwasy follow positional arguments!"
   ]
  },
  {
   "cell_type": "code",
   "execution_count": 30,
   "metadata": {},
   "outputs": [
    {
     "name": "stdout",
     "output_type": "stream",
     "text": [
      "1 2 3\n",
      "1 2 3\n",
      "1 2 3\n"
     ]
    }
   ],
   "source": [
    "def f(a, b, c):\n",
    "    print(a, b, c)\n",
    "\n",
    "f(1,2,3) # position\n",
    "f(a=1, b=2, c=3) # keywords\n",
    "f(1, 2, c=3) # mixed\n",
    "# f(a=1, 2, 3)"
   ]
  },
  {
   "cell_type": "markdown",
   "metadata": {},
   "source": [
    "## Do all arguments need to be defined a priori?\n",
    "No!"
   ]
  },
  {
   "cell_type": "code",
   "execution_count": 40,
   "metadata": {},
   "outputs": [],
   "source": [
    "def f(arg, *args, **kwargs):\n",
    "    print(arg) # a name\n",
    "    print(args) # a tuple\n",
    "    print(kwargs) # a dictionary"
   ]
  },
  {
   "cell_type": "code",
   "execution_count": 41,
   "metadata": {},
   "outputs": [
    {
     "name": "stdout",
     "output_type": "stream",
     "text": [
      "1\n",
      "(2, 3)\n",
      "{'d': 4, 'e': 5}\n"
     ]
    },
    {
     "ename": "NameError",
     "evalue": "name 'e' is not defined",
     "output_type": "error",
     "traceback": [
      "\u001b[0;31m---------------------------------------------------------------------------\u001b[0m",
      "\u001b[0;31mNameError\u001b[0m                                 Traceback (most recent call last)",
      "\u001b[1;32m/home/lincetto/Work/py4phys-2022/notebooks/03-functions.ipynb Cell 22\u001b[0m in \u001b[0;36m<cell line: 1>\u001b[0;34m()\u001b[0m\n\u001b[0;32m----> <a href='vscode-notebook-cell:/home/lincetto/Work/py4phys-2022/notebooks/03-functions.ipynb#X52sZmlsZQ%3D%3D?line=0'>1</a>\u001b[0m f(\u001b[39m1\u001b[39;49m,\u001b[39m2\u001b[39;49m,\u001b[39m3\u001b[39;49m,d\u001b[39m=\u001b[39;49m\u001b[39m4\u001b[39;49m, e\u001b[39m=\u001b[39;49m\u001b[39m5\u001b[39;49m)\n",
      "\u001b[1;32m/home/lincetto/Work/py4phys-2022/notebooks/03-functions.ipynb Cell 22\u001b[0m in \u001b[0;36mf\u001b[0;34m(arg, *args, **kwargs)\u001b[0m\n\u001b[1;32m      <a href='vscode-notebook-cell:/home/lincetto/Work/py4phys-2022/notebooks/03-functions.ipynb#X52sZmlsZQ%3D%3D?line=2'>3</a>\u001b[0m \u001b[39mprint\u001b[39m(args) \u001b[39m# a tuple\u001b[39;00m\n\u001b[1;32m      <a href='vscode-notebook-cell:/home/lincetto/Work/py4phys-2022/notebooks/03-functions.ipynb#X52sZmlsZQ%3D%3D?line=3'>4</a>\u001b[0m \u001b[39mprint\u001b[39m(kwargs) \u001b[39m# a dictionary\u001b[39;00m\n\u001b[0;32m----> <a href='vscode-notebook-cell:/home/lincetto/Work/py4phys-2022/notebooks/03-functions.ipynb#X52sZmlsZQ%3D%3D?line=4'>5</a>\u001b[0m \u001b[39mprint\u001b[39m(d, e)\n",
      "\u001b[0;31mNameError\u001b[0m: name 'e' is not defined"
     ]
    }
   ],
   "source": [
    "f(1,2,3,d=4, e=5)"
   ]
  },
  {
   "cell_type": "markdown",
   "metadata": {},
   "source": [
    "This gives you a lot of flexibility but be careful in taking advantage of it. It is not a good idea to have too little control on what is passed to your function."
   ]
  },
  {
   "cell_type": "code",
   "execution_count": 39,
   "metadata": {},
   "outputs": [
    {
     "name": "stdout",
     "output_type": "stream",
     "text": [
      "1\n",
      "(2, 3)\n",
      "{'d': 4, 'e': 5}\n"
     ]
    }
   ],
   "source": []
  }
 ],
 "metadata": {
  "kernelspec": {
   "display_name": "Python 3.10.5 ('science')",
   "language": "python",
   "name": "python3"
  },
  "language_info": {
   "codemirror_mode": {
    "name": "ipython",
    "version": 3
   },
   "file_extension": ".py",
   "mimetype": "text/x-python",
   "name": "python",
   "nbconvert_exporter": "python",
   "pygments_lexer": "ipython3",
   "version": "3.10.5"
  },
  "orig_nbformat": 4,
  "vscode": {
   "interpreter": {
    "hash": "e22a2eb9a392155e6c1a70cb0bf3a6766fcf0e144014212996f1e147d1c2c35e"
   }
  }
 },
 "nbformat": 4,
 "nbformat_minor": 2
}
