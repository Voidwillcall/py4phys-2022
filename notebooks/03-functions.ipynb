{
 "cells": [
  {
   "cell_type": "markdown",
   "metadata": {},
   "source": [
    "#### Warm-up exercise to recall iterations"
   ]
  },
  {
   "cell_type": "code",
   "execution_count": 13,
   "metadata": {},
   "outputs": [
    {
     "name": "stdout",
     "output_type": "stream",
     "text": [
      "NGC 5128        D=3.70e+00 Mpc, L=1.00e+40 erg/s\n",
      "TXS 0506+056    D=1.75e+03 Mpc, L=3.00e+46 erg/s\n",
      "NGC 1068        D=1.44e+01 Mpc, L=4.90e+38 erg/s\n",
      "GB6 J1040+0617  D=1.51e+04 Mpc, L=6.20e+45 erg/s\n",
      "TXS 2226-184    D=1.07e+02 Mpc, L=5.50e+41 erg/s\n"
     ]
    }
   ],
   "source": [
    "names = [\"NGC 5128\", \"TXS 0506+056\", \"NGC 1068\", \"GB6 J1040+0617\", \"TXS 2226-184\"]\n",
    "distances = [3.7, 1.75e3, 14.4, 1.51e4, 107.1]  # Mpc\n",
    "luminosities = [1e40, 3e46, 4.9e38, 6.2e45, 5.5e41] # erg/s\n",
    "\n",
    "gal_cat = list(zip(names, distances, luminosities))\n",
    "\n",
    "for name, dist, lum in gal_cat:\n",
    "    print(f\"{name:15s} D={dist:.2e} Mpc, L={lum:.2e} erg/s\")"
   ]
  },
  {
   "cell_type": "markdown",
   "metadata": {
    "tags": []
   },
   "source": [
    "# (Almost) all about functions\n",
    "### 11/11/2022"
   ]
  },
  {
   "cell_type": "markdown",
   "metadata": {},
   "source": [
    "In general, a function takes ***arguments*** as input, processes them, and ***returns*** a result as output "
   ]
  },
  {
   "cell_type": "code",
   "execution_count": 37,
   "metadata": {},
   "outputs": [
    {
     "name": "stdout",
     "output_type": "stream",
     "text": [
      "3.54e-09 erg/s\n"
     ]
    }
   ],
   "source": [
    "from math import pi\n",
    "\n",
    "# From here on, you're expected to document all your functions \n",
    "# with a docstring, like in the one below. You can read about \n",
    "# docstrings towards the end of this notebook.\n",
    "\n",
    "def calc_flux(luminosity, distance_mpc):\n",
    "    '''\n",
    "    '''\n",
    "    distance_cm = distance_mpc * 3e24\n",
    "    flux = luminosity / (4 * pi * distance_cm ** 2)\n",
    "    return flux\n",
    "\n",
    "lum, dist = 4e45, 100\n",
    "\n",
    "flux = calc_flux(lum, dist)\n",
    "\n",
    "print(f\"{flux:.2e} erg/s\")"
   ]
  },
  {
   "cell_type": "markdown",
   "metadata": {},
   "source": [
    "If you forget a `return` statement, your function will return `None`"
   ]
  },
  {
   "cell_type": "code",
   "execution_count": 17,
   "metadata": {},
   "outputs": [
    {
     "name": "stdout",
     "output_type": "stream",
     "text": [
      "None\n"
     ]
    }
   ],
   "source": [
    "def add_one(num):\n",
    "    num += 1\n",
    "    \n",
    "print(add_one(10))"
   ]
  },
  {
   "cell_type": "markdown",
   "metadata": {},
   "source": [
    "### Scope"
   ]
  },
  {
   "cell_type": "code",
   "execution_count": 18,
   "metadata": {
    "tags": []
   },
   "outputs": [],
   "source": [
    "count = 0\n",
    "\n",
    "def bad_function():\n",
    "    count += 1\n",
    "\n",
    "# stepup() # Calling this function will return an error"
   ]
  },
  {
   "cell_type": "markdown",
   "metadata": {},
   "source": [
    "Variables defined inside the namespace of a function are *local* to that function.\n",
    "\n",
    "Variables created outside a function are called *global* variables"
   ]
  },
  {
   "cell_type": "code",
   "execution_count": 19,
   "metadata": {},
   "outputs": [
    {
     "name": "stdout",
     "output_type": "stream",
     "text": [
      "1\n",
      "1\n",
      "2\n"
     ]
    }
   ],
   "source": [
    "def add_one(count):\n",
    "    count += 1 # count is a local variable because it's an argument\n",
    "    return count\n",
    "\n",
    "\n",
    "count = 1      # global \n",
    "print(count)\n",
    "\n",
    "add_one(count) # this is returning 2 and we're doing nothing with the result\n",
    "print(count)   # global variable is unaffected\n",
    "\n",
    "count = add_one(count) # only now are we updating the variable count \n",
    "print(count)"
   ]
  },
  {
   "cell_type": "markdown",
   "metadata": {},
   "source": [
    "Best practice: call differently your arguments, local variables and global variables"
   ]
  },
  {
   "cell_type": "code",
   "execution_count": 20,
   "metadata": {},
   "outputs": [
    {
     "name": "stdout",
     "output_type": "stream",
     "text": [
      "1\n",
      "2\n"
     ]
    }
   ],
   "source": [
    "# Exercise\n",
    "def add_one(n):\n",
    "    res = n + 1  # Both n and res are local variables\n",
    "    return res\n",
    "\n",
    "count = 1      # Calling our global and local variables differently\n",
    "               # avoids confusion\n",
    "print(count)\n",
    "count = add_one(count) # this returns 2 and we're replacing our global variable with it\n",
    "print(count)   # global variable is changed\n"
   ]
  },
  {
   "cell_type": "markdown",
   "metadata": {},
   "source": [
    "A function can return *any* type, including lists, dictionaries, booleans, or even functions"
   ]
  },
  {
   "cell_type": "code",
   "execution_count": 21,
   "metadata": {},
   "outputs": [
    {
     "name": "stdout",
     "output_type": "stream",
     "text": [
      "False\n"
     ]
    }
   ],
   "source": [
    "def is_detectable(flux):\n",
    "    return flux > 1e-11\n",
    "\n",
    "print(is_detectable(1e-12))\n"
   ]
  },
  {
   "cell_type": "code",
   "execution_count": 22,
   "metadata": {},
   "outputs": [
    {
     "name": "stdout",
     "output_type": "stream",
     "text": [
      "NGC 5128        is not detectable\n",
      "TXS 0506+056    is detectable\n",
      "NGC 1068        is not detectable\n",
      "GB6 J1040+0617  is not detectable\n",
      "TXS 2226-184    is not detectable\n"
     ]
    }
   ],
   "source": [
    "# Exercise:\n",
    "def is_detectable(luminosity, distance):\n",
    "    flux = calc_flux(luminosity, distance)\n",
    "    return flux > 1e-11\n",
    "\n",
    "for name,dis,lum in gal_cat:\n",
    "    if is_detectable(lum, dis):\n",
    "        print(f\"{name:15s} is detectable\")\n",
    "    else:\n",
    "        print(f\"{name:15s} is not detectable\")"
   ]
  },
  {
   "cell_type": "markdown",
   "metadata": {},
   "source": [
    "A function termintes the first time that `return` is called - beware of pitfalls!"
   ]
  },
  {
   "cell_type": "code",
   "execution_count": 23,
   "metadata": {},
   "outputs": [
    {
     "name": "stdout",
     "output_type": "stream",
     "text": [
      "First resolved galaxy: TXS 0506+056\n"
     ]
    }
   ],
   "source": [
    "def find_first_detectable(catalog):\n",
    "    for name, dis, lum in catalog:\n",
    "        if is_detectable(lum, dis):\n",
    "            return name\n",
    "\n",
    "firstname = find_first_detectable(gal_cat)\n",
    "print(f\"First resolved galaxy: {firstname}\")  # I can do this\n",
    "# print(f\"First resolved galaxy: {firstname:s}\") # But I wouldn't be able to do this"
   ]
  },
  {
   "cell_type": "markdown",
   "metadata": {},
   "source": [
    "The problem with the above function is that if there are no elements that satisfy our requirement, the `return` statement will never be called and the function will return a `NoneType`. Let's fix that:"
   ]
  },
  {
   "cell_type": "code",
   "execution_count": 24,
   "metadata": {},
   "outputs": [
    {
     "name": "stdout",
     "output_type": "stream",
     "text": [
      "First resolved galaxy: TXS 0506+056\n"
     ]
    }
   ],
   "source": [
    "# Exercise: fix the above function\n",
    "\n",
    "def find_first_detectable(catalog):\n",
    "    firstname = \"None!\"\n",
    "    for name, dis, lum in catalog:\n",
    "        if is_detectable(lum, dis):\n",
    "            firstname = name\n",
    "    return firstname\n",
    "\n",
    "firstname = find_first_detectable(gal_cat)\n",
    "print(f\"First resolved galaxy: {firstname:s}\") # Now I know that a string will always be returned"
   ]
  },
  {
   "cell_type": "markdown",
   "metadata": {},
   "source": [
    "Python functions are extremely flexible and can even return multiple variables of different types"
   ]
  },
  {
   "cell_type": "code",
   "execution_count": 25,
   "metadata": {},
   "outputs": [
    {
     "name": "stdout",
     "output_type": "stream",
     "text": [
      "(8.841941282883073e-10, True)\n",
      "A flux of {results[1]:.2e} erg/cm2/s is detectable!\n",
      "\n",
      "8.841941282883073e-10 True\n",
      "A flux of {flx:.2e} erg/cm2/s is detectable!\n",
      "\n"
     ]
    }
   ],
   "source": [
    "def assess_flux(luminosity, distance):\n",
    "    flux = calc_flux(luminosity, distance)\n",
    "    isdetect = is_detectable(luminosity, distance)\n",
    "    return flux, isdetect\n",
    "\n",
    "results  = assess_flux(1e45, 100)\n",
    "print(results)\n",
    "\n",
    "if results[0]:\n",
    "    print(\"A flux of {results[1]:.2e} erg/cm2/s is detectable!\\n\")\n",
    "\n",
    "# A better syntax is to \"unpack\" the result into different variables:\n",
    "\n",
    "flx, isdet = assess_flux(1e45, 100)\n",
    "\n",
    "print(flx, isdet)\n",
    "\n",
    "if isdet:\n",
    "    print(\"A flux of {flx:.2e} erg/cm2/s is detectable!\\n\")"
   ]
  },
  {
   "cell_type": "markdown",
   "metadata": {},
   "source": [
    "### Keyword arguments"
   ]
  },
  {
   "cell_type": "markdown",
   "metadata": {},
   "source": [
    "We can give some arguments default values. These are called *keyword* arguments, while the ones that are not defaulted are called *positional* arguments"
   ]
  },
  {
   "cell_type": "code",
   "execution_count": 26,
   "metadata": {},
   "outputs": [
    {
     "data": {
      "text/plain": [
       "True"
      ]
     },
     "execution_count": 26,
     "metadata": {},
     "output_type": "execute_result"
    }
   ],
   "source": [
    "# Exercise:\n",
    "def is_detectable(luminosity, distance, threshold=1e-11): # luminosity and distance are positional: \n",
    "                                                          # they must always be passed then calling \n",
    "                                                          # the function. threshold is keyword, and will\n",
    "                                                          # be defaulted to 1e-11 if I don't pass it\n",
    "                                                          # to the function\n",
    "                                                        \n",
    "    flux = calc_flux(luminosity, distance)\n",
    "    return flux > threshold\n",
    "\n",
    "is_detectable(1e45,100) # I don't give any value of threshold,\n",
    "                        # so Python assumes the default value \n",
    "                        # I defined in the function (in this case 1e-11) \n",
    "        \n",
    "is_detectable(1e45,100, 1e-12) # Now Python takes  the default value \n",
    "                        # I defined in the function \n",
    "        "
   ]
  },
  {
   "cell_type": "markdown",
   "metadata": {},
   "source": [
    "These defaulted parameters must come ***after*** all the undefined arguments"
   ]
  },
  {
   "cell_type": "code",
   "execution_count": 27,
   "metadata": {},
   "outputs": [],
   "source": [
    "# Trying to define a function like this will throw an error:\n",
    "\n",
    "# def is_detectable(luminosity, threshold=1e-11, distance):\n",
    "#     flux = calc_flux(luminosity, distance)\n",
    "#     return flux > threshold"
   ]
  },
  {
   "cell_type": "markdown",
   "metadata": {},
   "source": [
    "When you add a parameter to a function, always remember to update all the functions that depend on it! "
   ]
  },
  {
   "cell_type": "code",
   "execution_count": 28,
   "metadata": {},
   "outputs": [],
   "source": [
    "# Exercise: \n",
    "def find_first_detectable(catalog, threshold=1e-11):\n",
    "    firstname = \"None!\"\n",
    "    for name, dis, lum in catalog:\n",
    "        if is_detectable(lum, dis, threshold): # I pass on the threshold\n",
    "                                               # parameter to all functions\n",
    "                                               # that depend on it\n",
    "            firstname = name\n",
    "    return firstname"
   ]
  },
  {
   "cell_type": "markdown",
   "metadata": {},
   "source": [
    "## Recursion\n",
    "\n",
    "Functions can not only depend on other functions, but also on themselves. In curs"
   ]
  },
  {
   "cell_type": "code",
   "execution_count": 32,
   "metadata": {},
   "outputs": [
    {
     "name": "stdout",
     "output_type": "stream",
     "text": [
      "0\n",
      "1\n",
      "1\n",
      "2\n",
      "3\n",
      "5\n",
      "8\n",
      "13\n",
      "21\n",
      "34\n",
      "55\n",
      "89\n"
     ]
    }
   ],
   "source": [
    "def fibonacci(n):\n",
    "    if n <= 1:\n",
    "        return n\n",
    "    else:\n",
    "        return fibonacci(n - 1) + fibonacci(n - 2)\n",
    "    \n",
    "for i in range(12):\n",
    "    print(fibonacci(i))"
   ]
  },
  {
   "cell_type": "code",
   "execution_count": 30,
   "metadata": {},
   "outputs": [
    {
     "name": "stdout",
     "output_type": "stream",
     "text": [
      "0 1\n",
      "1 1\n",
      "2 2\n",
      "3 6\n",
      "4 24\n",
      "5 120\n",
      "6 720\n",
      "7 5040\n",
      "8 40320\n",
      "9 362880\n"
     ]
    }
   ],
   "source": [
    "# Exercise\n",
    "def factorial(n):\n",
    "    if n <= 1:\n",
    "        return 1\n",
    "    else:\n",
    "        return n * factorial(n-1)\n",
    "\n",
    "for i in range(10):\n",
    "    print(i, factorial(i))"
   ]
  },
  {
   "cell_type": "markdown",
   "metadata": {},
   "source": [
    "### Defining functions in one line with `lambda`"
   ]
  },
  {
   "cell_type": "code",
   "execution_count": 35,
   "metadata": {},
   "outputs": [
    {
     "name": "stdout",
     "output_type": "stream",
     "text": [
      "24.0 3628800\n",
      "A=3, B=4 -> C = 5.0\n"
     ]
    }
   ],
   "source": [
    "# I can also write the above function as\n",
    "\n",
    "fibonacci = lambda n: n * factorial(n-1) if n > 1 else 1\n",
    "\n",
    "print(fibonacci(4.), fibonacci(10))\n",
    "\n",
    "# lambda functions can also take several arguments\n",
    "# (but should be used only for simple tasks)\n",
    "\n",
    "hypothenuse = lambda x,y: (x ** 2 + y ** 2) ** 0.5\n",
    "\n",
    "sa, sb = 3, 4\n",
    "sc = hypothenuse(sa,sb)\n",
    "print(f\"A={sa}, B={sb} -> C = {sc}\")"
   ]
  },
  {
   "cell_type": "markdown",
   "metadata": {
    "tags": []
   },
   "source": [
    "### Applying functions to sequences with `map()`  "
   ]
  },
  {
   "cell_type": "code",
   "execution_count": 12,
   "metadata": {},
   "outputs": [
    {
     "name": "stdout",
     "output_type": "stream",
     "text": [
      "[0, 1, 2, 3, 4, 5, 6, 7, 8, 9, 10]\n",
      "[0, 1, 8, 27, 64, 125, 216, 343, 512, 729, 1000]\n"
     ]
    }
   ],
   "source": [
    "xvals = list(range(11))\n",
    "\n",
    "f1 = lambda x: x ** 3\n",
    "yvals = list(map(f1, xvals))\n",
    "\n",
    "print (xvals)\n",
    "print (yvals)"
   ]
  },
  {
   "cell_type": "code",
   "execution_count": 39,
   "metadata": {},
   "outputs": [
    {
     "name": "stdout",
     "output_type": "stream",
     "text": [
      "[6.4586861087531586e-12, 8.661493501599748e-11, 2.089386202070171e-14, 2.404282090867728e-13, 4.2396633647669894e-13]\n"
     ]
    }
   ],
   "source": [
    "# Exercise\n",
    "\n",
    "calcflux = lambda row: calc_flux(row[2], row[1])\n",
    "fluxes = list(map(calcflux, gal_cat))\n",
    "print(fluxes)"
   ]
  },
  {
   "cell_type": "markdown",
   "metadata": {},
   "source": [
    "### Docstrings"
   ]
  },
  {
   "cell_type": "markdown",
   "metadata": {},
   "source": [
    "Adding docstrings to your functions will help you become a better programmer and a better scientist!\n",
    "\n",
    "Your future self and your collaborators will appreciate it, becuase your code will be clearer, which will help prevent errors in your results. (On top of this, your future employers will love seeing your neatly documented code on your GitHub repository) \n",
    "\n",
    "Even in the most obvious cases, your docstring should be at least one line: "
   ]
  },
  {
   "cell_type": "code",
   "execution_count": 229,
   "metadata": {},
   "outputs": [],
   "source": [
    "def add_one(n):\n",
    "    \"\"\"Calculate n+1 and return the result.\"\"\"\n",
    "    res = n + 1  \n",
    "    return res\n",
    "\n",
    "def check_script():\n",
    "    \"\"\"Check if the script is running.\"\"\""
   ]
  },
  {
   "cell_type": "markdown",
   "metadata": {},
   "source": [
    "If the funtion does somthing more complex, you should write a more complere docstring, in this general form:"
   ]
  },
  {
   "cell_type": "code",
   "execution_count": 227,
   "metadata": {},
   "outputs": [],
   "source": [
    "def my_function(par1, par2):\n",
    "    \"\"\"\n",
    "    One-line description of the purpose of the function.\n",
    "\n",
    "    If necessary, you can add here a second paragraph explaining in detail\n",
    "    the rationale and usage of the function, including an example if \n",
    "    necessary. By using three quotation marks, every line in between is \n",
    "    interpreted as part of the same string. So use line breaks like this \n",
    "    to keep your lines short.\n",
    "    \n",
    "    Args:\n",
    "        par1: a number\n",
    "        par2: a second number\n",
    "    \n",
    "    Returns:\n",
    "        The result of some operation on our input\n",
    "    \"\"\"\n",
    "    res = some_operation(par1, par2)\n",
    "    return res"
   ]
  },
  {
   "cell_type": "markdown",
   "metadata": {},
   "source": [
    "Strings written in this fashion will become the docstring of the funcion, which will help you future self or your collaborators understand your code:"
   ]
  },
  {
   "cell_type": "code",
   "execution_count": 226,
   "metadata": {},
   "outputs": [
    {
     "name": "stdout",
     "output_type": "stream",
     "text": [
      "Help on function my_function in module __main__:\n",
      "\n",
      "my_function(par1, par2)\n",
      "    One-line description of the purpose of the function.\n",
      "    \n",
      "    If necessary, you can add here a second paragraph explaining in detail\n",
      "    the rationale and usage of the function, including an example if \n",
      "    necessary. By using three quotation marks, every line in between is \n",
      "    interpreted as part of the same string. So use line breaks like this \n",
      "    to keep your lines short.\n",
      "    \n",
      "    Args:\n",
      "        par1: a number\n",
      "        par2: a second number\n",
      "    \n",
      "    Returns:\n",
      "        The result of some operation on our input\n",
      "\n"
     ]
    }
   ],
   "source": [
    "help(my_function)"
   ]
  },
  {
   "cell_type": "code",
   "execution_count": 222,
   "metadata": {},
   "outputs": [
    {
     "name": "stdout",
     "output_type": "stream",
     "text": [
      "Help on built-in function len in module builtins:\n",
      "\n",
      "len(obj, /)\n",
      "    Return the number of items in a container.\n",
      "\n"
     ]
    }
   ],
   "source": [
    "help(len)"
   ]
  },
  {
   "cell_type": "markdown",
   "metadata": {},
   "source": [
    "In the Jupyter environment, you can also get the docstring by pressing Shift+Tab on a function."
   ]
  },
  {
   "cell_type": "markdown",
   "metadata": {},
   "source": [
    "Here I'm using my docstrings in the so-called Google format. There are other options, as you can read about online:\n",
    "\n",
    "https://stackoverflow.com/questions/3898572/what-are-the-most-common-python-docstring-formats https://betterprogramming.pub/3-different-docstring-formats-for-python-d27be81e0d68\n",
    "\n",
    "For more on how to write good docstrings, check out the PEP conventions:\n",
    "\n",
    "https://peps.python.org/pep-0257/"
   ]
  },
  {
   "cell_type": "code",
   "execution_count": null,
   "metadata": {},
   "outputs": [],
   "source": []
  }
 ],
 "metadata": {
  "kernelspec": {
   "display_name": "Python 3",
   "language": "python",
   "name": "python3"
  },
  "language_info": {
   "codemirror_mode": {
    "name": "ipython",
    "version": 3
   },
   "file_extension": ".py",
   "mimetype": "text/x-python",
   "name": "python",
   "nbconvert_exporter": "python",
   "pygments_lexer": "ipython3",
   "version": "3.9.12"
  },
  "vscode": {
   "interpreter": {
    "hash": "ad60ba3d6748ebfd779dff164ecdca54fbf007dbac97c522a9077ed5230659e8"
   }
  }
 },
 "nbformat": 4,
 "nbformat_minor": 4
}
