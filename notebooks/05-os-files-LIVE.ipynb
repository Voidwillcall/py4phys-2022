{
 "cells": [
  {
   "cell_type": "markdown",
   "metadata": {},
   "source": [
    "# Operating system and files"
   ]
  },
  {
   "cell_type": "markdown",
   "metadata": {},
   "source": [
    "## Before we start... `import`\n",
    "To interact with the operating system and read files, we need to *import a module*:\n",
    "```python\n",
    "import os\n",
    "```\n",
    "\n",
    "- What is a **module**? A file containing `python` code (variables, function definitions, classes).\n",
    "- What does it mean to **import a module**? When we import a module, `python` runs all the code in the module, as simple as that.\n",
    "- Most of the times, a module only contains *definitions* and is not supposed to execute any function.\n"
   ]
  },
  {
   "cell_type": "code",
   "execution_count": null,
   "metadata": {},
   "outputs": [],
   "source": [
    "import os\n",
    "print(os.name)"
   ]
  },
  {
   "cell_type": "markdown",
   "metadata": {},
   "source": [
    "## Paths\n",
    "Paths identify a file on a filesystem.\n",
    "\n",
    "Examples:\n",
    "- Windows path: `C:\\User\\Documents\\file.ext`\n",
    "- Linux path: `/home/user/file`.\n",
    "\n",
    "In Windows, most filenames have extensions and extensions is how the OS determines the file type.\n",
    "In Linux, file type and extension are unrelated at a fundamental level but extensions are of help to the user and applications.\n",
    "\n",
    "White it is technically possible to manipulate paths as strings, **don't do it**. It's messy, ugly and does not play well across different operating systems!"
   ]
  },
  {
   "cell_type": "markdown",
   "metadata": {},
   "source": [
    "### Python paths, the old way\n"
   ]
  },
  {
   "cell_type": "code",
   "execution_count": null,
   "metadata": {},
   "outputs": [],
   "source": [
    "# Let's find out our current directory\n",
    "base_dir = os.getcwd()\n",
    "print(base_dir)"
   ]
  },
  {
   "cell_type": "markdown",
   "metadata": {},
   "source": [
    "### Python paths, the cool way\n",
    "We have noticed that, after all, we are still manipulating a path as a string. Can we do better?"
   ]
  },
  {
   "cell_type": "code",
   "execution_count": null,
   "metadata": {},
   "outputs": [],
   "source": [
    "from pathlib import Path"
   ]
  },
  {
   "cell_type": "code",
   "execution_count": null,
   "metadata": {},
   "outputs": [],
   "source": [
    "base_dir = Path(base_dir)"
   ]
  },
  {
   "cell_type": "markdown",
   "metadata": {},
   "source": [
    "- We can manipulate paths as objects.\n",
    "- Better functionality in the form of class and instance methods of `Path`.\n",
    "- Awesome `/` operator! "
   ]
  },
  {
   "cell_type": "markdown",
   "metadata": {},
   "source": [
    "## First file: a text file"
   ]
  },
  {
   "cell_type": "code",
   "execution_count": null,
   "metadata": {},
   "outputs": [],
   "source": [
    "# first, some data\n",
    "names = [\"NGC 5128\", \"TXS 0506+056\", \"NGC 1068\", \"GB6 J1040+0617\", \"TXS 2226-184\"]\n",
    "distances = [3.7, 1.75e3, 14.4, 1.51e4, 107.1]  # Mpc\n",
    "luminosities = [1e40, 3e46, 4.9e38, 6.2e45, 5.5e41] # erg/s\n",
    "\n",
    "dataset = { 'names' : names, 'distances' : distances, 'luminosities' : luminosities }"
   ]
  },
  {
   "cell_type": "code",
   "execution_count": null,
   "metadata": {},
   "outputs": [],
   "source": [
    "filename = 'datafile.dat'"
   ]
  },
  {
   "cell_type": "markdown",
   "metadata": {},
   "source": [
    "By default, the file is opened in text mode, means that:\n",
    "- only characters/string can be written;\n",
    "- everything is read as a character."
   ]
  },
  {
   "cell_type": "markdown",
   "metadata": {},
   "source": [
    "## Binary files\n",
    "- Writing binary content by hand is complicate and messy.\n",
    "- In `python` we can use `pickle` to dump an arbitary object into a file."
   ]
  },
  {
   "cell_type": "code",
   "execution_count": null,
   "metadata": {},
   "outputs": [],
   "source": [
    "import pickle"
   ]
  },
  {
   "cell_type": "markdown",
   "metadata": {},
   "source": [
    "Works with basically any object (even your own classes), but it also very opaque:\n",
    "- `python` specific, no cross-language standard;\n",
    "- basically you need to know in advance what's inside the file;\n",
    "- writing and reading iteratively is possible but complicate."
   ]
  },
  {
   "cell_type": "markdown",
   "metadata": {},
   "source": [
    "## The magic of JSON\n",
    "- JSON (JavaScript Object Notation) is a standard encoding format that allows to write multiple data types in the form of a text file.\n",
    "- You can think of a JSON file as a big nested dictionary.\n",
    "- Most `python` native data types can be written as a JSON file. "
   ]
  },
  {
   "cell_type": "code",
   "execution_count": null,
   "metadata": {},
   "outputs": [],
   "source": [
    "import json"
   ]
  },
  {
   "cell_type": "markdown",
   "metadata": {},
   "source": [
    "- It seems like python syntax, but this is JSON.\n",
    "- The file is human-readable!"
   ]
  },
  {
   "cell_type": "markdown",
   "metadata": {},
   "source": [
    "## CSV\n",
    "CSV is acronym for \"comma separated values\", it is the format of choice for tabular data. A CSV files consists of lines (entries) where different values (fields) are separated by commas.  "
   ]
  },
  {
   "cell_type": "code",
   "execution_count": null,
   "metadata": {},
   "outputs": [],
   "source": [
    "import csv"
   ]
  }
 ],
 "metadata": {
  "kernelspec": {
   "display_name": "Python 3.10.5 ('science')",
   "language": "python",
   "name": "python3"
  },
  "language_info": {
   "codemirror_mode": {
    "name": "ipython",
    "version": 3
   },
   "file_extension": ".py",
   "mimetype": "text/x-python",
   "name": "python",
   "nbconvert_exporter": "python",
   "pygments_lexer": "ipython3",
   "version": "3.10.5"
  },
  "orig_nbformat": 4,
  "vscode": {
   "interpreter": {
    "hash": "e22a2eb9a392155e6c1a70cb0bf3a6766fcf0e144014212996f1e147d1c2c35e"
   }
  }
 },
 "nbformat": 4,
 "nbformat_minor": 2
}
