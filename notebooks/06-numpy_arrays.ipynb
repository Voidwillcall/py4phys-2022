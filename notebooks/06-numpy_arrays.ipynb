{
 "cells": [
  {
   "cell_type": "markdown",
   "metadata": {
    "tags": []
   },
   "source": [
    "# Intro to numpy arrays\n",
    "### 2/12/2022"
   ]
  },
  {
   "cell_type": "code",
   "execution_count": 1,
   "metadata": {},
   "outputs": [],
   "source": [
    "import numpy as np;"
   ]
  },
  {
   "cell_type": "markdown",
   "metadata": {},
   "source": [
    "## Creating 1D arrays"
   ]
  },
  {
   "cell_type": "code",
   "execution_count": 2,
   "metadata": {},
   "outputs": [
    {
     "name": "stdout",
     "output_type": "stream",
     "text": [
      "[ 0  1  2  3  4  5  6  7  8  9 10 11 12 13 14]\n"
     ]
    }
   ],
   "source": [
    "arr1 = np.arange(15)\n",
    "print(arr1)"
   ]
  },
  {
   "cell_type": "code",
   "execution_count": 3,
   "metadata": {},
   "outputs": [
    {
     "name": "stdout",
     "output_type": "stream",
     "text": [
      "[ 3  5  7  9 11 13 15 17 19 21 23]\n"
     ]
    }
   ],
   "source": [
    "arr2 = np.arange(3,25,2)\n",
    "print(arr2)"
   ]
  },
  {
   "cell_type": "code",
   "execution_count": 4,
   "metadata": {},
   "outputs": [
    {
     "data": {
      "text/plain": [
       "array([], dtype=float64)"
      ]
     },
     "execution_count": 4,
     "metadata": {},
     "output_type": "execute_result"
    }
   ],
   "source": [
    "np.array([])"
   ]
  },
  {
   "cell_type": "code",
   "execution_count": 5,
   "metadata": {},
   "outputs": [
    {
     "data": {
      "text/plain": [
       "array([2.5, 2.5, 2.5, 2.5, 2.5, 2.5, 2.5, 2.5, 2.5, 2.5])"
      ]
     },
     "execution_count": 5,
     "metadata": {},
     "output_type": "execute_result"
    }
   ],
   "source": [
    "np.full(10,2.5)"
   ]
  },
  {
   "cell_type": "code",
   "execution_count": 6,
   "metadata": {},
   "outputs": [
    {
     "data": {
      "text/plain": [
       "array([1., 1., 1., 1., 1., 1., 1., 1., 1., 1.])"
      ]
     },
     "execution_count": 6,
     "metadata": {},
     "output_type": "execute_result"
    }
   ],
   "source": [
    "np.ones(10) # Same as np.full(10,1.)"
   ]
  },
  {
   "cell_type": "code",
   "execution_count": 7,
   "metadata": {},
   "outputs": [
    {
     "data": {
      "text/plain": [
       "array([0., 0., 0., 0., 0., 0., 0., 0., 0., 0.])"
      ]
     },
     "execution_count": 7,
     "metadata": {},
     "output_type": "execute_result"
    }
   ],
   "source": [
    "np.zeros(10)# Same as np.full(10, 0.)"
   ]
  },
  {
   "cell_type": "code",
   "execution_count": 8,
   "metadata": {},
   "outputs": [
    {
     "data": {
      "text/plain": [
       "array([], dtype=float64)"
      ]
     },
     "execution_count": 8,
     "metadata": {},
     "output_type": "execute_result"
    }
   ],
   "source": [
    "np.zeros(0) # Same as np.array([])"
   ]
  },
  {
   "cell_type": "code",
   "execution_count": 9,
   "metadata": {},
   "outputs": [
    {
     "name": "stdout",
     "output_type": "stream",
     "text": [
      "15\n"
     ]
    }
   ],
   "source": [
    "# Check the size of an array\n",
    "print(arr1.size)"
   ]
  },
  {
   "cell_type": "code",
   "execution_count": 10,
   "metadata": {},
   "outputs": [
    {
     "data": {
      "text/plain": [
       "array([ 10.        ,  11.83673469,  13.67346939,  15.51020408,\n",
       "        17.34693878,  19.18367347,  21.02040816,  22.85714286,\n",
       "        24.69387755,  26.53061224,  28.36734694,  30.20408163,\n",
       "        32.04081633,  33.87755102,  35.71428571,  37.55102041,\n",
       "        39.3877551 ,  41.2244898 ,  43.06122449,  44.89795918,\n",
       "        46.73469388,  48.57142857,  50.40816327,  52.24489796,\n",
       "        54.08163265,  55.91836735,  57.75510204,  59.59183673,\n",
       "        61.42857143,  63.26530612,  65.10204082,  66.93877551,\n",
       "        68.7755102 ,  70.6122449 ,  72.44897959,  74.28571429,\n",
       "        76.12244898,  77.95918367,  79.79591837,  81.63265306,\n",
       "        83.46938776,  85.30612245,  87.14285714,  88.97959184,\n",
       "        90.81632653,  92.65306122,  94.48979592,  96.32653061,\n",
       "        98.16326531, 100.        ])"
      ]
     },
     "execution_count": 10,
     "metadata": {},
     "output_type": "execute_result"
    }
   ],
   "source": [
    "np.linspace(10,100,50)"
   ]
  },
  {
   "cell_type": "code",
   "execution_count": 11,
   "metadata": {},
   "outputs": [
    {
     "name": "stdout",
     "output_type": "stream",
     "text": [
      "[ 30  36  42  48  54  60  66  72  78  84  90  96 102 108 114]\n"
     ]
    }
   ],
   "source": [
    "iarr = np.arange(30,120,6)\n",
    "print(iarr)"
   ]
  },
  {
   "cell_type": "code",
   "execution_count": 12,
   "metadata": {},
   "outputs": [
    {
     "name": "stdout",
     "output_type": "stream",
     "text": [
      "[ 0  1  2  3  4  5  6  7  8  9 10 11 12 13 14  0  1  2  3  4  5  6  7  8\n",
      "  9 10 11 12 13 14]\n"
     ]
    }
   ],
   "source": [
    "arr4 = np.concatenate([arr1,arr1])\n",
    "print(arr4)"
   ]
  },
  {
   "cell_type": "markdown",
   "metadata": {},
   "source": [
    "## Indexing in 1D"
   ]
  },
  {
   "cell_type": "code",
   "execution_count": 14,
   "metadata": {},
   "outputs": [
    {
     "name": "stdout",
     "output_type": "stream",
     "text": [
      "4\n"
     ]
    }
   ],
   "source": [
    "print(arr4[4])"
   ]
  },
  {
   "cell_type": "code",
   "execution_count": 15,
   "metadata": {},
   "outputs": [
    {
     "name": "stdout",
     "output_type": "stream",
     "text": [
      "[2 3 4 5]\n"
     ]
    }
   ],
   "source": [
    "print(arr4[2:6])"
   ]
  },
  {
   "cell_type": "code",
   "execution_count": 20,
   "metadata": {},
   "outputs": [
    {
     "name": "stdout",
     "output_type": "stream",
     "text": [
      "[0 1 2]\n"
     ]
    }
   ],
   "source": [
    "print(arr4[:3]) # Same as arr4[0:3]"
   ]
  },
  {
   "cell_type": "code",
   "execution_count": 21,
   "metadata": {},
   "outputs": [
    {
     "name": "stdout",
     "output_type": "stream",
     "text": [
      "[ 3  4  5  6  7  8  9 10 11 12 13 14  0  1  2  3  4  5  6  7  8  9 10 11\n",
      " 12 13 14]\n"
     ]
    }
   ],
   "source": [
    "print(arr4[3:])"
   ]
  },
  {
   "cell_type": "code",
   "execution_count": 22,
   "metadata": {},
   "outputs": [
    {
     "name": "stdout",
     "output_type": "stream",
     "text": [
      "[ 0  1  2  3  4  5  6  7  8  9 10 11 12 13 14  0  1  2  3  4  5  6  7  8\n",
      "  9 10 11 12 13 14]\n"
     ]
    }
   ],
   "source": [
    "print(arr4[:]) # Same as arr4"
   ]
  },
  {
   "cell_type": "code",
   "execution_count": 23,
   "metadata": {},
   "outputs": [
    {
     "name": "stdout",
     "output_type": "stream",
     "text": [
      "[ 0  1  2  3  4  5  6  7  8  9 10 11 12 13 14  0  1  2  3  4  5  6  7  8\n",
      "  9 10 11 12 13]\n"
     ]
    }
   ],
   "source": [
    "print(arr4[:-1]) # Doesn't contain the last one!"
   ]
  },
  {
   "cell_type": "markdown",
   "metadata": {},
   "source": [
    "## Simple array operations"
   ]
  },
  {
   "cell_type": "code",
   "execution_count": 24,
   "metadata": {},
   "outputs": [
    {
     "name": "stdout",
     "output_type": "stream",
     "text": [
      "[ 10.  20.  30.  40.  50.  60.  70.  80.  90. 100.]\n"
     ]
    }
   ],
   "source": [
    "atens = np.linspace(10,100,10)\n",
    "print(atens)"
   ]
  },
  {
   "cell_type": "code",
   "execution_count": 25,
   "metadata": {},
   "outputs": [
    {
     "name": "stdout",
     "output_type": "stream",
     "text": [
      "[0.1 0.2 0.3 0.4 0.5 0.6 0.7 0.8 0.9 1. ]\n"
     ]
    }
   ],
   "source": [
    "print(atens * 0.01)"
   ]
  },
  {
   "cell_type": "code",
   "execution_count": 26,
   "metadata": {},
   "outputs": [
    {
     "name": "stdout",
     "output_type": "stream",
     "text": [
      "[3. 3. 3. 3. 3. 3. 3. 3. 3. 3. 3. 3. 3. 3. 3. 3. 3. 3. 3. 3.]\n",
      "[3. 3. 3. 3. 3. 3. 3. 3. 3. 3. 3. 3. 3. 3. 3. 3. 3. 3. 3. 3.]\n"
     ]
    }
   ],
   "source": [
    "# So these two lines create the same array:\n",
    "atest1 = np.zeros(20) + 3.\n",
    "atest2 = np.full(20, 3.)\n",
    "print(atest1)\n",
    "print(atest2)"
   ]
  },
  {
   "cell_type": "code",
   "execution_count": 27,
   "metadata": {},
   "outputs": [
    {
     "name": "stdout",
     "output_type": "stream",
     "text": [
      "[  0   1   4   9  16  25  36  49  64  81 100 121 144 169 196]\n",
      "[   0    0   -2   -6  -12  -20  -30  -42  -56  -72  -90 -110 -132 -156\n",
      " -182]\n"
     ]
    }
   ],
   "source": [
    "asquare = arr1 ** 2\n",
    "print(asquare)\n",
    "aneg = -asquare + arr1\n",
    "print(aneg)"
   ]
  },
  {
   "cell_type": "code",
   "execution_count": 28,
   "metadata": {
    "tags": []
   },
   "outputs": [
    {
     "name": "stdout",
     "output_type": "stream",
     "text": [
      "[ 0  2  4  6  8 10 12 14 16 18]\n"
     ]
    }
   ],
   "source": [
    "# Note that this is fine...\n",
    "print(np.arange(10) + np.arange(10))\n",
    "\n",
    "# ...but this results in an error:\n",
    "# print(np.arange(10) + np.arange(12))"
   ]
  },
  {
   "cell_type": "markdown",
   "metadata": {},
   "source": [
    "## Comparison operates on an element-by-element basis!"
   ]
  },
  {
   "cell_type": "code",
   "execution_count": 29,
   "metadata": {},
   "outputs": [
    {
     "name": "stdout",
     "output_type": "stream",
     "text": [
      "[ True  True  True  True  True  True  True  True  True  True  True  True\n",
      "  True  True  True]\n"
     ]
    }
   ],
   "source": [
    "islarge = aneg > -1000\n",
    "print(islarge)"
   ]
  },
  {
   "cell_type": "markdown",
   "metadata": {},
   "source": [
    "## Aggreagte functions"
   ]
  },
  {
   "cell_type": "code",
   "execution_count": 30,
   "metadata": {},
   "outputs": [
    {
     "data": {
      "text/plain": [
       "45"
      ]
     },
     "execution_count": 30,
     "metadata": {},
     "output_type": "execute_result"
    }
   ],
   "source": [
    "# Sum\n",
    "arr3 = np.arange(10)\n",
    "np.sum(arr3)"
   ]
  },
  {
   "cell_type": "code",
   "execution_count": 31,
   "metadata": {},
   "outputs": [
    {
     "name": "stdout",
     "output_type": "stream",
     "text": [
      "[3. 4. 5.]\n",
      "60.0\n"
     ]
    }
   ],
   "source": [
    "# Product\n",
    "arr5 = np.linspace(3.,5.,3)\n",
    "print(arr5)\n",
    "arr6 = np.prod(arr5)\n",
    "print(arr6)"
   ]
  },
  {
   "cell_type": "code",
   "execution_count": 32,
   "metadata": {},
   "outputs": [
    {
     "data": {
      "text/plain": [
       "4.0"
      ]
     },
     "execution_count": 32,
     "metadata": {},
     "output_type": "execute_result"
    }
   ],
   "source": [
    "# Exercise: calculate average of x**2 between -1 and 5 using linspace, sum, and size\n",
    "np.mean(arr5)"
   ]
  },
  {
   "cell_type": "code",
   "execution_count": 36,
   "metadata": {},
   "outputs": [
    {
     "data": {
      "text/plain": [
       "(4.0, 3.0, 5.0)"
      ]
     },
     "execution_count": 36,
     "metadata": {},
     "output_type": "execute_result"
    }
   ],
   "source": [
    "np.mean(arr5), np.min(arr5), np.max(arr5)"
   ]
  },
  {
   "cell_type": "markdown",
   "metadata": {},
   "source": [
    "##### Side note: inside math operations, `True` has value 1 and `False` 0"
   ]
  },
  {
   "cell_type": "code",
   "execution_count": 37,
   "metadata": {},
   "outputs": [
    {
     "name": "stdout",
     "output_type": "stream",
     "text": [
      "True + False=1\n",
      "True * False=0\n",
      "True + True=2\n",
      "True * np.pi=3.141592653589793\n",
      "False * np.pi=0.0\n"
     ]
    }
   ],
   "source": [
    "print(f\"{True + False=}\")\n",
    "print(f\"{True * False=}\")\n",
    "print(f\"{True + True=}\")\n",
    "print(f\"{True * np.pi=}\")\n",
    "print(f\"{False * np.pi=}\")"
   ]
  },
  {
   "cell_type": "markdown",
   "metadata": {},
   "source": [
    "This means we can use `np.sum` to count how many elements fulfill our criterion:"
   ]
  },
  {
   "cell_type": "code",
   "execution_count": 38,
   "metadata": {},
   "outputs": [
    {
     "name": "stdout",
     "output_type": "stream",
     "text": [
      "[   0    0   -2   -6  -12  -20  -30  -42  -56  -72  -90 -110 -132 -156\n",
      " -182]\n",
      "15 numbers above 40.\n"
     ]
    }
   ],
   "source": [
    "print(aneg)\n",
    "count = np.sum(aneg > -1000)\n",
    "print(f\"{count} numbers above 40.\")"
   ]
  },
  {
   "cell_type": "code",
   "execution_count": 42,
   "metadata": {},
   "outputs": [
    {
     "name": "stdout",
     "output_type": "stream",
     "text": [
      "True\n",
      "False\n",
      "True\n",
      "False\n"
     ]
    }
   ],
   "source": [
    "print(np.any(aneg < -20))\n",
    "print(np.any(aneg < -200))\n",
    "print(np.all(aneg < 10))\n",
    "print(np.all(aneg < 0))"
   ]
  },
  {
   "cell_type": "markdown",
   "metadata": {},
   "source": [
    "#### Think-pair-share: check that arrays atest1 and atest2 are the same"
   ]
  },
  {
   "cell_type": "code",
   "execution_count": 44,
   "metadata": {},
   "outputs": [
    {
     "data": {
      "text/plain": [
       "True"
      ]
     },
     "execution_count": 44,
     "metadata": {},
     "output_type": "execute_result"
    }
   ],
   "source": [
    "np.all(atest1 == atest2)"
   ]
  },
  {
   "cell_type": "markdown",
   "metadata": {
    "tags": []
   },
   "source": [
    "## Moving up to $n$ dimensions"
   ]
  },
  {
   "cell_type": "code",
   "execution_count": 46,
   "metadata": {},
   "outputs": [
    {
     "name": "stdout",
     "output_type": "stream",
     "text": [
      "(20,)\n",
      "20\n"
     ]
    }
   ],
   "source": [
    "print(atest1.shape)\n",
    "print(atest1.size)"
   ]
  },
  {
   "cell_type": "code",
   "execution_count": 49,
   "metadata": {},
   "outputs": [
    {
     "name": "stdout",
     "output_type": "stream",
     "text": [
      "[[3. 3. 3. 3. 3.]\n",
      " [3. 3. 3. 3. 3.]\n",
      " [3. 3. 3. 3. 3.]\n",
      " [3. 3. 3. 3. 3.]]\n",
      "(4, 5)\n"
     ]
    }
   ],
   "source": [
    "arr2d = atest1.reshape(4,5)\n",
    "print(arr2d)\n",
    "print(arr2d.shape)"
   ]
  },
  {
   "cell_type": "code",
   "execution_count": 50,
   "metadata": {},
   "outputs": [
    {
     "data": {
      "text/plain": [
       "array([[0., 0., 0., 0., 0.],\n",
       "       [0., 0., 0., 0., 0.],\n",
       "       [0., 0., 0., 0., 0.],\n",
       "       [0., 0., 0., 0., 0.],\n",
       "       [0., 0., 0., 0., 0.]])"
      ]
     },
     "execution_count": 50,
     "metadata": {},
     "output_type": "execute_result"
    }
   ],
   "source": [
    "np.zeros((5,5))\n",
    "# same as :\n",
    "# np.zeros(25).reshape(5,5)"
   ]
  },
  {
   "cell_type": "code",
   "execution_count": 51,
   "metadata": {},
   "outputs": [
    {
     "name": "stdout",
     "output_type": "stream",
     "text": [
      "[[ 0  1  2  3  4  5  6  7  8  9]\n",
      " [10 11 12 13 14 15 16 17 18 19]\n",
      " [20 21 22 23 24 25 26 27 28 29]\n",
      " [30 31 32 33 34 35 36 37 38 39]\n",
      " [40 41 42 43 44 45 46 47 48 49]\n",
      " [50 51 52 53 54 55 56 57 58 59]\n",
      " [60 61 62 63 64 65 66 67 68 69]\n",
      " [70 71 72 73 74 75 76 77 78 79]\n",
      " [80 81 82 83 84 85 86 87 88 89]\n",
      " [90 91 92 93 94 95 96 97 98 99]]\n"
     ]
    }
   ],
   "source": [
    "ran2d = np.arange(100).reshape(10,10)\n",
    "print(ran2d)"
   ]
  },
  {
   "cell_type": "code",
   "execution_count": 52,
   "metadata": {},
   "outputs": [
    {
     "name": "stdout",
     "output_type": "stream",
     "text": [
      "[[ 0 10 20 30 40 50 60 70 80 90]\n",
      " [ 1 11 21 31 41 51 61 71 81 91]\n",
      " [ 2 12 22 32 42 52 62 72 82 92]\n",
      " [ 3 13 23 33 43 53 63 73 83 93]\n",
      " [ 4 14 24 34 44 54 64 74 84 94]\n",
      " [ 5 15 25 35 45 55 65 75 85 95]\n",
      " [ 6 16 26 36 46 56 66 76 86 96]\n",
      " [ 7 17 27 37 47 57 67 77 87 97]\n",
      " [ 8 18 28 38 48 58 68 78 88 98]\n",
      " [ 9 19 29 39 49 59 69 79 89 99]]\n"
     ]
    }
   ],
   "source": [
    "rand2d_tr = np.transpose(ran2d)\n",
    "print(rand2d_tr)"
   ]
  },
  {
   "cell_type": "code",
   "execution_count": 54,
   "metadata": {},
   "outputs": [
    {
     "name": "stdout",
     "output_type": "stream",
     "text": [
      "(10, 10) 100\n"
     ]
    }
   ],
   "source": [
    "print(ran2d.shape, ran2d.size)"
   ]
  },
  {
   "cell_type": "markdown",
   "metadata": {},
   "source": [
    "In numpy, indexing doesn't have to be done dimension by dimension, like with lists:"
   ]
  },
  {
   "cell_type": "code",
   "execution_count": 55,
   "metadata": {},
   "outputs": [
    {
     "data": {
      "text/plain": [
       "21"
      ]
     },
     "execution_count": 55,
     "metadata": {},
     "output_type": "execute_result"
    }
   ],
   "source": [
    "ran2d[2][1]"
   ]
  },
  {
   "cell_type": "markdown",
   "metadata": {},
   "source": [
    "Instead, we can access elements directly with multiple indices (faster and more readable)"
   ]
  },
  {
   "cell_type": "code",
   "execution_count": 56,
   "metadata": {},
   "outputs": [
    {
     "data": {
      "text/plain": [
       "21"
      ]
     },
     "execution_count": 56,
     "metadata": {},
     "output_type": "execute_result"
    }
   ],
   "source": [
    "ran2d[2,1]"
   ]
  },
  {
   "cell_type": "markdown",
   "metadata": {},
   "source": [
    "### With this syntax I can also access slices of my arrays along any axis, as well as \"chunks\":"
   ]
  },
  {
   "cell_type": "code",
   "execution_count": 57,
   "metadata": {},
   "outputs": [
    {
     "name": "stdout",
     "output_type": "stream",
     "text": [
      "[[ 0  1  2  3  4  5  6  7  8  9]\n",
      " [10 11 12 13 14 15 16 17 18 19]\n",
      " [20 21 22 23 24 25 26 27 28 29]\n",
      " [30 31 32 33 34 35 36 37 38 39]\n",
      " [40 41 42 43 44 45 46 47 48 49]\n",
      " [50 51 52 53 54 55 56 57 58 59]\n",
      " [60 61 62 63 64 65 66 67 68 69]\n",
      " [70 71 72 73 74 75 76 77 78 79]\n",
      " [80 81 82 83 84 85 86 87 88 89]\n",
      " [90 91 92 93 94 95 96 97 98 99]]\n"
     ]
    }
   ],
   "source": [
    "print(ran2d)"
   ]
  },
  {
   "cell_type": "code",
   "execution_count": 58,
   "metadata": {},
   "outputs": [
    {
     "name": "stdout",
     "output_type": "stream",
     "text": [
      "[10 11 12 13 14 15 16 17 18 19]\n"
     ]
    }
   ],
   "source": [
    "hslice = ran2d[1,:] # Same as ran2d[1] (same as with a list)\n",
    "print(hslice)"
   ]
  },
  {
   "cell_type": "code",
   "execution_count": 59,
   "metadata": {},
   "outputs": [
    {
     "name": "stdout",
     "output_type": "stream",
     "text": [
      "[ 1 11 21 31 41 51 61 71 81 91]\n"
     ]
    }
   ],
   "source": [
    "vslice = ran2d[:,1] # Not so straightforward with lists!\n",
    "print(vslice)"
   ]
  },
  {
   "cell_type": "markdown",
   "metadata": {},
   "source": [
    "### Exercise: create a 3D array from np.arange(100) with any shape you like"
   ]
  },
  {
   "cell_type": "code",
   "execution_count": 60,
   "metadata": {},
   "outputs": [
    {
     "name": "stdout",
     "output_type": "stream",
     "text": [
      "[[[ 0  1  2  3  4  5  6  7  8  9]\n",
      "  [10 11 12 13 14 15 16 17 18 19]\n",
      "  [20 21 22 23 24 25 26 27 28 29]\n",
      "  [30 31 32 33 34 35 36 37 38 39]\n",
      "  [40 41 42 43 44 45 46 47 48 49]]\n",
      "\n",
      " [[50 51 52 53 54 55 56 57 58 59]\n",
      "  [60 61 62 63 64 65 66 67 68 69]\n",
      "  [70 71 72 73 74 75 76 77 78 79]\n",
      "  [80 81 82 83 84 85 86 87 88 89]\n",
      "  [90 91 92 93 94 95 96 97 98 99]]]\n"
     ]
    }
   ],
   "source": [
    "ran3d = ran2d.reshape(2,5,10)\n",
    "print(ran3d)"
   ]
  },
  {
   "cell_type": "markdown",
   "metadata": {},
   "source": [
    "### Think pair share: what parts of my 3D matrix do these lines of code access?"
   ]
  },
  {
   "cell_type": "code",
   "execution_count": 61,
   "metadata": {},
   "outputs": [
    {
     "data": {
      "text/plain": [
       "array([[ 0,  1,  2,  3,  4,  5,  6,  7,  8,  9],\n",
       "       [10, 11, 12, 13, 14, 15, 16, 17, 18, 19],\n",
       "       [20, 21, 22, 23, 24, 25, 26, 27, 28, 29],\n",
       "       [30, 31, 32, 33, 34, 35, 36, 37, 38, 39],\n",
       "       [40, 41, 42, 43, 44, 45, 46, 47, 48, 49]])"
      ]
     },
     "execution_count": 61,
     "metadata": {},
     "output_type": "execute_result"
    }
   ],
   "source": [
    "ran3d[0,:,:]"
   ]
  },
  {
   "cell_type": "code",
   "execution_count": 62,
   "metadata": {},
   "outputs": [
    {
     "data": {
      "text/plain": [
       "array([[ 0,  1,  2,  3,  4,  5,  6,  7,  8,  9],\n",
       "       [50, 51, 52, 53, 54, 55, 56, 57, 58, 59]])"
      ]
     },
     "execution_count": 62,
     "metadata": {},
     "output_type": "execute_result"
    }
   ],
   "source": [
    "ran3d[:,0,:]"
   ]
  },
  {
   "cell_type": "code",
   "execution_count": 63,
   "metadata": {},
   "outputs": [
    {
     "data": {
      "text/plain": [
       "array([[ 0, 10, 20, 30, 40],\n",
       "       [50, 60, 70, 80, 90]])"
      ]
     },
     "execution_count": 63,
     "metadata": {},
     "output_type": "execute_result"
    }
   ],
   "source": [
    "ran3d[:,:,0]"
   ]
  },
  {
   "cell_type": "markdown",
   "metadata": {},
   "source": [
    "## Operating along different axes"
   ]
  },
  {
   "cell_type": "code",
   "execution_count": 64,
   "metadata": {},
   "outputs": [
    {
     "name": "stdout",
     "output_type": "stream",
     "text": [
      "[[0 1]\n",
      " [2 3]\n",
      " [4 5]]\n"
     ]
    }
   ],
   "source": [
    "testmat = np.arange(6).reshape(3,2)\n",
    "print(testmat)"
   ]
  },
  {
   "cell_type": "code",
   "execution_count": 65,
   "metadata": {},
   "outputs": [
    {
     "data": {
      "text/plain": [
       "15"
      ]
     },
     "execution_count": 65,
     "metadata": {},
     "output_type": "execute_result"
    }
   ],
   "source": [
    "np.sum(testmat) # Default of the `axis` parameter is None, \n",
    "                # which simply applies the function to all \n",
    "                # the elements in the array (in this case sum)"
   ]
  },
  {
   "cell_type": "code",
   "execution_count": 66,
   "metadata": {},
   "outputs": [
    {
     "name": "stdout",
     "output_type": "stream",
     "text": [
      "[6 9]\n",
      "[1 5 9]\n"
     ]
    }
   ],
   "source": [
    "print(np.sum(testmat, axis=0)) # This sums along axis 0 \n",
    "                               # (i.e. column by column through the rows)\n",
    "print(np.sum(testmat, axis=1)) # This sums along axis 1\n",
    "                               # (i.e. row by row through the columns)"
   ]
  },
  {
   "cell_type": "markdown",
   "metadata": {},
   "source": [
    "## Advanced indexing"
   ]
  },
  {
   "cell_type": "markdown",
   "metadata": {},
   "source": [
    "#### Example 1: indexing with arrays"
   ]
  },
  {
   "cell_type": "code",
   "execution_count": 67,
   "metadata": {},
   "outputs": [
    {
     "name": "stdout",
     "output_type": "stream",
     "text": [
      "[  7   8  11  16  23  32  43  56  71  88 107 128 151 176 203 232 263 296\n",
      " 331 368]\n",
      "[16 32 43]\n"
     ]
    }
   ],
   "source": [
    "atest = np.arange(20) ** 2 + 7\n",
    "print(atest)\n",
    "aselect = np.array([3,5,6])\n",
    "print(atest[aselect])"
   ]
  },
  {
   "cell_type": "markdown",
   "metadata": {},
   "source": [
    "#### Example 2: indexing with `np.where`"
   ]
  },
  {
   "cell_type": "code",
   "execution_count": 68,
   "metadata": {},
   "outputs": [
    {
     "name": "stdout",
     "output_type": "stream",
     "text": [
      "(array([ 8,  9, 10, 11, 12, 13, 14, 15, 16, 17, 18, 19]),)\n",
      "[ 71  88 107 128 151 176 203 232 263 296 331 368]\n"
     ]
    }
   ],
   "source": [
    "ilarge = np.where(atest > 70)\n",
    "print(ilarge)\n",
    "print(atest[ilarge])"
   ]
  },
  {
   "cell_type": "code",
   "execution_count": 69,
   "metadata": {},
   "outputs": [
    {
     "name": "stdout",
     "output_type": "stream",
     "text": [
      "(array([ 8,  9, 10, 11, 12, 13]),)\n",
      "[ 71  88 107 128 151 176]\n"
     ]
    }
   ],
   "source": [
    "imedium = np.where(np.logical_and(atest > 70,\n",
    "                                  atest < 200)\n",
    "                  )\n",
    "print(imedium)\n",
    "print(atest[imedium])"
   ]
  },
  {
   "cell_type": "code",
   "execution_count": 70,
   "metadata": {},
   "outputs": [
    {
     "name": "stdout",
     "output_type": "stream",
     "text": [
      "(array([ 0,  1,  2,  3,  4,  5,  6,  7, 14, 15, 16, 17, 18, 19]),)\n",
      "[  7   8  11  16  23  32  43  56 203 232 263 296 331 368]\n"
     ]
    }
   ],
   "source": [
    "iextremes = np.where(np.logical_or(atest < 70,\n",
    "                                   atest > 200)\n",
    "                  )\n",
    "print(iextremes) # Doesn't contain indices 8-13 \n",
    "print(atest[iextremes])"
   ]
  },
  {
   "cell_type": "markdown",
   "metadata": {},
   "source": [
    "#### Example 3: `argmax` and `argmin`"
   ]
  },
  {
   "cell_type": "code",
   "execution_count": 71,
   "metadata": {},
   "outputs": [
    {
     "name": "stdout",
     "output_type": "stream",
     "text": [
      "368\n",
      "19\n",
      "368\n"
     ]
    }
   ],
   "source": [
    "maxval = np.max(atest)  # This gives me the maximum value of my array\n",
    "print(maxval)\n",
    "imax = np.argmax(atest) # This gives me the *index* of the maximum-value element\n",
    "print(imax)\n",
    "print(atest[imax])      # Same as np.max(imax)"
   ]
  },
  {
   "cell_type": "markdown",
   "metadata": {},
   "source": [
    "#### Example 4 (advanced)"
   ]
  },
  {
   "cell_type": "code",
   "execution_count": 72,
   "metadata": {},
   "outputs": [
    {
     "name": "stdout",
     "output_type": "stream",
     "text": [
      "Original array:\n",
      " [[[20 21]\n",
      "  [22 23]]\n",
      "\n",
      " [[24 25]\n",
      "  [26 27]]\n",
      "\n",
      " [[28 29]\n",
      "  [30 31]]\n",
      "\n",
      " [[32 33]\n",
      "  [34 35]]\n",
      "\n",
      " [[36 37]\n",
      "  [38 39]]]\n",
      "Even indices:\n",
      " (array([0, 0, 1, 1, 2, 2, 3, 3, 4, 4]), array([0, 1, 0, 1, 0, 1, 0, 1, 0, 1]), array([0, 0, 0, 0, 0, 0, 0, 0, 0, 0]))\n",
      "Even values:\n",
      " [20 22 24 26 28 30 32 34 36 38]\n",
      "Same as:\n",
      " [20 22 24 26 28 30 32 34 36 38]\n"
     ]
    }
   ],
   "source": [
    "aran = np.arange(20,40).reshape(5,2,2) # Take a look at this example if you feel like \n",
    "                                       # working out how np.where works in n>1 dimensions!\n",
    "                                       # (In a nutshell: np.where returns a tuple of\n",
    "                                       # arrays. Each of these arrays gives the indices\n",
    "                                       # along an axis of the original array)\n",
    "print(\"Original array:\\n\", aran)\n",
    "\n",
    "\n",
    "ieven = np.where(aran % 2 == 0) # Let's say we want the even elements\n",
    "print(\"Even indices:\\n\", ieven)\n",
    "\n",
    "aeven = aran[ieven]\n",
    "print(\"Even values:\\n\", aeven) # This is how np.where accesses them  \n",
    "\n",
    "aeven_manual = aran[:,:,0]\n",
    "print(\"Same as:\\n\", aeven) # This is how I would accesses them \"manually\", which\n",
    "                           # is easy for this simple case, but in real-life examples,\n",
    "                           # np.where is often our only option."
   ]
  },
  {
   "cell_type": "markdown",
   "metadata": {},
   "source": [
    "### Example: sinusoidal signals"
   ]
  },
  {
   "cell_type": "code",
   "execution_count": 73,
   "metadata": {},
   "outputs": [
    {
     "name": "stdout",
     "output_type": "stream",
     "text": [
      "[-1.         -0.94581724 -0.78914051 -0.54694816 -0.24548549  0.08257935\n",
      "  0.40169542  0.67728157  0.87947375  0.9863613   0.9863613   0.87947375\n",
      "  0.67728157  0.40169542  0.08257935 -0.24548549 -0.54694816 -0.78914051\n",
      " -0.94581724 -1.        ]\n"
     ]
    }
   ],
   "source": [
    "atheta = np.linspace(-np.pi, np.pi,20)\n",
    "acos = np.cos(atheta)\n",
    "asin = np.sin(atheta) + 0.5\n",
    "\n",
    "print(acos)"
   ]
  },
  {
   "cell_type": "code",
   "execution_count": 74,
   "metadata": {},
   "outputs": [
    {
     "data": {
      "text/plain": [
       "<matplotlib.legend.Legend at 0x7f8ec0f948e0>"
      ]
     },
     "execution_count": 74,
     "metadata": {},
     "output_type": "execute_result"
    },
    {
     "data": {
      "image/png": "[encoded data removed]",
      "text/plain": [
       "<Figure size 432x288 with 1 Axes>"
      ]
     },
     "metadata": {
      "needs_background": "light"
     },
     "output_type": "display_data"
    }
   ],
   "source": [
    "from matplotlib import pyplot as plt # We'll talk more about \n",
    "                                     # plotting in two weeks\n",
    "\n",
    "#           x-axis    y-axis\n",
    "plt.scatter(atheta,   acos,                  label=\"cos(x)\")\n",
    "plt.scatter(atheta,   asin,                  label=\"sin(x) + 0.5\")\n",
    "plt.plot   (atheta,   np.zeros(atheta.size)) # Draw a line at y==0\n",
    "\n",
    "plt.legend(loc='upper left')"
   ]
  },
  {
   "cell_type": "markdown",
   "metadata": {},
   "source": [
    "#### Exercise 0: get the maximum values of asin and acos"
   ]
  },
  {
   "cell_type": "code",
   "execution_count": 75,
   "metadata": {},
   "outputs": [
    {
     "name": "stdout",
     "output_type": "stream",
     "text": [
      "cosmax=0.986, sinmax=1.497\n"
     ]
    }
   ],
   "source": [
    "cosmax = np.max(acos) \n",
    "sinmax = np.max(asin)\n",
    "print(f\"{cosmax=:.3f}, {sinmax=:.3f}\")"
   ]
  },
  {
   "cell_type": "markdown",
   "metadata": {},
   "source": [
    "#### Exercise 1: get the value of asin where the value of acos is max"
   ]
  },
  {
   "cell_type": "code",
   "execution_count": 76,
   "metadata": {},
   "outputs": [
    {
     "name": "stdout",
     "output_type": "stream",
     "text": [
      "Maximum value of asin: 0.335 at i=9\n"
     ]
    }
   ],
   "source": [
    "imaxcos = np.argmax(acos) # Note: this gives you the *first* occurrence of the maximum value!\n",
    "sinval = asin[imaxcos]\n",
    "print(f\"Maximum value of asin: {sinval:.3f} at i={imaxcos}\")"
   ]
  },
  {
   "cell_type": "markdown",
   "metadata": {},
   "source": [
    "#### Exercise 2: select only the positive values of acos"
   ]
  },
  {
   "cell_type": "code",
   "execution_count": 77,
   "metadata": {},
   "outputs": [
    {
     "data": {
      "text/plain": [
       "array([0.08257935, 0.40169542, 0.67728157, 0.87947375, 0.9863613 ,\n",
       "       0.9863613 , 0.87947375, 0.67728157, 0.40169542, 0.08257935])"
      ]
     },
     "execution_count": 77,
     "metadata": {},
     "output_type": "execute_result"
    }
   ],
   "source": [
    "acos[np.where(acos>0)]"
   ]
  },
  {
   "cell_type": "markdown",
   "metadata": {},
   "source": [
    "#### Exercise 3: select the values of atheta, asin and acos in the range where acos is positive "
   ]
  },
  {
   "cell_type": "code",
   "execution_count": 78,
   "metadata": {},
   "outputs": [
    {
     "data": {
      "text/plain": [
       "<matplotlib.legend.Legend at 0x7f8ec0fd32b0>"
      ]
     },
     "execution_count": 78,
     "metadata": {},
     "output_type": "execute_result"
    },
    {
     "data": {
      "image/png": "[encoded data removed]",
      "text/plain": [
       "<Figure size 432x288 with 1 Axes>"
      ]
     },
     "metadata": {
      "needs_background": "light"
     },
     "output_type": "display_data"
    }
   ],
   "source": [
    "isel = np.where(acos > 0)\n",
    "athetasel = atheta[isel]\n",
    "asinsel = asin[isel]\n",
    "acossel = acos[isel]\n",
    "\n",
    "# Plot old arrays\n",
    "plt.scatter(atheta,   acos,                  label=\"cos(x)\")\n",
    "plt.scatter(atheta,   asin,                  label=\"sin(x) + 0.5\")\n",
    "plt.plot   (atheta,   np.zeros(atheta.size)) # Draw a line at y=0\n",
    "\n",
    "# Plot new selected values as large circles\n",
    "#           x-axis      y-axis\n",
    "plt.scatter(athetasel,  acossel, alpha=0.5, s=200)\n",
    "plt.scatter(athetasel,  asinsel, alpha=0.5, s=200)              \n",
    "\n",
    "plt.legend(loc='upper left')"
   ]
  },
  {
   "cell_type": "markdown",
   "metadata": {},
   "source": [
    "#### Exercise 4: create a \"truncated\" array with only the values of acos where they're negative, and zero where they're positive   "
   ]
  },
  {
   "cell_type": "code",
   "execution_count": 79,
   "metadata": {},
   "outputs": [
    {
     "data": {
      "text/plain": [
       "<matplotlib.legend.Legend at 0x7f8ec11b3820>"
      ]
     },
     "execution_count": 79,
     "metadata": {},
     "output_type": "execute_result"
    },
    {
     "data": {
      "image/png": "[encoded data removed]",
      "text/plain": [
       "<Figure size 432x288 with 1 Axes>"
      ]
     },
     "metadata": {
      "needs_background": "light"
     },
     "output_type": "display_data"
    }
   ],
   "source": [
    "atrunc = acos.copy() # copy the original cosine array\n",
    "\n",
    "isel = np.where(acos > 0)\n",
    "atrunc[isel] = 0 # replace positive elements with zero\n",
    "\n",
    "\n",
    "plt.scatter(atheta, acos, label=\"Normal cosine\")  # Plot old array\n",
    "plt.scatter(atheta, atrunc, label=\"Truncated cosine\")  # Plot the new truncated array\n",
    "\n",
    "plt.legend(loc='upper left')\n"
   ]
  },
  {
   "cell_type": "markdown",
   "metadata": {},
   "source": [
    "### A note on `copy()`:"
   ]
  },
  {
   "cell_type": "code",
   "execution_count": 80,
   "metadata": {},
   "outputs": [
    {
     "name": "stdout",
     "output_type": "stream",
     "text": [
      "Case 1:\n",
      "True\n",
      "True\n",
      "Case 2:\n",
      "True\n",
      "False\n",
      "Case 3:\n",
      "True\n",
      "False\n"
     ]
    }
   ],
   "source": [
    "print(\"Case 1:\")\n",
    "arr1 = np.array([1,0,-3])\n",
    "arr2 = arr1\n",
    "print(np.all(arr1 == arr2)) # Same values in the array\n",
    "print(id(arr2) == id(arr1)) # Same location in memory.\n",
    "                            # This means arr1 and arr2 are\n",
    "                            # actually references to the same \n",
    "                            # array, and if I change arr2, I\n",
    "                            # will also be changing arr1!!!!\n",
    "\n",
    "print(\"Case 2:\")\n",
    "arr3 = np.array([1,0,-3])\n",
    "arr4 = arr3.copy()\n",
    "print(np.all(arr3 == arr4)) # Same values in the array\n",
    "print(id(arr3) == id(arr4)) # Different locations in memory\n",
    "                            # (I've truly created a new array)\n",
    "\n",
    "print(\"Case 3:\")\n",
    "arr5 = np.array([1,0,-3])\n",
    "arr6 = arr5 * 1             # Here I operated on the array\n",
    "print(np.all(arr5 == arr6)) # Same values in the array (because\n",
    "                            # I just multiplied by 1.0)\n",
    "print(id(arr5) == id(arr6)) # Different locations in memory.\n",
    "                            # Because I've \"changed\" the \n",
    "                            # original array, python creates a \n",
    "                            # new array, just like with copy()\n",
    "                            "
   ]
  },
  {
   "cell_type": "markdown",
   "metadata": {},
   "source": [
    "### **Important note:** There are many, many useful functions in the numpy package. \n",
    "\n",
    "### So when you're faced with a new task, check the numpy documentation online, and forums like Stackoverflow, because there may be a function out there that does the job faster!\n",
    "\n",
    "In the eample at hand:"
   ]
  },
  {
   "cell_type": "code",
   "execution_count": 81,
   "metadata": {},
   "outputs": [
    {
     "data": {
      "text/plain": [
       "<matplotlib.collections.PathCollection at 0x7f8ec12bf970>"
      ]
     },
     "execution_count": 81,
     "metadata": {},
     "output_type": "execute_result"
    },
    {
     "data": {
      "image/png": "[encoded data removed]",
      "text/plain": [
       "<Figure size 432x288 with 1 Axes>"
      ]
     },
     "metadata": {
      "needs_background": "light"
     },
     "output_type": "display_data"
    }
   ],
   "source": [
    "newarr = np.clip(acos, None, 0)\n",
    "\n",
    "plt.scatter(atheta, acos, label=\"Normal cosine\")  # Plot old array\n",
    "plt.scatter(atheta, newarr, label=\"Truncated cosine\")  # Plot the new truncated array"
   ]
  },
  {
   "cell_type": "markdown",
   "metadata": {},
   "source": [
    "## Concatenating arrays in multiple dimensions"
   ]
  },
  {
   "cell_type": "markdown",
   "metadata": {},
   "source": [
    "Let's take two 2D arrays:"
   ]
  },
  {
   "cell_type": "code",
   "execution_count": 82,
   "metadata": {},
   "outputs": [
    {
     "name": "stdout",
     "output_type": "stream",
     "text": [
      "[[ 0  1  2]\n",
      " [ 3  4  5]\n",
      " [ 6  7  8]\n",
      " [ 9 10 11]\n",
      " [12 13 14]]\n",
      "[[  0  10  20]\n",
      " [ 30  40  50]\n",
      " [ 60  70  80]\n",
      " [ 90 100 110]\n",
      " [120 130 140]]\n",
      "(5, 3) (5, 3)\n"
     ]
    }
   ],
   "source": [
    "arr1 = np.arange(15).reshape(5,3)\n",
    "arr2 = arr1 * 10\n",
    "print(arr1)\n",
    "print(arr2)\n",
    "print(arr1.shape, arr2.shape)"
   ]
  },
  {
   "cell_type": "markdown",
   "metadata": {},
   "source": [
    "By default, concatenation happens along the first dimension (i.e. axis 0):"
   ]
  },
  {
   "cell_type": "code",
   "execution_count": 83,
   "metadata": {},
   "outputs": [
    {
     "name": "stdout",
     "output_type": "stream",
     "text": [
      "[[  0   1   2]\n",
      " [  3   4   5]\n",
      " [  6   7   8]\n",
      " [  9  10  11]\n",
      " [ 12  13  14]\n",
      " [  0  10  20]\n",
      " [ 30  40  50]\n",
      " [ 60  70  80]\n",
      " [ 90 100 110]\n",
      " [120 130 140]]\n",
      "(10, 3)\n"
     ]
    }
   ],
   "source": [
    "conc1 = np.concatenate([arr1, arr2]) # same as passing axis=0\n",
    "print(conc1)\n",
    "print(conc1.shape)"
   ]
  },
  {
   "cell_type": "markdown",
   "metadata": {},
   "source": [
    "To concatenate arrays along other axes, you an specify `axis` parameter, which tells the function the axis along which you want to concatenate the arrays:"
   ]
  },
  {
   "cell_type": "code",
   "execution_count": 84,
   "metadata": {},
   "outputs": [
    {
     "name": "stdout",
     "output_type": "stream",
     "text": [
      "[[  0   1   2   0  10  20]\n",
      " [  3   4   5  30  40  50]\n",
      " [  6   7   8  60  70  80]\n",
      " [  9  10  11  90 100 110]\n",
      " [ 12  13  14 120 130 140]]\n"
     ]
    }
   ],
   "source": [
    "conc2 = np.concatenate([arr1, arr2], axis=1)\n",
    "print(conc2)"
   ]
  },
  {
   "cell_type": "markdown",
   "metadata": {},
   "source": [
    "#### Think-pair-share: which of these 2 operations leads to an error?"
   ]
  },
  {
   "cell_type": "code",
   "execution_count": 86,
   "metadata": {},
   "outputs": [],
   "source": [
    "arr15 = np.arange(15).reshape(5,3)\n",
    "arr10 = np.arange(10).reshape(5,2)\n",
    "\n",
    "## This:\n",
    "# np.concatenate((arr15, arr10), axis=0)\n",
    "## or this:\n",
    "# np.concatenate((arr15, arr10), axis=1)"
   ]
  },
  {
   "cell_type": "markdown",
   "metadata": {},
   "source": [
    "#### Multiplying matrices of different shapes"
   ]
  },
  {
   "cell_type": "code",
   "execution_count": 87,
   "metadata": {},
   "outputs": [
    {
     "name": "stdout",
     "output_type": "stream",
     "text": [
      "[[ 0  1  2  3  4  5  6  7  8  9]\n",
      " [10 11 12 13 14 15 16 17 18 19]]\n",
      "[0 1 2 3 4 5 6 7 8 9]\n",
      "[0 1]\n"
     ]
    }
   ],
   "source": [
    "mat1 = np.arange(20).reshape(2,10)\n",
    "vec1 = np.arange(10)\n",
    "vec2 = np.arange(2)\n",
    "\n",
    "print(mat1)\n",
    "print(vec1)\n",
    "print(vec2)"
   ]
  },
  {
   "cell_type": "markdown",
   "metadata": {},
   "source": [
    "Here, the vector has to have the same size as the *last* dimension of your matrix!"
   ]
  },
  {
   "cell_type": "code",
   "execution_count": 90,
   "metadata": {},
   "outputs": [
    {
     "data": {
      "text/plain": [
       "array([[False, False, False, False, False, False, False, False, False,\n",
       "        False],\n",
       "       [ True,  True,  True,  True,  True,  True,  True,  True,  True,\n",
       "         True]])"
      ]
     },
     "execution_count": 90,
     "metadata": {},
     "output_type": "execute_result"
    }
   ],
   "source": [
    "mat1 > vec1"
   ]
  },
  {
   "cell_type": "markdown",
   "metadata": {},
   "source": [
    "The same goes for other operations like addition, division, comparison, and so on."
   ]
  },
  {
   "cell_type": "code",
   "execution_count": 96,
   "metadata": {},
   "outputs": [
    {
     "data": {
      "text/plain": [
       "array([[False,  True],\n",
       "       [ True,  True],\n",
       "       [ True,  True],\n",
       "       [ True,  True],\n",
       "       [ True,  True],\n",
       "       [ True,  True],\n",
       "       [ True,  True],\n",
       "       [ True,  True],\n",
       "       [ True,  True],\n",
       "       [ True,  True]])"
      ]
     },
     "execution_count": 96,
     "metadata": {},
     "output_type": "execute_result"
    }
   ],
   "source": [
    "# This won't work: \n",
    "# mat1 > vec2\n",
    "\n",
    "# But this will:\n",
    "mat1.transpose() > vec2 # I'm comparing the elements of vec2\n",
    "                        # with the elements of mat1 line by line"
   ]
  }
 ],
 "metadata": {
  "kernelspec": {
   "display_name": "Python 3",
   "language": "python",
   "name": "python3"
  },
  "language_info": {
   "codemirror_mode": {
    "name": "ipython",
    "version": 3
   },
   "file_extension": ".py",
   "mimetype": "text/x-python",
   "name": "python",
   "nbconvert_exporter": "python",
   "pygments_lexer": "ipython3",
   "version": "3.9.12"
  },
  "vscode": {
   "interpreter": {
    "hash": "ad60ba3d6748ebfd779dff164ecdca54fbf007dbac97c522a9077ed5230659e8"
   }
  }
 },
 "nbformat": 4,
 "nbformat_minor": 4
}
