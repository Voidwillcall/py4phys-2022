{
 "cells": [
  {
   "cell_type": "markdown",
   "metadata": {
    "tags": []
   },
   "source": [
    "# Iterations\n",
    "### 4/11/2022\n"
   ]
  },
  {
   "cell_type": "code",
   "execution_count": 1,
   "metadata": {},
   "outputs": [],
   "source": [
    "# Lists we're going to need\n",
    "\n",
    "galaxy_names = [\"NGC 5128\", \"TXS 0506+056\", \"NGC 1068\", \"GB6 J1040+0617\", \"TXS 2226-184\"]\n",
    "distances_mpc = [3.7, 1.75e3, 14.4, 1.51e4, 107.1]  # Mpc\n",
    "luminosities = [1e40, 3e46, 4.9e38, 6.2e45, 5.5e41] # erg/s"
   ]
  },
  {
   "cell_type": "markdown",
   "metadata": {},
   "source": [
    "## Introducing `range`"
   ]
  },
  {
   "cell_type": "code",
   "execution_count": 297,
   "metadata": {},
   "outputs": [
    {
     "name": "stdout",
     "output_type": "stream",
     "text": [
      "0\n",
      "1\n",
      "2\n",
      "3\n",
      "4\n"
     ]
    }
   ],
   "source": [
    "for i in range(5):\n",
    "    print(i)"
   ]
  },
  {
   "cell_type": "code",
   "execution_count": 295,
   "metadata": {},
   "outputs": [
    {
     "name": "stdout",
     "output_type": "stream",
     "text": [
      "12\n",
      "19\n",
      "26\n"
     ]
    }
   ],
   "source": [
    "for i in range(12,30,7): # start on 12, end on 29, steps of 7\n",
    "    print(i)"
   ]
  },
  {
   "cell_type": "markdown",
   "metadata": {},
   "source": [
    "### Exercise - print name and distance of each galaxy in our list"
   ]
  },
  {
   "cell_type": "code",
   "execution_count": 370,
   "metadata": {},
   "outputs": [
    {
     "name": "stdout",
     "output_type": "stream",
     "text": [
      "Name: NGC 5128; D = 3.7 Mpc\n",
      "Name: NGC 1068; D = 14.4 Mpc\n",
      "Name: TXS 0506+056; D = 1750.0 Mpc\n",
      "Name: GB6 J1040+0617; D = 15100.0 Mpc\n",
      "Name: TXS 2226-184; D = 107.1 Mpc\n"
     ]
    }
   ],
   "source": [
    "for i in range(len(galaxy_names)):\n",
    "    print(f\"Name: {galaxy_names[i]}; D = {distances_mpc[i]} Mpc\")"
   ]
  },
  {
   "cell_type": "markdown",
   "metadata": {},
   "source": [
    "### More pythonic method - iterate directly over the list elements!"
   ]
  },
  {
   "cell_type": "code",
   "execution_count": 360,
   "metadata": {},
   "outputs": [
    {
     "name": "stdout",
     "output_type": "stream",
     "text": [
      "(3.7, 1e+40)\n",
      "(14.4, 4.9e+38)\n",
      "(1750.0, 3e+46)\n",
      "(15100.0, 6.2e+45)\n",
      "(107.1, 5.5e+41)\n"
     ]
    }
   ],
   "source": [
    "for pair in zip(distances_mpc, luminosities):\n",
    "    print(pair)"
   ]
  },
  {
   "cell_type": "code",
   "execution_count": 366,
   "metadata": {},
   "outputs": [
    {
     "name": "stdout",
     "output_type": "stream",
     "text": [
      "3.7 1e+40\n",
      "14.4 4.9e+38\n",
      "1750.0 3e+46\n",
      "15100.0 6.2e+45\n",
      "107.1 5.5e+41\n"
     ]
    }
   ],
   "source": [
    "for dist, lum in zip(distances_mpc, luminosities):\n",
    "    print(dist, lum)"
   ]
  },
  {
   "cell_type": "markdown",
   "metadata": {},
   "source": [
    "### Exercise - modify the printing code above to avoid using indices"
   ]
  },
  {
   "cell_type": "code",
   "execution_count": 464,
   "metadata": {},
   "outputs": [
    {
     "name": "stdout",
     "output_type": "stream",
     "text": [
      "Name: NGC 5128; D = 3.7 Mpc; L=1e+40 erg/s\n",
      "Name: TXS 0506+056; D = 1750.0 Mpc; L=3e+46 erg/s\n",
      "Name: NGC 1068; D = 14.4 Mpc; L=4.9e+38 erg/s\n",
      "Name: GB6 J1040+0617; D = 15100.0 Mpc; L=6.2e+45 erg/s\n",
      "Name: TXS 2226-184; D = 107.1 Mpc; L=5.5e+41 erg/s\n"
     ]
    }
   ],
   "source": [
    "for name, dist, lum in zip(galaxy_names, distances_mpc, luminosities):\n",
    "    print(f\"Name: {name}; D = {dist} Mpc; L={lum} erg/s\")"
   ]
  },
  {
   "cell_type": "markdown",
   "metadata": {},
   "source": [
    "### And now a little cosmetic improvement using f-strings"
   ]
  },
  {
   "cell_type": "code",
   "execution_count": 380,
   "metadata": {},
   "outputs": [
    {
     "name": "stdout",
     "output_type": "stream",
     "text": [
      "Name: NGC 5128       ; D =        3.7 Mpc;\n",
      "Name: NGC 1068       ; D =       14.4 Mpc;\n",
      "Name: TXS 0506+056   ; D =     1750.0 Mpc;\n",
      "Name: GB6 J1040+0617 ; D =    15100.0 Mpc;\n",
      "Name: TXS 2226-184   ; D =      107.1 Mpc;\n"
     ]
    }
   ],
   "source": [
    "for name, dist in zip(galaxy_names, distances_mpc):\n",
    "    print(f\"Name: {name:15}; D = {dist:10.1f} Mpc;\")"
   ]
  },
  {
   "cell_type": "code",
   "execution_count": 382,
   "metadata": {},
   "outputs": [
    {
     "name": "stdout",
     "output_type": "stream",
     "text": [
      "Name: NGC 5128       ; D = 3.7e+00 Mpc;\n",
      "Name: NGC 1068       ; D = 1.4e+01 Mpc;\n",
      "Name: TXS 0506+056   ; D = 1.8e+03 Mpc;\n",
      "Name: GB6 J1040+0617 ; D = 1.5e+04 Mpc;\n",
      "Name: TXS 2226-184   ; D = 1.1e+02 Mpc;\n"
     ]
    }
   ],
   "source": [
    "for name, dist in zip(galaxy_names, distances_mpc):\n",
    "    print(f\"Name: {name:15}; D = {dist:.1e} Mpc;\")  # extra points for scientific notation"
   ]
  },
  {
   "cell_type": "markdown",
   "metadata": {},
   "source": [
    "### Simplifying counting with `enumerate`"
   ]
  },
  {
   "cell_type": "code",
   "execution_count": 346,
   "metadata": {},
   "outputs": [
    {
     "data": {
      "text/plain": [
       "[(0, 'NGC 5128'),\n",
       " (1, 'NGC 1068'),\n",
       " (2, 'TXS 0506+056'),\n",
       " (3, 'GB6 J1040+0617'),\n",
       " (4, 'TXS 2226-184')]"
      ]
     },
     "execution_count": 346,
     "metadata": {},
     "output_type": "execute_result"
    }
   ],
   "source": [
    "list(enumerate(galaxy_names))"
   ]
  },
  {
   "cell_type": "code",
   "execution_count": 373,
   "metadata": {},
   "outputs": [
    {
     "name": "stdout",
     "output_type": "stream",
     "text": [
      "Position: 0; Name: NGC 5128\n",
      "Position: 1; Name: NGC 1068\n",
      "Position: 2; Name: TXS 0506+056\n",
      "Position: 3; Name: GB6 J1040+0617\n",
      "Position: 4; Name: TXS 2226-184\n"
     ]
    }
   ],
   "source": [
    "for i, name in enumerate(galaxy_names):\n",
    "    print(f\"Position: {i}; Name: {name}\")"
   ]
  },
  {
   "cell_type": "markdown",
   "metadata": {},
   "source": [
    "## Creating lists"
   ]
  },
  {
   "cell_type": "markdown",
   "metadata": {},
   "source": [
    "#### Exercise: convert distance list from Mpc to cm"
   ]
  },
  {
   "cell_type": "code",
   "execution_count": 393,
   "metadata": {},
   "outputs": [
    {
     "name": "stdout",
     "output_type": "stream",
     "text": [
      "[1.11e+25, 5.25e+27, 4.32e+25, 4.53e+28, 3.213e+26]\n"
     ]
    }
   ],
   "source": [
    "distances_cm = []\n",
    "for d in distances_mpc:\n",
    "    distances_cm.append(d * 3e24)\n",
    "\n",
    "print(distances_cm)"
   ]
  },
  {
   "cell_type": "markdown",
   "metadata": {},
   "source": [
    "#### Exercise: select distances < 100 Mpc and convert them to cm"
   ]
  },
  {
   "cell_type": "code",
   "execution_count": 391,
   "metadata": {},
   "outputs": [
    {
     "name": "stdout",
     "output_type": "stream",
     "text": [
      "[1.11e+25, 4.32e+25]\n"
     ]
    }
   ],
   "source": [
    "# Exercise: convert distance list from Mpc to cm\n",
    "\n",
    "short_distances_cm = []\n",
    "for d in distances_mpc:\n",
    "    if d < 100:\n",
    "        short_distances_cm.append(d * 3e24)\n",
    "\n",
    "print(short_distances_cm)"
   ]
  },
  {
   "cell_type": "markdown",
   "metadata": {},
   "source": [
    "### Introducing list comprehension!"
   ]
  },
  {
   "cell_type": "code",
   "execution_count": 395,
   "metadata": {},
   "outputs": [
    {
     "name": "stdout",
     "output_type": "stream",
     "text": [
      "[1.11e+25, 5.25e+27, 4.32e+25, 4.53e+28, 3.213e+26]\n"
     ]
    }
   ],
   "source": [
    "distances_cm = [d * 3e24 for d in distances_mpc]\n",
    "\n",
    "print(distances_cm)"
   ]
  },
  {
   "cell_type": "code",
   "execution_count": 397,
   "metadata": {},
   "outputs": [
    {
     "name": "stdout",
     "output_type": "stream",
     "text": [
      "[1.11e+25, 4.32e+25]\n"
     ]
    }
   ],
   "source": [
    "# We can also select elements based on some criterium on the same one line:\n",
    "\n",
    "short_distances_cm = [d * 3e24 for d in distances_mpc if d < 100.]\n",
    "print(short_distances_cm)"
   ]
  },
  {
   "cell_type": "markdown",
   "metadata": {},
   "source": [
    "#### Exercise: get list of names based on distance critrion"
   ]
  },
  {
   "cell_type": "code",
   "execution_count": 399,
   "metadata": {},
   "outputs": [
    {
     "name": "stdout",
     "output_type": "stream",
     "text": [
      "['NGC 5128', 'NGC 1068']\n"
     ]
    }
   ],
   "source": [
    "closeby_galaxy_names = [name for name, dist in zip(galaxy_names, distances_mpc) if dist < 100 ]\n",
    "\n",
    "print(closeby_galaxy_names)"
   ]
  },
  {
   "cell_type": "markdown",
   "metadata": {
    "tags": []
   },
   "source": [
    "## Counting"
   ]
  },
  {
   "cell_type": "code",
   "execution_count": 403,
   "metadata": {},
   "outputs": [
    {
     "name": "stdout",
     "output_type": "stream",
     "text": [
      "2\n"
     ]
    }
   ],
   "source": [
    "# By building a list and checking its length:\n",
    "\n",
    "print(len(closeby_galaxy_names))"
   ]
  },
  {
   "cell_type": "code",
   "execution_count": 402,
   "metadata": {},
   "outputs": [
    {
     "name": "stdout",
     "output_type": "stream",
     "text": [
      "2\n"
     ]
    }
   ],
   "source": [
    "# Or better - if you don't need the list you don't have to create it \n",
    "\n",
    "count = 0\n",
    "\n",
    "for dist in distances_mpc:\n",
    "    if dist < 100:\n",
    "        count += 1\n",
    "print(count)"
   ]
  },
  {
   "cell_type": "markdown",
   "metadata": {},
   "source": [
    "## Simultaneously iterating through multiple lists"
   ]
  },
  {
   "cell_type": "code",
   "execution_count": 362,
   "metadata": {},
   "outputs": [
    {
     "name": "stdout",
     "output_type": "stream",
     "text": [
      "2.089386202070171e-14\n"
     ]
    }
   ],
   "source": [
    "from math import pi\n",
    "\n",
    "fluxes = []\n",
    "for lum, d_mpc in zip(luminosities, distances_mpc):\n",
    "    d_cm = d_mpc * 3e24\n",
    "    fluxes.append(lum / (4 * pi * d_cm ** 2))\n",
    "        \n",
    "print(fluxes[1])"
   ]
  },
  {
   "cell_type": "code",
   "execution_count": 415,
   "metadata": {},
   "outputs": [
    {
     "name": "stdout",
     "output_type": "stream",
     "text": [
      "2.404282090867728e-13\n"
     ]
    }
   ],
   "source": [
    "# Exercise - do the same using list comprehension!\n",
    "fluxes = [lum / (4 * pi * (d_mpc * 3e24) ** 2) for lum, d_mpc in zip(luminosities, distances_mpc)]\n",
    "print(fluxes[3])"
   ]
  },
  {
   "cell_type": "markdown",
   "metadata": {
    "tags": []
   },
   "source": [
    "## Iterating thorugh tables with nested loops"
   ]
  },
  {
   "cell_type": "markdown",
   "metadata": {},
   "source": [
    "### Example -  calculate a 2D table of fluxes based on the luminosities and distances  "
   ]
  },
  {
   "cell_type": "code",
   "execution_count": 416,
   "metadata": {},
   "outputs": [
    {
     "name": "stdout",
     "output_type": "stream",
     "text": [
      "2.404282090867728e-13\n"
     ]
    }
   ],
   "source": [
    "from math import pi\n",
    "\n",
    "flux_table = []\n",
    "for lum in luminosities:\n",
    "    flux_table.append([])\n",
    "    for d_mpc in distances_mpc:\n",
    "        d_cm = d_mpc * 3e24\n",
    "        flux_table[-1].append(lum / (4 * pi * d_cm ** 2))\n",
    "        \n",
    "print(flux_table[3][3])"
   ]
  },
  {
   "cell_type": "markdown",
   "metadata": {},
   "source": [
    "### Exercise - use list comprehension to rewrite the function in only one line!"
   ]
  },
  {
   "cell_type": "code",
   "execution_count": 420,
   "metadata": {},
   "outputs": [
    {
     "name": "stdout",
     "output_type": "stream",
     "text": [
      "2.404282090867728e-13\n"
     ]
    }
   ],
   "source": [
    "table = [[lum / (4 * pi * (d_mpc * 3e24) ** 2) for lum in luminosities] for d_mpc in distances_mpc]    \n",
    "\n",
    "print(table[3][3])"
   ]
  },
  {
   "cell_type": "markdown",
   "metadata": {},
   "source": [
    "## The `break` statement"
   ]
  },
  {
   "cell_type": "code",
   "execution_count": 254,
   "metadata": {},
   "outputs": [
    {
     "name": "stdout",
     "output_type": "stream",
     "text": [
      "Siya\n",
      "Tiya\n",
      "Guru\n",
      "Found the name Guru\n",
      "After while-loop exit\n"
     ]
    }
   ],
   "source": [
    "galaxy_names\n",
    "\n",
    "i = 0\n",
    "\n",
    "for i, name in enumerate(my_list):\n",
    "    print(my_list[i])\n",
    "    if (my_list[i] == 'Guru'):\n",
    "        print('Found the name Guru')\n",
    "        break\n"
   ]
  },
  {
   "cell_type": "markdown",
   "metadata": {},
   "source": [
    "#### Think, pair, share: breaks in nested loops"
   ]
  },
  {
   "cell_type": "code",
   "execution_count": 268,
   "metadata": {
    "tags": []
   },
   "outputs": [
    {
     "name": "stdout",
     "output_type": "stream",
     "text": [
      "0 and 0\n",
      "0 and 1\n",
      "1 and 0\n",
      "1 and 1\n",
      "2 and 0\n",
      "2 and 1\n",
      "3 and 0\n",
      "3 and 1\n"
     ]
    }
   ],
   "source": [
    "# What's the output of the following code?\n",
    "\n",
    "for i in range(4):\n",
    "    for j in range(4):          \n",
    "        if j == 2:    \n",
    "            break\n",
    "        print(f\"{i} and {j}\");  \n"
   ]
  },
  {
   "cell_type": "markdown",
   "metadata": {},
   "source": [
    "## The `continue` statement"
   ]
  },
  {
   "cell_type": "code",
   "execution_count": 261,
   "metadata": {},
   "outputs": [
    {
     "name": "stdout",
     "output_type": "stream",
     "text": [
      "1 is odd\n",
      "3 is odd\n",
      "5 is odd\n",
      "7 is odd\n",
      "9 is odd\n"
     ]
    }
   ],
   "source": [
    "for i in range(10):    \n",
    "    if not i % 2:\n",
    "        continue\n",
    "    print(f\"{i} is odd\")"
   ]
  },
  {
   "cell_type": "markdown",
   "metadata": {},
   "source": [
    "#### Think, pair, share: breaks in nested loops"
   ]
  },
  {
   "cell_type": "code",
   "execution_count": 275,
   "metadata": {},
   "outputs": [
    {
     "name": "stdout",
     "output_type": "stream",
     "text": [
      "2 and 0\n",
      "2 and 1\n",
      "2 and 2\n",
      "2 and 3\n",
      "3 and 0\n",
      "3 and 1\n",
      "3 and 2\n",
      "3 and 3\n"
     ]
    }
   ],
   "source": [
    "# What's the output of the following code?\n",
    "\n",
    "for i in range(4):\n",
    "    if i < 2:\n",
    "        continue\n",
    "    for j in range(4):          \n",
    "        print(f\"{i} and {j}\");  \n"
   ]
  },
  {
   "cell_type": "markdown",
   "metadata": {},
   "source": [
    "## From lists to dictionaries"
   ]
  },
  {
   "cell_type": "markdown",
   "metadata": {
    "tags": []
   },
   "source": [
    "### Exercise: create dictionary mapping `galaxy_name` to `luminosity`"
   ]
  },
  {
   "cell_type": "code",
   "execution_count": 424,
   "metadata": {},
   "outputs": [
    {
     "name": "stdout",
     "output_type": "stream",
     "text": [
      "3e+46\n"
     ]
    }
   ],
   "source": [
    "galaxy_luminosities = {}\n",
    "\n",
    "for name, lum in zip(galaxy_names, luminosities):\n",
    "    galaxy_luminosities[name] = lum\n",
    "\n",
    "print(galaxy_luminosities[\"TXS 0506+056\"])"
   ]
  },
  {
   "cell_type": "markdown",
   "metadata": {},
   "source": [
    "#### A more pythonic way"
   ]
  },
  {
   "cell_type": "code",
   "execution_count": 429,
   "metadata": {},
   "outputs": [
    {
     "name": "stdout",
     "output_type": "stream",
     "text": [
      "3e+46\n"
     ]
    }
   ],
   "source": [
    "galaxy_luminosities = {name:lum for name, lum in zip(galaxy_names, luminosities)}\n",
    "\n",
    "print(galaxy_luminosities[\"TXS 0506+056\"])"
   ]
  },
  {
   "cell_type": "markdown",
   "metadata": {},
   "source": [
    "#### An even more pythonic way"
   ]
  },
  {
   "cell_type": "code",
   "execution_count": 430,
   "metadata": {},
   "outputs": [
    {
     "name": "stdout",
     "output_type": "stream",
     "text": [
      "3e+46\n"
     ]
    }
   ],
   "source": [
    "galaxy_luminosities = dict(zip(galaxy_names, luminosities))\n",
    "\n",
    "print(galaxy_luminosities[\"TXS 0506+056\"])"
   ]
  },
  {
   "cell_type": "markdown",
   "metadata": {},
   "source": [
    "## Iterate through dictionaries"
   ]
  },
  {
   "cell_type": "code",
   "execution_count": 439,
   "metadata": {},
   "outputs": [
    {
     "name": "stdout",
     "output_type": "stream",
     "text": [
      "NGC 5128        has 1.00e+40 erg/s \n",
      "TXS 0506+056    has 3.00e+46 erg/s \n",
      "NGC 1068        has 4.90e+38 erg/s \n",
      "GB6 J1040+0617  has 6.20e+45 erg/s \n",
      "TXS 2226-184    has 5.50e+41 erg/s \n"
     ]
    }
   ],
   "source": [
    "for k in galaxy_luminosities:\n",
    "    print(f\"{k:15s} has {galaxy_luminosities[k]:.2e} erg/s \")"
   ]
  },
  {
   "cell_type": "markdown",
   "metadata": {},
   "source": [
    "#### More pythonic:"
   ]
  },
  {
   "cell_type": "code",
   "execution_count": 440,
   "metadata": {},
   "outputs": [
    {
     "name": "stdout",
     "output_type": "stream",
     "text": [
      "NGC 5128        has 1.00e+40 erg/s \n",
      "TXS 0506+056    has 3.00e+46 erg/s \n",
      "NGC 1068        has 4.90e+38 erg/s \n",
      "GB6 J1040+0617  has 6.20e+45 erg/s \n",
      "TXS 2226-184    has 5.50e+41 erg/s \n"
     ]
    }
   ],
   "source": [
    "for k, v in galaxy_luminosities.items():\n",
    "    print(f\"{k:15s} has {v:.2e} erg/s \")"
   ]
  },
  {
   "cell_type": "markdown",
   "metadata": {},
   "source": [
    "#### Exercise: create a dictionary mapping galaxy names to their observed flux"
   ]
  },
  {
   "cell_type": "code",
   "execution_count": 452,
   "metadata": {},
   "outputs": [
    {
     "name": "stdout",
     "output_type": "stream",
     "text": [
      "2.404282090867728e-13\n"
     ]
    }
   ],
   "source": [
    "d1 = {name : lum / (4 * pi * (d * 3e24) ** 2) for name, lum, d in zip(galaxy_names, \n",
    "                                                                      luminosities,\n",
    "                                                                      distances_mpc) }\n",
    "print(d1[\"GB6 J1040+0617\"])"
   ]
  },
  {
   "cell_type": "markdown",
   "metadata": {},
   "source": [
    "### Last exercise\n",
    "\n",
    "Create a nested dictionary in the form \n",
    "\n",
    "```\n",
    "galaxy_catalog = {galaxy_name1 : {'lum': luminosity1,\n",
    "                                  'dist': distance1, \n",
    "                                  'flux': flux1},\n",
    "                  galaxy_name2 : {'lum': luminosity2,\n",
    "                                  'dist': distance2, \n",
    "                                  'flux': flux2},\n",
    "                 #...\n",
    "                 }\n",
    " ```"
   ]
  },
  {
   "cell_type": "code",
   "execution_count": null,
   "metadata": {},
   "outputs": [],
   "source": []
  }
 ],
 "metadata": {
  "kernelspec": {
   "display_name": "Python 3",
   "language": "python",
   "name": "python3"
  },
  "language_info": {
   "codemirror_mode": {
    "name": "ipython",
    "version": 3
   },
   "file_extension": ".py",
   "mimetype": "text/x-python",
   "name": "python",
   "nbconvert_exporter": "python",
   "pygments_lexer": "ipython3",
   "version": "3.9.12"
  },
  "vscode": {
   "interpreter": {
    "hash": "ad60ba3d6748ebfd779dff164ecdca54fbf007dbac97c522a9077ed5230659e8"
   }
  }
 },
 "nbformat": 4,
 "nbformat_minor": 4
}
