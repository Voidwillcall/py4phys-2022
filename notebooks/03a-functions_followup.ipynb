{
 "cells": [
  {
   "cell_type": "markdown",
   "metadata": {},
   "source": [
    "## Indentation\n",
    "- *indentation* means shifting a line of code by either a given number of spaces or a tab (`Tab` key);\n",
    "- a tab is a *single* special character that is visualised as an empty space;\n",
    "- tab-style indentation may have been popular in the past, but today the standard is space-style indentation using 4 whitespaces;\n",
    "- most editors will produce 4 whitespaces by default (or can be set up to do so!)\n",
    "\n",
    "### In python\n",
    "- indentation in python is ***part of the syntax!***\n",
    "- indentation delimits the code of a function, an `if/elif/else` clause, a loop etc.\n",
    "- any number of spaces is recognised, but it has to be consistent\n",
    "\n"
   ]
  },
  {
   "cell_type": "markdown",
   "metadata": {},
   "source": [
    "## Dictionaries tips and tricks"
   ]
  },
  {
   "cell_type": "code",
   "execution_count": 1,
   "metadata": {},
   "outputs": [
    {
     "name": "stdout",
     "output_type": "stream",
     "text": [
      "{'a': 0, 'b': 1, 'c': 2, 'd': 3, 'e': 4, 'f': 5}\n"
     ]
    }
   ],
   "source": [
    "a_dict = { letter: number for number, letter in enumerate('abcdef') }\n",
    "\n",
    "print(a_dict)\n"
   ]
  },
  {
   "cell_type": "code",
   "execution_count": 2,
   "metadata": {},
   "outputs": [],
   "source": [
    "# print(a_dict['h']) # not nice"
   ]
  },
  {
   "cell_type": "code",
   "execution_count": 3,
   "metadata": {},
   "outputs": [
    {
     "name": "stdout",
     "output_type": "stream",
     "text": [
      "None\n"
     ]
    }
   ],
   "source": [
    "print(a_dict.get('h'))"
   ]
  },
  {
   "cell_type": "code",
   "execution_count": 4,
   "metadata": {},
   "outputs": [
    {
     "name": "stdout",
     "output_type": "stream",
     "text": [
      "5\n",
      "-1\n"
     ]
    }
   ],
   "source": [
    "print(a_dict.get('f',-1))\n",
    "print(a_dict.get('g',-1))"
   ]
  },
  {
   "cell_type": "markdown",
   "metadata": {},
   "source": [
    "## `defaultdict`\n",
    "`defaultdict` is a dictionary associated to a function, the output of this function is the default value for all non-existent keys"
   ]
  },
  {
   "cell_type": "code",
   "execution_count": 5,
   "metadata": {},
   "outputs": [],
   "source": [
    "from collections import defaultdict"
   ]
  },
  {
   "cell_type": "code",
   "execution_count": 6,
   "metadata": {},
   "outputs": [
    {
     "name": "stdout",
     "output_type": "stream",
     "text": [
      "custom value\n",
      "default value\n",
      "defaultdict(<function init_value at 0x7f1ac3ed3250>, {0: 'custom value', 1: 'default value'})\n"
     ]
    }
   ],
   "source": [
    "def init_value():\n",
    "    return \"default value\"\n",
    "\n",
    "a = defaultdict(init_value)\n",
    "a[0] = \"custom value\"\n",
    "print(a[0])\n",
    "print(a[1])\n",
    "\n",
    "print(a)"
   ]
  },
  {
   "cell_type": "markdown",
   "metadata": {},
   "source": [
    "More useful when we do not know all our keys in advance."
   ]
  },
  {
   "cell_type": "code",
   "execution_count": 7,
   "metadata": {},
   "outputs": [
    {
     "name": "stdout",
     "output_type": "stream",
     "text": [
      "defaultdict(<class 'int'>, {'H': 1, 'e': 1, 'l': 3, 'o': 2, ' ': 1, 'W': 1, 'r': 1, 'd': 1, '!': 1})\n"
     ]
    }
   ],
   "source": [
    "freq = defaultdict(int)\n",
    "\n",
    "message = \"Hello World!\"\n",
    "\n",
    "for letter in message:\n",
    "    freq[letter] += 1\n",
    " \n",
    "print(freq)"
   ]
  },
  {
   "cell_type": "markdown",
   "metadata": {},
   "source": [
    "## Type hints\n",
    "- python is dynamically typed: you can do whatever you want and there will be little control about the types you use!\n",
    "- from python 3.5 *type hints* are supported: we can indicate what types a function is supposed to take as arguments and what type it returns!"
   ]
  },
  {
   "cell_type": "code",
   "execution_count": 8,
   "metadata": {},
   "outputs": [
    {
     "name": "stdout",
     "output_type": "stream",
     "text": [
      "1 is less than or equal to 2\n",
      "1.5 is less than or equal to 3.5\n"
     ]
    }
   ],
   "source": [
    "def f(a : int, b : int) -> str:\n",
    "    if a > b:\n",
    "        return f\"{a} is greater than {b}\"\n",
    "    else:\n",
    "        return f\"{a} is less than or equal to {b}\"\n",
    "\n",
    "print(f(1, 2))\n",
    "\n",
    "print(f(1.5, 3.5))"
   ]
  },
  {
   "cell_type": "markdown",
   "metadata": {},
   "source": [
    "- the python interpreter does not complain if you don't respect type hints, after all it is a *dynamically typed* language!\n",
    "- type hints are useful **to you** to remember how a function is supposed to behave: they may seem (and probably are) unnecessary at this level but it is important to **pick good habits** from the start! \n",
    "- there are tools known as **static type checkers** (one is `mypy`) that can check if your code respect all the type declarations."
   ]
  },
  {
   "cell_type": "code",
   "execution_count": 9,
   "metadata": {},
   "outputs": [
    {
     "data": {
      "text/plain": [
       "12"
      ]
     },
     "execution_count": 9,
     "metadata": {},
     "output_type": "execute_result"
    }
   ],
   "source": [
    "# one more advanced example...\n",
    "\n",
    "from typing import Collection\n",
    "\n",
    "def sum_list(v : Collection[float]) -> float:\n",
    "    return sum(v)\n",
    "\n",
    "sum_list([1,5,6])"
   ]
  },
  {
   "cell_type": "markdown",
   "metadata": {},
   "source": [
    "## Built-in functions\n",
    "A list of built-in functions is available at https://docs.python.org/3.11/library/functions.\n",
    "- numeric: `abs()` absolute value, `divmod()`  combination of `//` and `%`, `min()`, `max()`, `sum()`, `pow()`, `round()`,\n",
    "- boolean: `any()`, `all()`\n",
    "- list manipulation: `reversed()`, `sorted()`\n",
    "- character conversion: `chr()` (int to character)\n"
   ]
  },
  {
   "cell_type": "markdown",
   "metadata": {},
   "source": [
    "### Map and filter..."
   ]
  },
  {
   "cell_type": "code",
   "execution_count": 10,
   "metadata": {},
   "outputs": [
    {
     "name": "stdout",
     "output_type": "stream",
     "text": [
      "<filter object at 0x7f1aaa0057b0>\n",
      "1\n",
      "2\n",
      "3\n"
     ]
    }
   ],
   "source": [
    "a_list = [1, 2, 3, \"a\", \"b\", \"c\"]\n",
    "\n",
    "list_numbers = filter(lambda x: isinstance(x, int), a_list)\n",
    "list_letters = filter(lambda x: isinstance(x, str), a_list)\n",
    "\n",
    "print(list_numbers)\n",
    "\n",
    "for n in list_numbers:\n",
    "    print(n)"
   ]
  },
  {
   "cell_type": "markdown",
   "metadata": {},
   "source": [
    "What is happening here? The filter object is an iterator and needs to be \"unwrapped\"."
   ]
  },
  {
   "cell_type": "code",
   "execution_count": 11,
   "metadata": {},
   "outputs": [
    {
     "name": "stdout",
     "output_type": "stream",
     "text": [
      "<map object at 0x7f1aaa0061d0>\n"
     ]
    }
   ],
   "source": [
    "n_list = range(10)\n",
    "\n",
    "square_list = map(lambda x : x**2, n_list)\n",
    "\n",
    "print(square_list)"
   ]
  },
  {
   "cell_type": "code",
   "execution_count": 12,
   "metadata": {},
   "outputs": [
    {
     "name": "stdout",
     "output_type": "stream",
     "text": [
      "[0, 1, 4, 9, 16, 25, 36, 49, 64, 81]\n"
     ]
    }
   ],
   "source": [
    "print(list(square_list))"
   ]
  },
  {
   "cell_type": "code",
   "execution_count": 13,
   "metadata": {},
   "outputs": [
    {
     "name": "stdout",
     "output_type": "stream",
     "text": [
      "151 ns ± 11.2 ns per loop (mean ± std. dev. of 7 runs, 1,000,000 loops each)\n"
     ]
    }
   ],
   "source": [
    "%%timeit\n",
    "\n",
    "square_list = map(lambda x : x**2, n_list)\n"
   ]
  },
  {
   "cell_type": "code",
   "execution_count": 14,
   "metadata": {},
   "outputs": [
    {
     "name": "stdout",
     "output_type": "stream",
     "text": [
      "2.38 µs ± 51.7 ns per loop (mean ± std. dev. of 7 runs, 100,000 loops each)\n"
     ]
    }
   ],
   "source": [
    "%%timeit\n",
    "square_list = [x**2 for x in n_list]"
   ]
  }
 ],
 "metadata": {
  "kernelspec": {
   "display_name": "Python 3.10.5 ('science')",
   "language": "python",
   "name": "python3"
  },
  "language_info": {
   "codemirror_mode": {
    "name": "ipython",
    "version": 3
   },
   "file_extension": ".py",
   "mimetype": "text/x-python",
   "name": "python",
   "nbconvert_exporter": "python",
   "pygments_lexer": "ipython3",
   "version": "3.10.5"
  },
  "orig_nbformat": 4,
  "vscode": {
   "interpreter": {
    "hash": "e22a2eb9a392155e6c1a70cb0bf3a6766fcf0e144014212996f1e147d1c2c35e"
   }
  }
 },
 "nbformat": 4,
 "nbformat_minor": 2
}
