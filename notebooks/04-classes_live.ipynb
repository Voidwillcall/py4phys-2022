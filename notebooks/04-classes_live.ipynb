{
 "cells": [
  {
   "cell_type": "markdown",
   "metadata": {},
   "source": [
    "# Classes\n",
    "Or \"a short and hopefully effective introduction to object-based/oriented programming\".  \n",
    "\n",
    "You can think of classes as a more hierarchical way of organizing your data *and* code.\n",
    "\n",
    "- A **class** defines the description of an **object**.\n",
    "- An object of a given class is called an ***instance*** of the class.\n",
    "- An object contains data (attributes) and the class specify functions that can make use of such data (methods)."
   ]
  },
  {
   "cell_type": "markdown",
   "metadata": {},
   "source": [
    "## Our first class\n",
    "We will use last week's example to show how to re-organise our code in classes."
   ]
  },
  {
   "cell_type": "code",
   "execution_count": 2,
   "metadata": {},
   "outputs": [],
   "source": [
    "names = [\"NGC 5128\", \"TXS 0506+056\", \"NGC 1068\", \"GB6 J1040+0617\", \"TXS 2226-184\"]\n",
    "distances = [3.7, 1.75e3, 14.4, 1.51e4, 107.1]  # Mpc\n",
    "luminosities = [1e40, 3e46, 4.9e38, 6.2e45, 5.5e41] # erg/s"
   ]
  }
 ],
 "metadata": {
  "kernelspec": {
   "display_name": "Python 3.10.5 ('science')",
   "language": "python",
   "name": "python3"
  },
  "language_info": {
   "codemirror_mode": {
    "name": "ipython",
    "version": 3
   },
   "file_extension": ".py",
   "mimetype": "text/x-python",
   "name": "python",
   "nbconvert_exporter": "python",
   "pygments_lexer": "ipython3",
   "version": "3.10.5"
  },
  "orig_nbformat": 4,
  "vscode": {
   "interpreter": {
    "hash": "e22a2eb9a392155e6c1a70cb0bf3a6766fcf0e144014212996f1e147d1c2c35e"
   }
  }
 },
 "nbformat": 4,
 "nbformat_minor": 2
}
