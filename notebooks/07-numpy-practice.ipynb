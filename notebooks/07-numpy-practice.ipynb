{
 "cells": [
  {
   "cell_type": "markdown",
   "id": "2b719738",
   "metadata": {},
   "source": [
    "# Numpy practice session\n",
    "### 9/12/2022"
   ]
  },
  {
   "cell_type": "code",
   "execution_count": 2,
   "id": "2d883f4e",
   "metadata": {},
   "outputs": [],
   "source": [
    "import numpy as np\n",
    "from matplotlib import pyplot as plt"
   ]
  },
  {
   "cell_type": "markdown",
   "id": "dad9d386",
   "metadata": {},
   "source": [
    "# Saving and loading arrays"
   ]
  },
  {
   "cell_type": "code",
   "execution_count": 123,
   "id": "3e8f4a82",
   "metadata": {},
   "outputs": [
    {
     "data": {
      "text/plain": [
       "<matplotlib.collections.PathCollection at 0x7fdd89475d90>"
      ]
     },
     "execution_count": 123,
     "metadata": {},
     "output_type": "execute_result"
    },
    {
     "data": {
      "image/png": "[encoded data removed]",
      "text/plain": [
       "<Figure size 432x288 with 1 Axes>"
      ]
     },
     "metadata": {
      "needs_background": "light"
     },
     "output_type": "display_data"
    }
   ],
   "source": [
    "energy_arr = np.linspace(3,9,15)              \n",
    "spectrum_arr = 100 - energy_arr * 3\n",
    "\n",
    "plt.scatter(energy_arr, spectrum_arr)"
   ]
  },
  {
   "cell_type": "markdown",
   "id": "4d0e0928",
   "metadata": {},
   "source": [
    "The next line creates a file called `myspectrum.csv` and saves the content of the arrays into it.\n",
    "\n",
    "By zipping the two arrays I'm simply writing them into the file as columns rather than lines, which makes the file easier to understand if you open it with a text editor."
   ]
  },
  {
   "cell_type": "code",
   "execution_count": 124,
   "id": "9f61dac2",
   "metadata": {},
   "outputs": [],
   "source": [
    "np.savetxt(\"myspectrum.csv\", list(zip(energy_arr, spectrum_arr)), fmt='%.3e', delimiter=',')"
   ]
  },
  {
   "cell_type": "markdown",
   "id": "a9bc0cab",
   "metadata": {},
   "source": [
    "The next line reads the data from the file `myspectrum.csv` and loads it back into numpy arrays.\n",
    "\n",
    "Setting `unpack=True` is a useful trick that allows me to save the two columns of the file separately into different numpy arrays, in this case called `specx` and `specy`."
   ]
  },
  {
   "cell_type": "code",
   "execution_count": 125,
   "id": "80b5846a",
   "metadata": {},
   "outputs": [
    {
     "data": {
      "text/plain": [
       "<matplotlib.collections.PathCollection at 0x7fdd87cfad60>"
      ]
     },
     "execution_count": 125,
     "metadata": {},
     "output_type": "execute_result"
    },
    {
     "data": {
      "image/png": "[encoded data removed]",
      "text/plain": [
       "<Figure size 432x288 with 1 Axes>"
      ]
     },
     "metadata": {
      "needs_background": "light"
     },
     "output_type": "display_data"
    }
   ],
   "source": [
    "specx, specy = np.loadtxt(\"myspectrum.csv\", delimiter=',', unpack=True)\n",
    "\n",
    "plt.scatter(specx, specy)"
   ]
  },
  {
   "cell_type": "markdown",
   "id": "c2ac1014",
   "metadata": {},
   "source": [
    "# Random numbers with numpy"
   ]
  },
  {
   "cell_type": "code",
   "execution_count": 21,
   "id": "3ff5c351",
   "metadata": {},
   "outputs": [
    {
     "name": "stdout",
     "output_type": "stream",
     "text": [
      "[462 468 498 466 493 465 423 451 407 421 485 471 441 493 461]\n"
     ]
    }
   ],
   "source": [
    "random_integers  = np.random.randint(400,500,15)\n",
    "print(random_integers)"
   ]
  },
  {
   "cell_type": "code",
   "execution_count": 49,
   "id": "046eff6b",
   "metadata": {},
   "outputs": [
    {
     "name": "stdout",
     "output_type": "stream",
     "text": [
      "[0.94466892 0.52184832 0.41466194 0.26455561 0.77423369 0.45615033\n",
      " 0.56843395 0.0187898  0.6176355  0.61209572 0.616934   0.94374808\n",
      " 0.6818203  0.3595079  0.43703195]\n"
     ]
    }
   ],
   "source": [
    "random_floats_1d = np.random.rand(15) # 1D array of random floating point \n",
    "                                      # numbers between 0 and 1.\n",
    "                                      # Every time you re-run this cell,\n",
    "                                      # you'll be creating a new set of \n",
    "                                      # pseudo-random numbers\n",
    "print(random_floats_1d)"
   ]
  },
  {
   "cell_type": "code",
   "execution_count": 50,
   "id": "78bc0e26",
   "metadata": {},
   "outputs": [
    {
     "name": "stdout",
     "output_type": "stream",
     "text": [
      "[[0.6976312  0.06022547 0.66676672 0.67063787 0.21038256 0.1289263 ]\n",
      " [0.31542835 0.36371077 0.57019677 0.43860151 0.98837384 0.10204481]\n",
      " [0.20887676 0.16130952 0.65310833 0.2532916  0.46631077 0.24442559]]\n"
     ]
    }
   ],
   "source": [
    "random_floats_2d = np.random.rand(3,6) # 2D array of random floating point \n",
    "                                       # numbers between 0 and 1\n",
    "print(random_floats_2d)"
   ]
  },
  {
   "cell_type": "markdown",
   "id": "4e3dae4f",
   "metadata": {},
   "source": [
    "### Seeding:\n",
    "\n",
    "To make your experiment reproducible, you may want to *seed* the random numbers you produce:"
   ]
  },
  {
   "cell_type": "code",
   "execution_count": 47,
   "id": "4299c213",
   "metadata": {},
   "outputs": [
    {
     "name": "stdout",
     "output_type": "stream",
     "text": [
      "[[0.5488135  0.71518937 0.60276338]\n",
      " [0.54488318 0.4236548  0.64589411]\n",
      " [0.43758721 0.891773   0.96366276]]\n"
     ]
    }
   ],
   "source": [
    "np.random.seed(0) # This fixes the random numbers that are produced next\n",
    "\n",
    "random_but_predictable = np.random.rand(3,3) # If you re-run this cell, these \n",
    "                                             # values won't change\n",
    "print(random_but_predictable)"
   ]
  },
  {
   "cell_type": "markdown",
   "id": "fcbf3941",
   "metadata": {},
   "source": [
    "### Group activity:  \n",
    "\n",
    "Write a function that estimates the value of $\\pi$ with a Monte Carlo approach:\n",
    "\n",
    "- First, we want to create a random set of $n$ points dixtributed randomly inside a 2x2 square, so with x- and y- coordinates between 0 and 2.\n",
    "- Then we count how many of these points lie inside a circle of radius 1 centered in the middle of the square.\n",
    "- Because our points are randomly distributed, the ratio between the fraction of points that lie inside the circle gives you an estimate of the ratio between the area of the circle and the total area of the square:\n",
    "\n",
    "$$\n",
    "\\frac{N_\\rm{inside}}{N_\\rm{total}} = \\frac{A_\\bigodot}{A_\\square} = \\frac{\\pi}{4}\n",
    "$$"
   ]
  },
  {
   "cell_type": "code",
   "execution_count": 58,
   "id": "a4ff1e09",
   "metadata": {},
   "outputs": [
    {
     "name": "stdout",
     "output_type": "stream",
     "text": [
      "With a million points, pi~ 3.141688\n"
     ]
    }
   ],
   "source": [
    "def approxpi(n, seed=0):\n",
    "    \"\"\"Estimates an approximate value of pi with a Monte Carlo approach.\n",
    "    \n",
    "    Args:\n",
    "        n (int): number of points to scatter\n",
    "        seed (int): random seed  \n",
    "        \n",
    "    Return:\n",
    "        piapprox (float): estimate of the value of pi.\n",
    "    \"\"\"\n",
    "    np.random.seed(seed)            # Ensures result is reproducible\n",
    "    xarr = np.random.rand(n) * 2    # x coordinates\n",
    "    yarr = np.random.rand(n) * 2    # y coordinates\n",
    "    dist2arr = ((xarr - 1.0) ** 2 + # Distance (squared) of each point to the center\n",
    "                (yarr - 1.0) ** 2\n",
    "               )\n",
    "    isincirc = dist2arr <= 1        # True for points in the circle, False for out\n",
    "    incount = np.sum(isincirc)      # Number of points inside the circle \n",
    "                                    # (remember that True acts as 1, False as 0)\n",
    "    piapprox = 4 * incount / n      \n",
    "    return piapprox\n",
    "\n",
    "print(\"With a million points, pi~\", approxpi(1000000))"
   ]
  },
  {
   "cell_type": "markdown",
   "id": "8c94eef9",
   "metadata": {},
   "source": [
    "# Interpolation"
   ]
  },
  {
   "cell_type": "code",
   "execution_count": 145,
   "id": "a7ad3829",
   "metadata": {},
   "outputs": [
    {
     "data": {
      "image/png": "[encoded data removed]",
      "text/plain": [
       "<Figure size 432x288 with 1 Axes>"
      ]
     },
     "metadata": {
      "needs_background": "light"
     },
     "output_type": "display_data"
    }
   ],
   "source": [
    "plt.scatter(energy_arr, spectrum_arr)\n",
    "plt.vlines(7.0, np.min(spectrum_arr),\n",
    "           np.max(spectrum_arr), \n",
    "           'k',ls='--')\n",
    "plt.text(6.7,85,\"E=1e7 eV\",rotation=90,fontsize=12)\n",
    "plt.xlabel(\"Energy [eV]\",fontsize=12)\n",
    "plt.ylabel(\"Flux [arb. units]\",fontsize=12)\n",
    "plt.rcParams[\"xtick.labelsize\"] = 12\n",
    "plt.rcParams[\"ytick.labelsize\"] = 12"
   ]
  },
  {
   "cell_type": "markdown",
   "id": "3c31bf2e",
   "metadata": {},
   "source": [
    "Interpolation is used when I want to know the values in values that fall between my x-axis grid, like $E=10^7~\\rm{eV}$ in the figure above."
   ]
  },
  {
   "cell_type": "code",
   "execution_count": 136,
   "id": "f03f688d",
   "metadata": {},
   "outputs": [],
   "source": [
    "new_energies = np.linspace(4, 8, 5) # Energy values that are different \n",
    "                                    # from the ones in my original array\n",
    "\n",
    "interpolated_flux = np.interp(new_energies, energy_arr, spectrum_arr)"
   ]
  },
  {
   "cell_type": "code",
   "execution_count": 146,
   "id": "a7488fce",
   "metadata": {},
   "outputs": [
    {
     "data": {
      "image/png": "[encoded data removed]",
      "text/plain": [
       "<Figure size 432x288 with 1 Axes>"
      ]
     },
     "metadata": {
      "needs_background": "light"
     },
     "output_type": "display_data"
    }
   ],
   "source": [
    "plt.scatter(energy_arr, \n",
    "            spectrum_arr, \n",
    "            label=\"Old values\")\n",
    "plt.scatter(new_energies,\n",
    "            interpolated_flux,\n",
    "            label=\"Interpolated values\",\n",
    "            c='k',s=50,marker='x') \n",
    "plt.legend(loc='lower left', fontsize=12)\n",
    "\n",
    "plt.xlabel(\"Energy [eV]\",fontsize=12)\n",
    "plt.ylabel(\"Flux [arb. units]\",fontsize=12)\n",
    "plt.rcParams[\"xtick.labelsize\"] = 12\n",
    "plt.rcParams[\"ytick.labelsize\"] = 12"
   ]
  },
  {
   "cell_type": "code",
   "execution_count": 158,
   "id": "61784639",
   "metadata": {},
   "outputs": [
    {
     "name": "stdout",
     "output_type": "stream",
     "text": [
      "At 1e7 eV, the model predicts a flux of 79.0\n"
     ]
    }
   ],
   "source": [
    "flux_at_1e7 = interpolated_flux[new_energies == 7][0]\n",
    "print(f\"At 1e7 eV, the model predicts a flux of {flux_at_1e7:.1f}\")"
   ]
  },
  {
   "cell_type": "markdown",
   "id": "96f3d0b9",
   "metadata": {},
   "source": [
    "# Numerical integration"
   ]
  },
  {
   "cell_type": "markdown",
   "id": "e618486d",
   "metadata": {},
   "source": [
    "`np.trapz` integrates a y array over an x-array iwth the trapezoid method:"
   ]
  },
  {
   "cell_type": "code",
   "execution_count": 160,
   "id": "8060f75e",
   "metadata": {},
   "outputs": [
    {
     "name": "stdout",
     "output_type": "stream",
     "text": [
      "Area below the curve in the entire energy range: 492.0\n"
     ]
    }
   ],
   "source": [
    "integ = np.trapz(spectrum_arr, energy_arr) # In this case, we divide the  \n",
    "print(\"Area below the curve in the entire energy range:\", integ)"
   ]
  },
  {
   "cell_type": "markdown",
   "id": "da036506",
   "metadata": {},
   "source": [
    "### Group activity:\n",
    "\n",
    "A thermal source of fixed temperature $T$ radiates a spectrum whose shape is given by the Planck distribution,\n",
    "\n",
    "$$\n",
    "E^2\\frac{dN}{dE} \\,=\\, \\frac{E^4}{\\exp(k_B\\,T) -1},\n",
    "$$\n",
    "\n",
    "with $k_B=8.6\\times10^{-5}~\\rm{eV/K}$.\n",
    "\n",
    "Take an array of energies in eV:"
   ]
  },
  {
   "cell_type": "code",
   "execution_count": 174,
   "id": "a332d673",
   "metadata": {},
   "outputs": [],
   "source": [
    "earr = np.logspace(-3,1,100) # 100 energy values logarithmically distributed\n",
    "                             # between 1 meV and 10 eV"
   ]
  },
  {
   "cell_type": "markdown",
   "id": "7d3eedbf",
   "metadata": {},
   "source": [
    "and create an array `thermal_spec` of the spectrum radiated by a source of temperature $T=500~\\rm{K}$ with a total luinosity of $L=10^{45}~\\rm{erg/s}$. In other words, the *shape* of your spectrum is given byt the Planck formula above, and its *normalization* is given by the condition:\n",
    "\n",
    "$$\n",
    "\\int \\left(E^2\\frac{dN}{dE}\\right) \\frac{1}{E} dE \\,=\\, 10^{45}~\\rm{erg}/\\rm{s}.\n",
    "$$\n"
   ]
  },
  {
   "cell_type": "markdown",
   "id": "73636e0e",
   "metadata": {},
   "source": [
    "### Solution:"
   ]
  },
  {
   "cell_type": "code",
   "execution_count": 178,
   "id": "116a9d66",
   "metadata": {},
   "outputs": [
    {
     "name": "stdout",
     "output_type": "stream",
     "text": [
      "1e+45\n"
     ]
    },
    {
     "data": {
      "image/png": "[encoded data removed]",
      "text/plain": [
       "<Figure size 432x288 with 1 Axes>"
      ]
     },
     "metadata": {
      "needs_background": "light"
     },
     "output_type": "display_data"
    }
   ],
   "source": [
    "kbT = 500 * 8.6e-5\n",
    "\n",
    "spec_shape = earr ** 4 / (np.exp(earr / kbT) - 1) # Spectrum that follows the Planck\n",
    "                                                  # distribution, but has arbitrary\n",
    "                                                  # normalization\n",
    "\n",
    "myintegral = np.trapz(spec_shape / earr, earr) # This is the integral of the \n",
    "                                               # spectrum I created\n",
    "\n",
    "renorm_factor =  1e45 / myintegral # This is the normalization factor necessary to\n",
    "                                   # bring the integral to the required value of \n",
    "                                   # 1e45 erg/s  \n",
    "\n",
    "thermal_spec = spec_shape * renorm_factor\n",
    "\n",
    "print(np.trapz(thermal_spec / earr, earr)) # Check that the integrated luminosity \n",
    "                                           # is now the desired 1e45 erg/s\n",
    "\n",
    "plt.loglog(earr, thermal_spec, lw=2)\n",
    "plt.ylim([1e41,1e46])\n",
    "plt.xlabel(\"Energy [eV]\",fontsize=12)\n",
    "plt.ylabel(\"Flux [erg/s]\",fontsize=12)\n",
    "plt.rcParams[\"xtick.labelsize\"] = 12\n",
    "plt.rcParams[\"ytick.labelsize\"] = 12\n"
   ]
  }
 ],
 "metadata": {
  "kernelspec": {
   "display_name": "Python 3",
   "language": "python",
   "name": "python3"
  },
  "language_info": {
   "codemirror_mode": {
    "name": "ipython",
    "version": 3
   },
   "file_extension": ".py",
   "mimetype": "text/x-python",
   "name": "python",
   "nbconvert_exporter": "python",
   "pygments_lexer": "ipython3",
   "version": "3.9.12"
  }
 },
 "nbformat": 4,
 "nbformat_minor": 5
}
