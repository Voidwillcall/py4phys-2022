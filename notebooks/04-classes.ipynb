{
 "cells": [
  {
   "cell_type": "markdown",
   "metadata": {},
   "source": [
    "# Classes\n",
    "Or \"a short and hopefully effective introduction to object-based/oriented programming\".  "
   ]
  },
  {
   "cell_type": "markdown",
   "metadata": {},
   "source": [
    "You can think of classes as a more hierarchical way of organizing your data *and* code.\n",
    "\n",
    "- A **class** defines the description of an **object**.\n",
    "- An object of a given class is called an ***instance*** of the class.\n",
    "- An object contains data (attributes) and the class specify functions that can make use of such data (methods).\n"
   ]
  },
  {
   "cell_type": "markdown",
   "metadata": {},
   "source": [
    "## Our first class\n",
    "We will use last week's example to show how to re-organise our code in classes."
   ]
  },
  {
   "cell_type": "code",
   "execution_count": 1,
   "metadata": {},
   "outputs": [],
   "source": [
    "names = [\"NGC 5128\", \"TXS 0506+056\", \"NGC 1068\", \"GB6 J1040+0617\", \"TXS 2226-184\"]\n",
    "distances = [3.7, 1.75e3, 14.4, 1.51e4, 107.1]  # Mpc\n",
    "luminosities = [1e40, 3e46, 4.9e38, 6.2e45, 5.5e41] # erg/s"
   ]
  },
  {
   "cell_type": "code",
   "execution_count": 2,
   "metadata": {},
   "outputs": [],
   "source": [
    "class Source:\n",
    "    default_distance_unit = 'Mpc'\n",
    "    default_luminosity_unit = 'erg.s-1'\n",
    "\n",
    "    def __init__(self, name, distance, luminosity):\n",
    "        self.name = name\n",
    "        self.distance = distance\n",
    "        self.luminosity = luminosity"
   ]
  },
  {
   "cell_type": "markdown",
   "metadata": {},
   "source": [
    "The init method can be referred to as a *constructor*. (Technically in python this is not a constructor, but practically - for our purpose - it is.)"
   ]
  },
  {
   "cell_type": "code",
   "execution_count": 3,
   "metadata": {},
   "outputs": [],
   "source": [
    "def load_sources():\n",
    "    sources = []\n",
    "    for n, d, l in zip(names, distances, luminosities):\n",
    "        s = Source(n, d, l)\n",
    "        sources.append(s)\n",
    "    return sources\n",
    "\n",
    "sources = load_sources()"
   ]
  },
  {
   "cell_type": "markdown",
   "metadata": {},
   "source": [
    "We have now built a new list. This list does not contain our \"raw\" information anymore. "
   ]
  },
  {
   "cell_type": "code",
   "execution_count": 4,
   "metadata": {},
   "outputs": [],
   "source": [
    "s = sources[0]"
   ]
  },
  {
   "cell_type": "code",
   "execution_count": 5,
   "metadata": {},
   "outputs": [
    {
     "name": "stdout",
     "output_type": "stream",
     "text": [
      "NGC 5128 3.7 1e+40\n"
     ]
    }
   ],
   "source": [
    "print(s.name, s.distance, s.luminosity)\n",
    "\n",
    "# You can also assign them as `s.name = ...`"
   ]
  },
  {
   "cell_type": "markdown",
   "metadata": {},
   "source": [
    "We can access the attributes with the dot (`.`) operator.\n",
    "\n",
    "Sometimes this is OK.\n",
    "\n",
    "But the object-base paradigm relies in general on hiding the inner details of how a class works, and exposing to the user a so-called *interface*, i.e. a set of functions (methods) that allows the user to interact with the object.\n",
    "\n",
    "Direct access to attributes is usually not permitted in object-oriented languages (C++, Java) unless explicitly declared.\n"
   ]
  },
  {
   "cell_type": "code",
   "execution_count": 6,
   "metadata": {},
   "outputs": [],
   "source": [
    "class Source:\n",
    "    default_distance_unit = 'Mpc'\n",
    "    default_luminosity_unit = 'erg.s-1'\n",
    "\n",
    "    def __init__(self, name, distance, luminosity):\n",
    "        self.name = name\n",
    "        self.distance = distance\n",
    "        self.luminosity = luminosity\n",
    "        self.detected = False\n",
    "\n",
    "    # ====================\n",
    "\n",
    "    def get_name(self):\n",
    "        return self.name\n",
    "\n",
    "    def get_distance(self, unit=Source.default_distance_unit):\n",
    "        if unit == Source.default_distance_unit:\n",
    "            return self.distance\n",
    "        elif unit == 'ly':\n",
    "            return self.distance * 3.26156\n",
    "        else:\n",
    "            return None\n",
    "\n",
    "    def get_luminosity(self):\n",
    "        return self.luminosity\n",
    "\n",
    "    # ====================\n",
    "\n",
    "    def is_detected(self):\n",
    "        return self.detected\n",
    "\n",
    "    # ====================\n",
    "\n",
    "    def set_detected(self, detected):\n",
    "        self.is_detected = detected\n",
    "\n",
    "    \"\"\"\n",
    "    def set_name(self, name):\n",
    "        self.name = name\n",
    "\n",
    "    def set_distance(self, distance):\n",
    "        self.distance = distance\n",
    "\n",
    "    def set_luminosity(self, luminosity):\n",
    "        self.luminosity = luminosity\n",
    "    \"\"\""
   ]
  },
  {
   "cell_type": "markdown",
   "metadata": {},
   "source": [
    "We have defined the so-called *setter methods* and *getter methods*!\n",
    "- Getter methods are useful because allow you to establish a layer of *abstraction* between the inner representation of the class data and the way this information is accessed!\n",
    "- Do you always need a getter method for all attributes? Not necessarily, but it can be a choice that pays off as your code grows more complex. Remember: methods (functions) are much more easily documented than individual attributes!\n",
    "- Setter methods may be useful... or not. Some attributes may need to be modified *after* the object creations, other should be better \n",
    "- There is no way to ensure the immutability of an attribute, but setter methods are a good way to let the user know what should be and what should not be touched!\n"
   ]
  },
  {
   "cell_type": "code",
   "execution_count": 7,
   "metadata": {},
   "outputs": [
    {
     "name": "stdout",
     "output_type": "stream",
     "text": [
      "NGC 5128 is 3.7 Mpc or 12.067772 light years away\n"
     ]
    }
   ],
   "source": [
    "sources = load_sources()\n",
    "\n",
    "s = sources[0]\n",
    "\n",
    "print(f\"{s.name} is {s.get_distance()} Mpc or {s.get_distance(unit='ly')} light years away\")\n"
   ]
  },
  {
   "cell_type": "markdown",
   "metadata": {},
   "source": [
    "### Class method and static methods!\n",
    "If a method does not use the instance's attributes but only class attributes, it's better defined as a *class method*.\n",
    "\n",
    "If a method does not use any attribute, it's better defined as *static method*."
   ]
  },
  {
   "cell_type": "code",
   "execution_count": 8,
   "metadata": {},
   "outputs": [],
   "source": [
    "import math\n",
    "\n",
    "class Source:\n",
    "    default_distance_unit = 'Mpc'\n",
    "    default_luminosity_unit = 'erg.s-1'\n",
    "\n",
    "    @staticmethod\n",
    "    def luminosity_to_flux(luminosity, distance):\n",
    "        \"\"\" convert luminosity to flux \"\"\"\n",
    "        return luminosity * 4 * math.pi * distance**2\n",
    "\n",
    "    @classmethod\n",
    "    def convert_distance(cls, distance, to_unit):\n",
    "        \"\"\" convert a distance from the default unit of the class to another tabulated unit \"\"\" \n",
    "        conversion_factors = { cls.default_distance_unit : 1.0, 'ly' : 3.26156 }\n",
    "        return distance * conversion_factors[to_unit]\n",
    "\n",
    "\n",
    "    def __init__(self, name, distance, luminosity):\n",
    "        self.name = name\n",
    "        self.distance = distance\n",
    "        self.luminosity = luminosity\n",
    "        self.detected = False\n",
    "\n",
    "    # ====================\n",
    "\n",
    "    def get_name(self):\n",
    "        return self.name\n",
    "\n",
    "    def get_distance(self, unit=Source.default_distance_unit):\n",
    "        return self.convert_distance(self.distance, unit)\n",
    "\n",
    "    def get_luminosity(self):\n",
    "        return self.luminosity\n",
    "\n",
    "    # ====================\n",
    "\n",
    "    def is_detected(self):\n",
    "        return self.detected\n",
    "\n",
    "    # ====================\n",
    "\n",
    "    def set_detected(self, detected):\n",
    "        self.is_detected = detected\n"
   ]
  },
  {
   "cell_type": "code",
   "execution_count": 9,
   "metadata": {},
   "outputs": [
    {
     "data": {
      "text/plain": [
       "12.067772"
      ]
     },
     "execution_count": 9,
     "metadata": {},
     "output_type": "execute_result"
    }
   ],
   "source": [
    "sources = load_sources()\n",
    "\n",
    "s = sources[0]\n",
    "\n",
    "s.get_distance('ly')"
   ]
  },
  {
   "cell_type": "markdown",
   "metadata": {},
   "source": [
    "Important: both `self` and `cls` are conventional but arbitrary names.\n",
    "- Ordinary methods are always passed the object itself as first (implicit) argument\n",
    "- Class methods are always passed the class itself as first (implicit) argument"
   ]
  },
  {
   "cell_type": "code",
   "execution_count": 13,
   "metadata": {},
   "outputs": [
    {
     "name": "stdout",
     "output_type": "stream",
     "text": [
      "{'foo': 'foo'}\n",
      "{'foo': 'foo'}\n"
     ]
    },
    {
     "ename": "TypeError",
     "evalue": "DummyClass.dummy_method() takes 0 positional arguments but 1 was given",
     "output_type": "error",
     "traceback": [
      "\u001b[0;31m---------------------------------------------------------------------------\u001b[0m",
      "\u001b[0;31mTypeError\u001b[0m                                 Traceback (most recent call last)",
      "\u001b[1;32m/home/lincetto/Work/py4phys-2022/notebooks/04-classes.ipynb Cell 19\u001b[0m in \u001b[0;36m<cell line: 20>\u001b[0;34m()\u001b[0m\n\u001b[1;32m     <a href='vscode-notebook-cell:/home/lincetto/Work/py4phys-2022/notebooks/04-classes.ipynb#X43sZmlsZQ%3D%3D?line=17'>18</a>\u001b[0m dummy\u001b[39m.\u001b[39mdummy_static_method(foo\u001b[39m=\u001b[39m\u001b[39m\"\u001b[39m\u001b[39mfoo\u001b[39m\u001b[39m\"\u001b[39m)\n\u001b[1;32m     <a href='vscode-notebook-cell:/home/lincetto/Work/py4phys-2022/notebooks/04-classes.ipynb#X43sZmlsZQ%3D%3D?line=18'>19</a>\u001b[0m dummy\u001b[39m.\u001b[39mdummy_class_method(foo\u001b[39m=\u001b[39m\u001b[39m\"\u001b[39m\u001b[39mfoo\u001b[39m\u001b[39m\"\u001b[39m)\n\u001b[0;32m---> <a href='vscode-notebook-cell:/home/lincetto/Work/py4phys-2022/notebooks/04-classes.ipynb#X43sZmlsZQ%3D%3D?line=19'>20</a>\u001b[0m dummy\u001b[39m.\u001b[39;49mdummy_method(foo\u001b[39m=\u001b[39;49m\u001b[39m\"\u001b[39;49m\u001b[39mfoo\u001b[39;49m\u001b[39m\"\u001b[39;49m)\n",
      "\u001b[0;31mTypeError\u001b[0m: DummyClass.dummy_method() takes 0 positional arguments but 1 was given"
     ]
    }
   ],
   "source": [
    "class DummyClass:\n",
    "    def __init__(self):\n",
    "        pass\n",
    "\n",
    "    @staticmethod\n",
    "    def dummy_static_method(*args):\n",
    "        print(args)\n",
    "\n",
    "    @classmethod\n",
    "    def dummy_class_method(cls, *args):\n",
    "        print(args)\n",
    "\n",
    "    def dummy_method(self, *args):\n",
    "        print(args)\n",
    "\n",
    "dummy = DummyClass()\n",
    "\n",
    "dummy.dummy_static_method(foo=\"foo\")\n",
    "dummy.dummy_class_method(foo=\"foo\")\n",
    "dummy.dummy_method(foo=\"foo\")\n",
    "    "
   ]
  },
  {
   "cell_type": "code",
   "execution_count": null,
   "metadata": {},
   "outputs": [],
   "source": []
  }
 ],
 "metadata": {
  "kernelspec": {
   "display_name": "Python 3.10.5 ('astronomy')",
   "language": "python",
   "name": "python3"
  },
  "language_info": {
   "codemirror_mode": {
    "name": "ipython",
    "version": 3
   },
   "file_extension": ".py",
   "mimetype": "text/x-python",
   "name": "python",
   "nbconvert_exporter": "python",
   "pygments_lexer": "ipython3",
   "version": "3.10.5"
  },
  "orig_nbformat": 4,
  "vscode": {
   "interpreter": {
    "hash": "a27840a7b1c12ed5c4097e0c82ce74f146693c21815a51f33b43828b75394333"
   }
  }
 },
 "nbformat": 4,
 "nbformat_minor": 2
}
