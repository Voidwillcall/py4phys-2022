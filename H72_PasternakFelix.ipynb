{
  "cells": [
    {
      "cell_type": "markdown",
      "metadata": {
        "id": "view-in-github",
        "colab_type": "text"
      },
      "source": [
        "<a href=\"https://colab.research.google.com/github/Voidwillcall/py4phys-2022/blob/main/H72_PasternakFelix.ipynb\" target=\"_parent\"><img src=\"https://colab.research.google.com/assets/colab-badge.svg\" alt=\"Open In Colab\"/></a>"
      ]
    },
    {
      "cell_type": "code",
      "execution_count": 1,
      "metadata": {
        "id": "2ZeuMyUOf37r"
      },
      "outputs": [],
      "source": [
        "import numpy as np\n"
      ]
    },
    {
      "cell_type": "code",
      "execution_count": 2,
      "metadata": {
        "colab": {
          "base_uri": "https://localhost:8080/"
        },
        "id": "KuQGB_1pf37t",
        "outputId": "2d0ce0a7-5f7e-47a6-9e96-86e9e5b84f54"
      },
      "outputs": [
        {
          "output_type": "stream",
          "name": "stdout",
          "text": [
            "[1, 2, 3, 4]\n"
          ]
        }
      ],
      "source": [
        "# Aufgabe H7.3\n",
        "\n",
        "TestList = [1, 2, 3, 4]\n",
        "# Prints before change\n",
        "print(TestList)\n"
      ]
    },
    {
      "cell_type": "code",
      "execution_count": 3,
      "metadata": {
        "colab": {
          "base_uri": "https://localhost:8080/"
        },
        "id": "bMzljX-4f37u",
        "outputId": "e782b826-edcc-4fb3-d192-73cd0ee39176"
      },
      "outputs": [
        {
          "output_type": "stream",
          "name": "stdout",
          "text": [
            "[1, 2, 3, 4, 5]\n"
          ]
        }
      ],
      "source": [
        "# Addition\n",
        "NewList_Added = TestList + [5]\n",
        "\n",
        "# Prints list with changes\n",
        "print(NewList_Added)\n",
        "\n"
      ]
    },
    {
      "cell_type": "code",
      "execution_count": 4,
      "metadata": {
        "colab": {
          "base_uri": "https://localhost:8080/"
        },
        "id": "U16BggPrf37u",
        "outputId": "f36b3433-4beb-44b9-c2e1-9d9234d2b534"
      },
      "outputs": [
        {
          "output_type": "stream",
          "name": "stdout",
          "text": [
            "[1, 2, 3]\n"
          ]
        }
      ],
      "source": [
        "# Substraction\n",
        "TestList.remove(4)\n",
        "\n",
        "# Prints list with changes\n",
        "print(TestList)\n"
      ]
    },
    {
      "cell_type": "code",
      "execution_count": 5,
      "metadata": {
        "colab": {
          "base_uri": "https://localhost:8080/"
        },
        "id": "iu80ME0Yf37u",
        "outputId": "c5450bee-2668-4de6-c41b-85bd890fec6d"
      },
      "outputs": [
        {
          "output_type": "stream",
          "name": "stdout",
          "text": [
            "[1, 2, 3, 4]\n"
          ]
        }
      ],
      "source": [
        "# New entry\n",
        "TestList.insert(3, 4)\n",
        "print(TestList)"
      ]
    },
    {
      "cell_type": "code",
      "execution_count": 6,
      "metadata": {
        "colab": {
          "base_uri": "https://localhost:8080/"
        },
        "id": "Xnl0_Jkbf37v",
        "outputId": "ff5c1838-224a-4fc4-b4ed-c51c55a042b8"
      },
      "outputs": [
        {
          "output_type": "stream",
          "name": "stdout",
          "text": [
            "[1, 2, 3, 4, 5, 6, 7, 8]\n"
          ]
        }
      ],
      "source": [
        "# New List\n",
        "NewList = [5, 6, 7, 8]\n",
        "\n",
        "Together = TestList + NewList\n",
        "print(Together)"
      ]
    },
    {
      "cell_type": "code",
      "execution_count": 7,
      "metadata": {
        "colab": {
          "base_uri": "https://localhost:8080/"
        },
        "id": "p2jpv3Ruf37v",
        "outputId": "dcc53f5f-c37e-4a72-c35e-d97394473ffb"
      },
      "outputs": [
        {
          "output_type": "stream",
          "name": "stdout",
          "text": [
            "[1, [5, 6, 7, 8], 2, 3, 4]\n"
          ]
        }
      ],
      "source": [
        "# Ersetzen Sie ein Element der ersten Liste mit der zweiten Liste\n",
        "TestList.insert(1, NewList)\n",
        "print(TestList)\n"
      ]
    },
    {
      "cell_type": "code",
      "execution_count": 8,
      "metadata": {
        "colab": {
          "base_uri": "https://localhost:8080/"
        },
        "id": "hRoqC83pf37v",
        "outputId": "7b268ee7-31a4-4967-cd19-c3a7a3b6bae6"
      },
      "outputs": [
        {
          "output_type": "stream",
          "name": "stdout",
          "text": [
            "(1, 2, 3, 4)\n"
          ]
        }
      ],
      "source": [
        "# b\n",
        "TestTupel = (1, 2, 3, 4)\n",
        "\n",
        "print(TestTupel)"
      ]
    },
    {
      "cell_type": "code",
      "execution_count": 9,
      "metadata": {
        "colab": {
          "base_uri": "https://localhost:8080/",
          "height": 183
        },
        "id": "LWQw7Lotf37v",
        "outputId": "ae84c72f-ed89-4b8a-c8a8-7b1db87e8bf1"
      },
      "outputs": [
        {
          "output_type": "error",
          "ename": "TypeError",
          "evalue": "ignored",
          "traceback": [
            "\u001b[0;31m---------------------------------------------------------------------------\u001b[0m",
            "\u001b[0;31mTypeError\u001b[0m                                 Traceback (most recent call last)",
            "\u001b[0;32m<ipython-input-9-1292bd660e3c>\u001b[0m in \u001b[0;36m<cell line: 1>\u001b[0;34m()\u001b[0m\n\u001b[0;32m----> 1\u001b[0;31m \u001b[0mNewTupel\u001b[0m \u001b[0;34m=\u001b[0m \u001b[0mTestTupel\u001b[0m \u001b[0;34m+\u001b[0m \u001b[0;34m(\u001b[0m\u001b[0;36m5\u001b[0m\u001b[0;34m)\u001b[0m\u001b[0;34m\u001b[0m\u001b[0;34m\u001b[0m\u001b[0m\n\u001b[0m\u001b[1;32m      2\u001b[0m \u001b[0;31m# Dies erzeugt einen Fehler, da Tupel nachträglich nicht geändert werden können!\u001b[0m\u001b[0;34m\u001b[0m\u001b[0;34m\u001b[0m\u001b[0m\n",
            "\u001b[0;31mTypeError\u001b[0m: can only concatenate tuple (not \"int\") to tuple"
          ]
        }
      ],
      "source": [
        "NewTupel = TestTupel + (5)\n",
        "# Dies erzeugt einen Fehler, da Tupel nachträglich nicht geändert werden können!"
      ]
    },
    {
      "cell_type": "code",
      "execution_count": 10,
      "metadata": {
        "colab": {
          "base_uri": "https://localhost:8080/"
        },
        "id": "jp648c7Gf37w",
        "outputId": "d662172a-3a54-468c-dfd7-323d0d382bf7"
      },
      "outputs": [
        {
          "output_type": "stream",
          "name": "stdout",
          "text": [
            "Addition: [5 7 9]\n",
            "Multiplikation: [ 4 10 18]\n"
          ]
        }
      ],
      "source": [
        "# c\n",
        "arr1 = np.array([1, 2, 3])\n",
        "arr2 = np.array([4, 5, 6])\n",
        "\n",
        "# Addition\n",
        "arrAdd = arr1 + arr2\n",
        "print(\"Addition:\", arrAdd)\n",
        "\n",
        "# Multiplikation\n",
        "arrMult = arr1 * arr2\n",
        "print(\"Multiplikation:\", arrMult)\n"
      ]
    },
    {
      "cell_type": "code",
      "execution_count": 11,
      "metadata": {
        "colab": {
          "base_uri": "https://localhost:8080/"
        },
        "id": "1skBETzUf37w",
        "outputId": "0eb619bc-a12a-4db4-ab95-b2fe97089f05"
      },
      "outputs": [
        {
          "output_type": "stream",
          "name": "stdout",
          "text": [
            "Skalarprodukt: 32\n"
          ]
        }
      ],
      "source": [
        "# Berechnen Sie das Skalarprodukt\n",
        "dot = np.dot(arr1, arr2)\n",
        "print(\"Skalarprodukt:\", dot)"
      ]
    },
    {
      "cell_type": "code",
      "execution_count": 12,
      "metadata": {
        "colab": {
          "base_uri": "https://localhost:8080/"
        },
        "id": "MYhyrvnPf37w",
        "outputId": "0cfbaabd-d66f-4520-94d0-3620e139fbdf"
      },
      "outputs": [
        {
          "output_type": "stream",
          "name": "stdout",
          "text": [
            "3.7416573867739413\n"
          ]
        }
      ],
      "source": [
        "# Berechnen Sie außerdem den Betrag von einem der Arrays\n",
        "arr3 = np.sqrt((arr1[0])**2 + (arr1[1])**2 + (arr1[2])**2)\n",
        "print(arr3)\n"
      ]
    },
    {
      "cell_type": "code",
      "source": [],
      "metadata": {
        "id": "Oalf28A8f5pN"
      },
      "execution_count": 12,
      "outputs": []
    }
  ],
  "metadata": {
    "kernelspec": {
      "display_name": "Python 3",
      "language": "python",
      "name": "python3"
    },
    "language_info": {
      "codemirror_mode": {
        "name": "ipython",
        "version": 3
      },
      "file_extension": ".py",
      "mimetype": "text/x-python",
      "name": "python",
      "nbconvert_exporter": "python",
      "pygments_lexer": "ipython3",
      "version": "3.11.0"
    },
    "orig_nbformat": 4,
    "colab": {
      "provenance": [],
      "include_colab_link": true
    }
  },
  "nbformat": 4,
  "nbformat_minor": 0
}