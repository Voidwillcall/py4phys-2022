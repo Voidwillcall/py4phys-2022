{
 "cells": [
  {
   "cell_type": "markdown",
   "metadata": {},
   "source": [
    "# Getting Started"
   ]
  },
  {
   "cell_type": "markdown",
   "metadata": {},
   "source": [
    "You are looking at a *notebook*, structured file that allow to mix text (in the `markdown` format) and code (usually in `python`).\n",
    "\n",
    "Notebooks allow for a very intuitive interactive programming environment, although you will learn there are pitfalls!"
   ]
  },
  {
   "cell_type": "markdown",
   "metadata": {},
   "source": [
    "## Hello World!\n",
    "We will start with a great classic of the history of programming, the \"hello world\"."
   ]
  },
  {
   "cell_type": "code",
   "execution_count": 1,
   "metadata": {},
   "outputs": [
    {
     "name": "stdout",
     "output_type": "stream",
     "text": [
      "Hello World!\n"
     ]
    }
   ],
   "source": [
    "print(\"Hello World!\"  )"
   ]
  },
  {
   "cell_type": "markdown",
   "metadata": {},
   "source": [
    "Here, `print()` is a *function*. We will learn more about functions later in the course.\n",
    "\n",
    "Note that `python` lines of code end at the new line and do not require any punctuation, whereas many languages use a semicolon (`;`)."
   ]
  },
  {
   "cell_type": "markdown",
   "metadata": {},
   "source": [
    "It is a good practice to **document** your code. There are more or less sophisticated of doing this, but the basic level are *comments*."
   ]
  },
  {
   "cell_type": "code",
   "execution_count": 9,
   "metadata": {},
   "outputs": [
    {
     "name": "stdout",
     "output_type": "stream",
     "text": [
      "Hello World!\n"
     ]
    }
   ],
   "source": [
    "# This is a single-line comment. Anything after the '#' mark will be ignored, for example print(\"Hello World\")\n",
    "\n",
    "print(\"Hello World!\") # We run this a second time to illustrate inline comments."
   ]
  },
  {
   "cell_type": "code",
   "execution_count": 10,
   "metadata": {},
   "outputs": [
    {
     "name": "stdout",
     "output_type": "stream",
     "text": [
      "That was a nice comment.\n"
     ]
    }
   ],
   "source": [
    "\"\"\"\n",
    "This is a multiline comment.\n",
    "Ideally it should describe what happens in the next block of code.\n",
    "We will print a different message.\n",
    "\"\"\"\n",
    "print(\"That was a nice comment.\")"
   ]
  },
  {
   "cell_type": "code",
   "execution_count": 8,
   "metadata": {},
   "outputs": [
    {
     "name": "stdout",
     "output_type": "stream",
     "text": [
      "Hello world!\n"
     ]
    }
   ],
   "source": [
    "'''\n",
    "This is also a multiline comment.\n",
    "We will use this cell to illustrate how ' ' and \" \" are equivalent.\n",
    "'''\n",
    "print('That was a nice comment.')"
   ]
  },
  {
   "cell_type": "markdown",
   "metadata": {},
   "source": [
    "There is no functional difference between apostrophes (`''`) and quotation marks (`\"\"`) in `python` when used as string or comment delimiters. However, you may want to print a string with an apostrophe in it and in such case enclosing the string in quotation marks may be more convenient!"
   ]
  }
 ],
 "metadata": {
  "kernelspec": {
   "display_name": "Python 3.10.5 ('science')",
   "language": "python",
   "name": "python3"
  },
  "language_info": {
   "codemirror_mode": {
    "name": "ipython",
    "version": 3
   },
   "file_extension": ".py",
   "mimetype": "text/x-python",
   "name": "python",
   "nbconvert_exporter": "python",
   "pygments_lexer": "ipython3",
   "version": "3.10.5"
  },
  "orig_nbformat": 4,
  "vscode": {
   "interpreter": {
    "hash": "e22a2eb9a392155e6c1a70cb0bf3a6766fcf0e144014212996f1e147d1c2c35e"
   }
  }
 },
 "nbformat": 4,
 "nbformat_minor": 2
}
