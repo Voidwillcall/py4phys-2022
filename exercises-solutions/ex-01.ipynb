{
 "cells": [
  {
   "cell_type": "markdown",
   "metadata": {},
   "source": [
    "# Exercise Sheet 1\n",
    "\n",
    "Group:\n",
    "- Massimiliano Lincetto\n",
    "- Xavier Rodrigues\n",
    "- Anastasiia Omeliukh"
   ]
  },
  {
   "cell_type": "markdown",
   "metadata": {},
   "source": [
    "## Tip: simple functions\n",
    "We haven't yet introduced functions, and you could in principle solve this exercise sheet without them, but this may require repeating multiple times the same block of code, which is a *very bad* way of programming.\n",
    "\n",
    "Functions allow you to reuse the same instructions on different input values to get a result. We will show here an example for you to follow:"
   ]
  },
  {
   "cell_type": "code",
   "execution_count": 22,
   "metadata": {},
   "outputs": [
    {
     "name": "stdout",
     "output_type": "stream",
     "text": [
      "3\n",
      "11\n"
     ]
    }
   ],
   "source": [
    "def sum(a, b):\n",
    "    c = a + b\n",
    "    return c\n",
    "    # the body of the function is indented\n",
    "\n",
    "# now we go back to the main program\n",
    "print(sum(1,2))\n",
    "\n",
    "a, b = 5, 6\n",
    "c = sum(a,b)\n",
    "print(c)"
   ]
  },
  {
   "cell_type": "markdown",
   "metadata": {},
   "source": [
    "As you see, the syntax is very intuitive. The name of the function is introduced by `def`, the input arguments of the function are delimited by round brackets and separated by commas, and the result is reported with `return`.\n",
    "\n",
    "**Important**: the code inside the function need to be *indented*, i.e. each line has to be introduced by a spacing that can be inserted using the \"Tab\" key. We have seen this for `if` statements already. In `python`, *indentation is part of the syntax* and most editors will take care of it automatically. You can indent and un-indent lines with \"Tab\" and \"shift + Tab\". More about this in the next lecture...\n",
    "\n",
    "Now, try to write a function that joins two strings by a given character:"
   ]
  },
  {
   "cell_type": "code",
   "execution_count": 23,
   "metadata": {},
   "outputs": [
    {
     "name": "stdout",
     "output_type": "stream",
     "text": [
      "apples and oranges\n"
     ]
    }
   ],
   "source": [
    "def concat(s1, s2, c):\n",
    "    result = s1 + c + s2\n",
    "    return result\n",
    "\n",
    "print(concat('apples', 'oranges', ' and '))"
   ]
  },
  {
   "cell_type": "markdown",
   "metadata": {},
   "source": [
    "Before moving further, you may want to revise how to loop over a collection. We have updated the lecture notebook with a couple more examples (loop over dictionary, loop with index) that may be useful, please take a look!"
   ]
  },
  {
   "cell_type": "markdown",
   "metadata": {},
   "source": [
    "## 1.1 Caesar's cypher\n",
    "\n",
    "The Caesar's cypher is a very simple cryptographical system where each letter is shifted by *n* positions in the alphabet. For example for `n = 2`, \"A\" becomes \"C\", \"B\" becomes \"D\", etc. A special case of  the Caesar's cypher widely known in computing is known as ROT13 (*rotate by 13*), where `n = 13`. For a 26-letter alphabet, it's easy to see how ROT13 is its own inverse.\n",
    "\n",
    "**(A)** Write a function that, starting from an example string, can apply a Caesar's cypher with arbitrary `n`, according to the following rules:\n",
    "- only letters in the 26-letter Latin alphabet shall be transformed;\n",
    "- punctuation, whitespaces and new lines should be left unchanged.\n",
    "\n",
    "Apply this function to the `test_message` introduced below, and print the result!\n",
    "\n",
    "Tip: the newline escape sequence (`\\n`) consists of two characters, so it may require a special treatment!\n",
    "\n",
    "**(B)** Make sure that your code is able to retrieve the original message with a proper adjustment of `n`! Take the transformed message, apply the inverse transformation, and print the new result."
   ]
  },
  {
   "cell_type": "code",
   "execution_count": 24,
   "metadata": {},
   "outputs": [
    {
     "name": "stdout",
     "output_type": "stream",
     "text": [
      "\"In that case,\" said Sancho Panza, \"if I should become a king by one of those miracles your worship speaks of, even Juana Gutierrez, my old woman, would come to be queen and my children infantes.\"\n",
      "\"Well, who doubts it?\" said Don Quixote.\n"
     ]
    }
   ],
   "source": [
    "test_message = '\"In that case,\" said Sancho Panza, \"if I should become a king by one of those miracles your worship speaks of, even Juana Gutierrez, my old woman, would come to be queen and my children infantes.\"\\n\"Well, who doubts it?\" said Don Quixote.'\n",
    "\n",
    "print(test_message)"
   ]
  },
  {
   "cell_type": "markdown",
   "metadata": {},
   "source": [
    "**Solution**: most of the times, tasks can be decomposed in smaller and independent problems. In this case, one problem is how to process the message letter-by-letter. The other is how to map to a letter its own counterpart.\n",
    "\n",
    "To process the message letter-by-letter, we have to split the string into the individual characters. We have seen that constructing a list out of a string accomplishes this. However, we should wonder how escape sequences (such as `\\n`) behave in such context. Better test this as the first thing."
   ]
  },
  {
   "cell_type": "code",
   "execution_count": 25,
   "metadata": {},
   "outputs": [
    {
     "name": "stdout",
     "output_type": "stream",
     "text": [
      "['\"', 'I', 'n', ' ', 't', 'h', 'a', 't', ' ', 'c', 'a', 's', 'e', ',', '\"', ' ', 's', 'a', 'i', 'd', ' ', 'S', 'a', 'n', 'c', 'h', 'o', ' ', 'P', 'a', 'n', 'z', 'a', ',', ' ', '\"', 'i', 'f', ' ', 'I', ' ', 's', 'h', 'o', 'u', 'l', 'd', ' ', 'b', 'e', 'c', 'o', 'm', 'e', ' ', 'a', ' ', 'k', 'i', 'n', 'g', ' ', 'b', 'y', ' ', 'o', 'n', 'e', ' ', 'o', 'f', ' ', 't', 'h', 'o', 's', 'e', ' ', 'm', 'i', 'r', 'a', 'c', 'l', 'e', 's', ' ', 'y', 'o', 'u', 'r', ' ', 'w', 'o', 'r', 's', 'h', 'i', 'p', ' ', 's', 'p', 'e', 'a', 'k', 's', ' ', 'o', 'f', ',', ' ', 'e', 'v', 'e', 'n', ' ', 'J', 'u', 'a', 'n', 'a', ' ', 'G', 'u', 't', 'i', 'e', 'r', 'r', 'e', 'z', ',', ' ', 'm', 'y', ' ', 'o', 'l', 'd', ' ', 'w', 'o', 'm', 'a', 'n', ',', ' ', 'w', 'o', 'u', 'l', 'd', ' ', 'c', 'o', 'm', 'e', ' ', 't', 'o', ' ', 'b', 'e', ' ', 'q', 'u', 'e', 'e', 'n', ' ', 'a', 'n', 'd', ' ', 'm', 'y', ' ', 'c', 'h', 'i', 'l', 'd', 'r', 'e', 'n', ' ', 'i', 'n', 'f', 'a', 'n', 't', 'e', 's', '.', '\"', '\\n', '\"', 'W', 'e', 'l', 'l', ',', ' ', 'w', 'h', 'o', ' ', 'd', 'o', 'u', 'b', 't', 's', ' ', 'i', 't', '?', '\"', ' ', 's', 'a', 'i', 'd', ' ', 'D', 'o', 'n', ' ', 'Q', 'u', 'i', 'x', 'o', 't', 'e', '.']\n"
     ]
    }
   ],
   "source": [
    "l = list(test_message)\n",
    "print(l)"
   ]
  },
  {
   "cell_type": "markdown",
   "metadata": {},
   "source": [
    "Luckily for us, escape sequences are treated as a single element, so they do not require special attention from us. We should then build a map to represent the alphabet letter transformation. There are a few ways of doing this, we will show one."
   ]
  },
  {
   "cell_type": "code",
   "execution_count": 30,
   "metadata": {},
   "outputs": [],
   "source": [
    "def cypher(message, n):\n",
    "    encoded_message = \"\"\n",
    "    # first we need to build the cypher map\n",
    "    latin_alphabet = list(\"abcdefghijklmnopqrstuvwxyz\")\n",
    "    alphabet_length = len(latin_alphabet)\n",
    "    # we build a pair dictionaries to map letters to indices, and vice-versa\n",
    "    letter_to_index = {}\n",
    "    index_to_letter = {}\n",
    "    i = 0\n",
    "    for letter in latin_alphabet:\n",
    "        # maps a letter to its index\n",
    "        letter_to_index[letter] = i\n",
    "        # maps an index to a letter\n",
    "        index_to_letter[i] = letter\n",
    "        i += 1\n",
    "    \n",
    "    \"\"\"\n",
    "    How to deal with uppercase letters? Either:\n",
    "    - 1. build two separate pairs of dictionaries for lowercase and uppercase letters;\n",
    "    - 2. we use the same pair of dictionaries, but we convert the letters;\n",
    "    let's choose option 2, because it avoids duplicating the logic.\n",
    "\n",
    "    Note: there are specific methods to perform this conversion but we have not covered them in the lecture.\n",
    "    We will avoid using them in this solution.\n",
    "    \"\"\"\n",
    "    latin_alphabet_uppercase = list(\"ABCDEFGHIJKLMNOPQRSTUVWXYZ\")\n",
    "    lowercase_to_uppercase = {}\n",
    "    uppercase_to_lowercase = {}\n",
    "    i = 0\n",
    "    for letter in latin_alphabet:\n",
    "        uppercase_letter = latin_alphabet_uppercase[i]\n",
    "        lowercase_to_uppercase[letter] = uppercase_letter\n",
    "        uppercase_to_lowercase[uppercase_letter] = letter\n",
    "        i += 1\n",
    "\n",
    "    # now we transform the message by looping over each letter and transforming the index\n",
    "    for letter in message:\n",
    "        if letter in latin_alphabet_uppercase:\n",
    "            uppercase = True # we need to remember that the letter was uppercase\n",
    "            letter = uppercase_to_lowercase[letter]\n",
    "        else:\n",
    "            uppercase = False\n",
    "            \n",
    "        if letter in latin_alphabet: # equivalent to `if letter in letter_to_index`\n",
    "            letter_index = letter_to_index[letter]\n",
    "            transformed_index = (letter_index + n) % alphabet_length\n",
    "            transformed_letter = index_to_letter[transformed_index]\n",
    "            if uppercase:\n",
    "                transformed_letter = lowercase_to_uppercase[transformed_letter]\n",
    "            encoded_message += transformed_letter\n",
    "        else:\n",
    "            encoded_message += letter\n",
    "    return encoded_message # build a string from a list\n",
    "\n",
    "n = 12\n",
    "\n",
    "\"\"\"\n",
    "YOUR CODE HERE\n",
    "\"\"\"\n",
    "encoded_message = cypher(test_message, n)\n",
    "decoded_message = cypher(encoded_message, -n)"
   ]
  },
  {
   "cell_type": "code",
   "execution_count": 31,
   "metadata": {},
   "outputs": [
    {
     "name": "stdout",
     "output_type": "stream",
     "text": [
      "\"Uz ftmf omeq,\" emup Emzota Bmzlm, \"ur U etagxp nqoayq m wuzs nk azq ar ftaeq yudmoxqe kagd iadetub ebqmwe ar, qhqz Vgmzm Sgfuqddql, yk axp iaymz, iagxp oayq fa nq cgqqz mzp yk otuxpdqz uzrmzfqe.\"\n",
      "\"Iqxx, ita pagnfe uf?\" emup Paz Cgujafq.\n",
      "\"In that case,\" said Sancho Panza, \"if I should become a king by one of those miracles your worship speaks of, even Juana Gutierrez, my old woman, would come to be queen and my children infantes.\"\n",
      "\"Well, who doubts it?\" said Don Quixote.\n"
     ]
    }
   ],
   "source": [
    "print(encoded_message)\n",
    "print(decoded_message)"
   ]
  },
  {
   "cell_type": "markdown",
   "metadata": {},
   "source": [
    "**Smarter option (?!)**: instead of using two dictionaries for bidirectional mapping, use one dictionary to get the letter index and then access the alphabet with `transformed_letter = latin_alphabet[transformed_index]`.\n",
    "\n",
    "**Did you notice?**: the message we have chosen is a *pangram*, i.e. a message containing all the letters in the alphabet. Pangrams are a good way to test this type of program. A short and very widespread pangram is \"The quick brown fox jumps over the lazy dog\"."
   ]
  },
  {
   "cell_type": "markdown",
   "metadata": {},
   "source": [
    "Hidden in the python standard libraries, we have found a message encoded in ROT13."
   ]
  },
  {
   "cell_type": "code",
   "execution_count": 32,
   "metadata": {},
   "outputs": [
    {
     "name": "stdout",
     "output_type": "stream",
     "text": [
      "Gur Mra bs Clguba, ol Gvz Crgref\n",
      "\n",
      "Ornhgvshy vf orggre guna htyl.\n",
      "Rkcyvpvg vf orggre guna vzcyvpvg.\n",
      "Fvzcyr vf orggre guna pbzcyrk.\n",
      "Pbzcyrk vf orggre guna pbzcyvpngrq.\n",
      "Syng vf orggre guna arfgrq.\n",
      "Fcnefr vf orggre guna qrafr.\n",
      "Ernqnovyvgl pbhagf.\n",
      "Fcrpvny pnfrf nera'g fcrpvny rabhtu gb oernx gur ehyrf.\n",
      "Nygubhtu cenpgvpnyvgl orngf chevgl.\n",
      "Reebef fubhyq arire cnff fvyragyl.\n",
      "Hayrff rkcyvpvgyl fvyraprq.\n",
      "Va gur snpr bs nzovthvgl, ershfr gur grzcgngvba gb thrff.\n",
      "Gurer fubhyq or bar-- naq cersrenoyl bayl bar --boivbhf jnl gb qb vg.\n",
      "Nygubhtu gung jnl znl abg or boivbhf ng svefg hayrff lbh'er Qhgpu.\n",
      "Abj vf orggre guna arire.\n",
      "Nygubhtu arire vf bsgra orggre guna *evtug* abj.\n",
      "Vs gur vzcyrzragngvba vf uneq gb rkcynva, vg'f n onq vqrn.\n",
      "Vs gur vzcyrzragngvba vf rnfl gb rkcynva, vg znl or n tbbq vqrn.\n",
      "Anzrfcnprf ner bar ubaxvat terng vqrn -- yrg'f qb zber bs gubfr!\n"
     ]
    }
   ],
   "source": [
    "secret_message = \"Gur Mra bs Clguba, ol Gvz Crgref\\n\\nOrnhgvshy vf orggre guna htyl.\\nRkcyvpvg vf orggre guna vzcyvpvg.\\nFvzcyr vf orggre guna pbzcyrk.\\nPbzcyrk vf orggre guna pbzcyvpngrq.\\nSyng vf orggre guna arfgrq.\\nFcnefr vf orggre guna qrafr.\\nErnqnovyvgl pbhagf.\\nFcrpvny pnfrf nera'g fcrpvny rabhtu gb oernx gur ehyrf.\\nNygubhtu cenpgvpnyvgl orngf chevgl.\\nReebef fubhyq arire cnff fvyragyl.\\nHayrff rkcyvpvgyl fvyraprq.\\nVa gur snpr bs nzovthvgl, ershfr gur grzcgngvba gb thrff.\\nGurer fubhyq or bar-- naq cersrenoyl bayl bar --boivbhf jnl gb qb vg.\\nNygubhtu gung jnl znl abg or boivbhf ng svefg hayrff lbh'er Qhgpu.\\nAbj vf orggre guna arire.\\nNygubhtu arire vf bsgra orggre guna *evtug* abj.\\nVs gur vzcyrzragngvba vf uneq gb rkcynva, vg'f n onq vqrn.\\nVs gur vzcyrzragngvba vf rnfl gb rkcynva, vg znl or n tbbq vqrn.\\nAnzrfcnprf ner bar ubaxvat terng vqrn -- yrg'f qb zber bs gubfr!\"\n",
    "\n",
    "print(secret_message)"
   ]
  },
  {
   "cell_type": "markdown",
   "metadata": {},
   "source": [
    "**(C)** Apply the ROT13 algorithm to the `secret_message` and show that you can decode it. Store the result in a variable named `plaintext_message`!"
   ]
  },
  {
   "cell_type": "code",
   "execution_count": 33,
   "metadata": {},
   "outputs": [
    {
     "name": "stdout",
     "output_type": "stream",
     "text": [
      "The Zen of Python, by Tim Peters\n",
      "\n",
      "Beautiful is better than ugly.\n",
      "Explicit is better than implicit.\n",
      "Simple is better than complex.\n",
      "Complex is better than complicated.\n",
      "Flat is better than nested.\n",
      "Sparse is better than dense.\n",
      "Readability counts.\n",
      "Special cases aren't special enough to break the rules.\n",
      "Although practicality beats purity.\n",
      "Errors should never pass silently.\n",
      "Unless explicitly silenced.\n",
      "In the face of ambiguity, refuse the temptation to guess.\n",
      "There should be one-- and preferably only one --obvious way to do it.\n",
      "Although that way may not be obvious at first unless you're Dutch.\n",
      "Now is better than never.\n",
      "Although never is often better than *right* now.\n",
      "If the implementation is hard to explain, it's a bad idea.\n",
      "If the implementation is easy to explain, it may be a good idea.\n",
      "Namespaces are one honking great idea -- let's do more of those!\n"
     ]
    }
   ],
   "source": [
    "plaintext_message = cypher(secret_message, 13)\n",
    "print(plaintext_message)"
   ]
  },
  {
   "cell_type": "markdown",
   "metadata": {},
   "source": [
    "Here is where we realise we may have forgot to deal with uppercase letters..."
   ]
  },
  {
   "cell_type": "markdown",
   "metadata": {},
   "source": [
    "**Note**: python allows for to convert between characters and integers with the functions `ord()` and `chr()`. The existence of such mapping is not surprising "
   ]
  },
  {
   "cell_type": "markdown",
   "metadata": {},
   "source": [
    "## 1.2 Frequency analysis\n",
    "A very common problem in statistic involves the estimation of the frequency of appearance of a given value in a sample. More in general, we want to know the frequency of all the values that appear at least once in the sample. You may know that frequencies can be defined as absolute (counting the total number of appearances) or relative (taking the absolute frequency divided by the number of elements in the sample).\n",
    "\n",
    "Take `secret_message` and `plaintext_message` strings from the previous exercise:\n",
    "**(A)** calculate absolute and relative frequencies of all the letters appearing in each message (you can ignore punctuaction, whitespaces and newlines); for each result, present the result in two dictionaries where the keys are the letters and the values are their relative frequencies!\n",
    "**(B)**  for each letter, check that the frequency in `plaintext_message` corresponds to the frequency of its transformed in `secret_message`."
   ]
  },
  {
   "cell_type": "code",
   "execution_count": 35,
   "metadata": {},
   "outputs": [
    {
     "name": "stdout",
     "output_type": "stream",
     "text": [
      "{'a': 40, 'b': 43, 'c': 20, 'd': 0, 'e': 32, 'f': 43, 'g': 76, 'h': 20, 'i': 5, 'j': 4, 'k': 6, 'l': 17, 'm': 0, 'n': 50, 'o': 20, 'p': 16, 'q': 16, 'r': 90, 's': 11, 't': 11, 'u': 31, 'v': 50, 'w': 0, 'x': 2, 'y': 33, 'z': 16}\n",
      "{'a': 50, 'b': 20, 'c': 16, 'd': 16, 'e': 90, 'f': 11, 'g': 11, 'h': 31, 'i': 50, 'j': 0, 'k': 2, 'l': 33, 'm': 16, 'n': 40, 'o': 43, 'p': 20, 'q': 0, 'r': 32, 's': 43, 't': 76, 'u': 20, 'v': 5, 'w': 4, 'x': 6, 'y': 17, 'z': 0}\n"
     ]
    }
   ],
   "source": [
    "# we may want to get a function here\n",
    "\n",
    "def calc_frequencies(message):\n",
    "    latin_alphabet = \"abcdefghijklmnopqrstuvwxyz\"\n",
    "    # initialise to zero\n",
    "    frequencies = {}\n",
    "    for letter in latin_alphabet:\n",
    "        frequencies[letter] = 0\n",
    "    # count letters in message\n",
    "    for letter in message:\n",
    "        if letter in latin_alphabet:\n",
    "            frequencies[letter] += 1\n",
    "    # let's learn that this can be also achieved with message.count(letter)\n",
    "    return frequencies\n",
    "\n",
    "secret_frequencies = calc_frequencies(secret_message)\n",
    "plaintext_frequencies = calc_frequencies(plaintext_message)\n",
    "\n",
    "print(secret_frequencies)\n",
    "print(plaintext_frequencies)"
   ]
  },
  {
   "cell_type": "code",
   "execution_count": 39,
   "metadata": {},
   "outputs": [],
   "source": [
    "latin_alphabet = \"abcdefghijklmnopqrstuvwxyz\"\n",
    "for letter in latin_alphabet:\n",
    "    transformed_letter = cypher(letter, 13)\n",
    "    if secret_frequencies[transformed_letter] != plaintext_frequencies[letter]:\n",
    "        print(\"ERROR\")"
   ]
  },
  {
   "cell_type": "markdown",
   "metadata": {},
   "source": [
    "This is the simplest way of checking if something is wrong but we only get a message on screen and we do not preserve any of the information we collected from our loop of comparisons.\n",
    "\n",
    "How to be smarter? We could put the result of each comparison in an array of booleans, so we preserve all the information."
   ]
  },
  {
   "cell_type": "markdown",
   "metadata": {},
   "source": [
    "## 1.3 A grid-like problem\n",
    "You are given a list `L_1D` of `N` elements that need to be distributed on a table with a chosen number of columns `n_c` and a number of rows `n_r` that will depend on `N` and `n_c`. The elements are to be distributed filling the table row-by-row according to the original order of `L_1D`.\n",
    "\n",
    "- **(A)** Write a function that given `i` the index of an element in `L_1D` and `n_c` the number of columns, will calculate the row index `j` and the column index `k` of the element in the table;\n",
    "- **(B)** starting from `L_1D`, build a table `L_2D` in the form of a list of lists, where each of the lists represents a row. In practice, `L_2D[j][k]` should give the element at row `j` and column `k`;\n",
    "- **(C)** test your function by checking that in general `L_1D[i]` is the same as `L_2D[j][k]`."
   ]
  },
  {
   "cell_type": "code",
   "execution_count": 41,
   "metadata": {},
   "outputs": [
    {
     "name": "stdout",
     "output_type": "stream",
     "text": [
      "['1', '2', '3', '4', '5', '6', '7', '8', '9', '0', 'q', 'w', 'e', 'r', 't', 'y', 'u', 'i', 'o', 'p', 'a', 's', 'd', 'f', 'g', 'h', 'j', 'k', 'l', ';', 'z', 'x', 'c', 'v', 'b', 'n', 'm', ',', '.', '/', 'CTRL', 'META', 'ALT', 'SPACE', 'ALT', 'FN', 'MENU', 'CTRL']\n"
     ]
    }
   ],
   "source": [
    "\"\"\"\n",
    "We will prepare for you a list containing the symbols of some rows of an ANSI keyboard.\n",
    "\"\"\"\n",
    "\n",
    "keys_1 = list(\"1234567890qwertyuiopasdfghjkl;zxcvbnm,./\")\n",
    "keys_2 = \"CTRL,META,ALT,SPACE,ALT,FN,MENU,CTRL\".split(\",\")\n",
    "\n",
    "L_1D = keys_1 + keys_2\n",
    "\n",
    "print(L_1D)\n"
   ]
  },
  {
   "cell_type": "code",
   "execution_count": 47,
   "metadata": {},
   "outputs": [
    {
     "name": "stdout",
     "output_type": "stream",
     "text": [
      "['1', '2', '3', '4', '5', '6', '7', '8', '9', '0']\n",
      "['q', 'w', 'e', 'r', 't', 'y', 'u', 'i', 'o', 'p']\n",
      "['a', 's', 'd', 'f', 'g', 'h', 'j', 'k', 'l', ';']\n",
      "['z', 'x', 'c', 'v', 'b', 'n', 'm', ',', '.', '/']\n",
      "['CTRL', 'META', 'ALT', 'SPACE', 'ALT', 'FN', 'MENU', 'CTRL']\n"
     ]
    }
   ],
   "source": [
    "# first  define the function to map i to j,k depending on n_c\n",
    "def generate_indices(i, n_c):\n",
    "    j = i // n_c\n",
    "    k = i % n_c\n",
    "    return j, k\n",
    "\n",
    "n_c = 10 # number of columns\n",
    "\n",
    "# You can read the result with:\n",
    "# row, col = generate_indices(i, n_c)\n",
    "\n",
    "L_2D = list()\n",
    "i = 0\n",
    "for letter in L_1D:\n",
    "    row, col = generate_indices(i, n_c)\n",
    "    if (col == 0):\n",
    "        # when the column number is 0, we need to create a new row\n",
    "        current_row = []\n",
    "    current_row.append(letter)\n",
    "    if (col == n_c - 1) or (i == len(L_1D) - 1):\n",
    "        # when we reach the last column OR the end of the input list, we append the current row to the list\n",
    "        L_2D.append(current_row)\n",
    "    i += 1\n",
    "\n",
    "for r in L_2D:\n",
    "    print(r)"
   ]
  },
  {
   "cell_type": "markdown",
   "metadata": {},
   "source": [
    "**Note**: what we have done here is a *procedural* generation of our output list. Procedural means that our output is dynamically constructed from the sequence of input data. In many cases we know *a priori* the final shape of the data we expect (e.g. the number of rows and columns of a matrix) and it would be more efficient to allocate in advance an empty data structure of such shape. We will have to introduce arrays (vectors) in order to do this!"
   ]
  }
 ],
 "metadata": {
  "kernelspec": {
   "display_name": "Python 3.10.5 ('science')",
   "language": "python",
   "name": "python3"
  },
  "language_info": {
   "codemirror_mode": {
    "name": "ipython",
    "version": 3
   },
   "file_extension": ".py",
   "mimetype": "text/x-python",
   "name": "python",
   "nbconvert_exporter": "python",
   "pygments_lexer": "ipython3",
   "version": "3.10.5"
  },
  "orig_nbformat": 4,
  "vscode": {
   "interpreter": {
    "hash": "e22a2eb9a392155e6c1a70cb0bf3a6766fcf0e144014212996f1e147d1c2c35e"
   }
  }
 },
 "nbformat": 4,
 "nbformat_minor": 2
}
