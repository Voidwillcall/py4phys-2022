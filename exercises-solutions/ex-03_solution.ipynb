{
 "cells": [
  {
   "cell_type": "markdown",
   "metadata": {
    "tags": []
   },
   "source": [
    "# Solution - exercise sheet 3\n",
    "### Due 18/11/2022, 14:00 "
   ]
  },
  {
   "cell_type": "markdown",
   "metadata": {},
   "source": [
    "## The concept"
   ]
  },
  {
   "cell_type": "markdown",
   "metadata": {},
   "source": [
    "The **trapezoid method** is one of the most popular numerical integration techniques.\n",
    "\n",
    "To first degree ($n=0$), the trapezoid method is just the area under a trapezoid connecting the two end points of our function:\n",
    "\n",
    "$\n",
    "\\begin{align}\n",
    "n=0: \\int_a^b f(x) dx \\,\\approx\\, I_0 = \\frac{1}{2} h_0 [f(a) + f(b)], \\hspace{5mm}\\mathrm{where}\\;h_0 = (b - a) \\hspace{5cm}(1)\n",
    "\\end{align}\n",
    "$\n",
    "\n",
    "This $I_0$ approximation gives a very crude estimate of the integral. To increase our precision, we can divide the region between $a$ and $b$ into $n+1$ segments, calculate the area within these segments, and add them up. The formula for the n-th degree of accuracy of this algorithm is:\n",
    "\n",
    "$\n",
    "\\begin{align}\n",
    "n>0: \\int_a^b f(x) dx \\,\\approx\\, I_n = \\frac{1}{2} A_{n-1} + h_n\\sum_{i=1,3.,,,}^{2^n - 1} f(a + i h_n), \\hspace{5mm}\\mathrm{where}\\;h_n=\\frac{1}{2}h_{n-1} \\hspace{3.3cm}(2)\n",
    "\\end{align}\n",
    "$\n",
    "\n",
    "As you can see, the result of the integral using the $n$-th degree of accuracy of this agorithmis is given as a recurrence relation,  $I_n=I_n(I_{n-1})$.\n",
    "\n",
    "As you calculate the algorithm for higher degree $n$, your approximation $I_n$ assimptotically approaches the result of the integral. The precision of your approximation can then be estimated by looking at the relative change between the last two steps:\n",
    "\n",
    "$\n",
    "\\begin{align}\n",
    "\\varepsilon(n) = \\frac{I_{n} - I_{n-1}}{I_n} \\hspace{10cm}(3)\n",
    "\\end{align}\n",
    "$\n",
    "\n",
    "## The daunting-looking task\n",
    "\n",
    "You'll be building a function `trapz(f,a,b, prec)` that calculates the definite integral of a function `f` between `a` and `b`, down to a precision of `prec`.\n",
    "\n",
    "For this, `trapz` calculates approximations of the integral using the trapezoidal algorithm, starting from $n=0$ and successively increasing $n$ until $|\\varepsilon(n)|<$`prec` and our precision is satisfied. \n",
    "\n",
    "Once the precision is satisfied at $n=n_\\mathrm{final}$, our function returns $I_{n_\\mathrm{final}}$, $n_\\mathrm{final}$, and $\\varepsilon(n_\\mathrm{final})$.\n",
    "\n",
    "## The step-by-step breakdown\n",
    "\n",
    "#### 1. Write a function `h_n` that returns the value of $h_n(a,b)$.\n",
    "\n",
    "- Tip 1: Check out the example of a recurrence function we worked out in the lecture. \n",
    "- Tip 2: Remember that $h_n$ is defined recursively for $n>0$ (eq. 2) and has a special definition for $n=0$ (see eq. 1)"
   ]
  },
  {
   "cell_type": "code",
   "execution_count": 68,
   "metadata": {},
   "outputs": [],
   "source": [
    "def h_n(n, a, b):\n",
    "    \"\"\" Recursively calculate the width of 2^n trapezoids.\n",
    "    \n",
    "    Args:\n",
    "        n: number of intervals\n",
    "        a: lower bound of integration\n",
    "        b: upper bound of integration\n",
    "\n",
    "    Returns: \n",
    "        The length of an interval\n",
    "    \"\"\"\n",
    "    if n == 0:\n",
    "        return b - a\n",
    "    else:\n",
    "        return h_n(n - 1, a, b) * 0.5"
   ]
  },
  {
   "cell_type": "markdown",
   "metadata": {
    "tags": []
   },
   "source": [
    "#### 2. Write a function `sum_terms` that calculates the sum in eq. (2).\n",
    "\n",
    "- Tip 1: for a given `n` (passed to `sum_terms` as an argument), you must iterate over `i` from 1 to $2^n-1$ in steps of 2\n",
    "- Tip 2: remember that this sum depends on the function `f` that the user ultimately wants to integrate, so it has to take it as an argument additionally to `n`, `a` and `b`"
   ]
  },
  {
   "cell_type": "code",
   "execution_count": 7,
   "metadata": {},
   "outputs": [],
   "source": [
    "def sum_terms(n, f, a, b):\n",
    "    \"\"\" Calculates the total area of 2^n trapezoids sampled along f(x). \n",
    "    \n",
    "    Args:\n",
    "        n: algorithm degree\n",
    "        f: function to be integrated\n",
    "        a: lower bound of integration\n",
    "        b: upper bound of integration\n",
    "\n",
    "    Returns: \n",
    "        The result of the sum\n",
    "    \n",
    "    \"\"\"\n",
    "    summa = 0\n",
    "    hn = h_n(n, a, b)\n",
    "    for i in range(1, 2**n, 2):\n",
    "        summa += f(a + i * hn)\n",
    "    return summa"
   ]
  },
  {
   "cell_type": "markdown",
   "metadata": {
    "tags": []
   },
   "source": [
    "#### 3. Write a function `approx_n` that calculates the value of $I_n(a,b)$ for any given function `f`\n",
    "\n",
    "- Tip 1: make use of `h_n` and `sum_terms` and remember to pass on the arguments\n",
    "- Tip 2: remember that like $h_n$, $I_n$ is also defined recursively for $n>0$ (eq.1) and has a special definition for the initial estimate $I_0$ (eq. 1)"
   ]
  },
  {
   "cell_type": "code",
   "execution_count": 9,
   "metadata": {},
   "outputs": [],
   "source": [
    "def approx_n(n, f, a, b, previous_approx=None):\n",
    "    \"\"\" Calculates the n-th order approximation of an integral with the \n",
    "    trapezoid method.\n",
    "    \n",
    "    Args:\n",
    "        n: order of the method (i.e. number of trapezoidal \"slices\")\n",
    "        f: the function to be integrated. This function f must take a single \n",
    "           argument, which is interpreted as the integration variable\n",
    "        a: lower bound of integration\n",
    "        b: upper bound of integration\n",
    "        previous_approx: pre-calculated value of the n-1-th approximation.\n",
    "                         If not given, all the values will be calculated\n",
    "                         recursively down to n=0, which is slower\n",
    "\n",
    "    Returns:\n",
    "        Apporoximate value for the definite integral of f.\n",
    "    \"\"\"\n",
    "    if n == 0:\n",
    "        h0 = h_n(0,a,b)\n",
    "        return (f(a) + f(b)) * h0 / 2\n",
    "    else:\n",
    "        if previous_approx is None:                  # This way, the function can\n",
    "                                                     # be used the old-fashoned\n",
    "                                                     # (but inefficient) way, by\n",
    "                                                     # not passing previous_approx\n",
    "            previous_approx = approx_n(n-1, f, a, b)\n",
    "        else: \n",
    "            previous_approx = previous_approx        # This is the magic line that\n",
    "                                                     # makes the recursive function \n",
    "                                                     # much faster by not computing \n",
    "                                                     # I_{n+1} every time\n",
    "        hn = h_n(n, a, b)\n",
    "        summa = sum_terms(n, f, a, b)\n",
    "        return 0.5 * previous_approx + hn * summa\n"
   ]
  },
  {
   "cell_type": "markdown",
   "metadata": {
    "tags": []
   },
   "source": [
    "#### 4. Write a function `absepsilon` that takes two different approxiation values and returns the value of $|\\varepsilon|$ between them (eq. 3)\n",
    "\n",
    "- Tip: you can use Python's native abs() function "
   ]
  },
  {
   "cell_type": "code",
   "execution_count": 57,
   "metadata": {},
   "outputs": [],
   "source": [
    "def absepsilon(newapprox, oldapprox):\n",
    "    \"\"\"Calculate absolute relative difference between two values.\n",
    "    \"\"\"\n",
    "    delta = 1e-200 * (newapprox == 0) # delta = 0 if newapprox != 0, and\n",
    "                                      # delta = 1e-200 if newapprox == 0,\n",
    "                                      # so we always avoid dividing by 0.\n",
    "                                      # This is the same as writing:\n",
    "                                      # delta = 0 if newapprox else 1e-200\n",
    "                                      # which is the same as:\n",
    "                                      # if newapprox: delta = 0\n",
    "                                      # else: delta = 1e-200\n",
    "    eps = (newapprox - oldapprox) / (newapprox + delta)\n",
    "    return abs(eps)"
   ]
  },
  {
   "cell_type": "markdown",
   "metadata": {
    "tags": []
   },
   "source": [
    "#### 5. Finally, put all the above functions together to create your integrator in the form of a function `trapz(f,a,b, prec)`. Make `prec` a keyword argument so that a precision of `1e-7` is assumed if the user doesn't specify any value. Once the precision is met, the function should return $I_n$, $n$ and $\\varepsilon$.\n",
    "\n",
    "- Tip 1: first, calculate $I_0$. Then starting with $n=1$, calculate a new approximation $I_n$ and compare it with the latest approximation. While your $\\varepsilon$ is larger than the desired precision `prec`, keep increasing $n$, replacing the old approximation with the latest one.  \n",
    "\n",
    "- Tip 2: make your life easier by printing the successive values of $I_n$, $n$ and $\\varepsilon$ in every iteration, so you can see what is happening "
   ]
  },
  {
   "cell_type": "code",
   "execution_count": 64,
   "metadata": {},
   "outputs": [],
   "source": [
    "def trapz(f, a, b, prec=1e-7):\n",
    "    \"\"\" Calculate the definite integral of f using the trapezoid method.\n",
    "    \n",
    "    This is done by successively implementing the trapezoid method to higher\n",
    "    degrees of accuracy, in a recursive fashion, until the precision prec is\n",
    "    met.\n",
    "    \n",
    "    Args:\n",
    "        f: the function to be integrated. This function f must take a single \n",
    "           argument, which is interpreted as the integration variable\n",
    "        a: lower bound of integration\n",
    "        b: upper bound of integration\n",
    "        prec: minimum precision required. The function keeps increasing the \n",
    "              acccuracy degree of the trapezoidal algorithm until the error\n",
    "              falls below the required precision.\n",
    "\n",
    "    Returns:\n",
    "        Best approximation of the integral, number of iterations needed, and \n",
    "        error of teh result.\n",
    "    \"\"\"\n",
    "    eps = prec * 10                # Any number larger than prec\n",
    "    oldapprox = approx_n(0,f,a,b)  # Calculate I_0\n",
    "    n = 1                          \n",
    "    while abs(eps) > prec:\n",
    "        newapprox = approx_n(n,f,a,b,oldapprox) # Bonus: by passing the old \n",
    "                                                # approximation, we avoid\n",
    "                                                # calculating every single\n",
    "                                                # value recursively\n",
    "        eps = absepsilon(newapprox, oldapprox)\n",
    "        oldapprox = newapprox\n",
    "        n += 1\n",
    "\n",
    "    return newapprox, n, eps"
   ]
  },
  {
   "cell_type": "markdown",
   "metadata": {
    "tags": []
   },
   "source": [
    "#### 6. Test your function by computing some integrals:\n",
    "\n",
    "$\n",
    "\\begin{align}\n",
    "\\int_{-1}^{2} x^3 dx = \\left[ \\frac{x^4}{4} \\right]_{-1}^{2} = 3.75\n",
    "\\end{align}\n",
    "$\n",
    "\n",
    "\n",
    "$\n",
    "\\begin{align}\n",
    "\\int_{-a}^{a} (x^5 + x^3) dx = 0 \\hspace{5mm} \\forall a \\in \\mathbb{R} \\hspace{5mm}\\text{(try $a=10^{-5}$ and $a=10^5$)}\n",
    "\\end{align}\n",
    "$\n"
   ]
  },
  {
   "cell_type": "code",
   "execution_count": 66,
   "metadata": {},
   "outputs": [
    {
     "name": "stdout",
     "output_type": "stream",
     "text": [
      "Integral 1: 3.75000010 with 14 iterations and error 8.05e-08\n",
      "Integral 2: 0.00000000 with  2 iterations and error 0.00e+00\n",
      "Integral 3: 0.00000000 with  2 iterations and error 0.00e+00\n",
      "\n",
      "CPU times: user 3.35 ms, sys: 171 µs, total: 3.52 ms\n",
      "Wall time: 3.48 ms\n"
     ]
    }
   ],
   "source": [
    "%%time\n",
    "\n",
    "f1 = lambda x: x ** 3\n",
    "f2 = lambda x: x ** 5 + 2 * x ** 3\n",
    "\n",
    "res1, n1, prec1 = trapz(f1, -1, 2)\n",
    "res2, n2, prec2 = trapz(f2,-1e-5,1e-5)\n",
    "res3, n3, prec3 = trapz(f2,-1e5,1e5)\n",
    "\n",
    "\n",
    "print(f\"Integral 1: {res1:.8f} with {n1:2d} iterations and error {prec1:.2e}\")\n",
    "print(f\"Integral 2: {res2:.8f} with {n2:2d} iterations and error {prec2:.2e}\")\n",
    "print(f\"Integral 3: {res3:.8f} with {n3:2d} iterations and error {prec3:.2e}\\n\")"
   ]
  }
 ],
 "metadata": {
  "kernelspec": {
   "display_name": "Python 3",
   "language": "python",
   "name": "python3"
  },
  "language_info": {
   "codemirror_mode": {
    "name": "ipython",
    "version": 3
   },
   "file_extension": ".py",
   "mimetype": "text/x-python",
   "name": "python",
   "nbconvert_exporter": "python",
   "pygments_lexer": "ipython3",
   "version": "3.9.12"
  },
  "vscode": {
   "interpreter": {
    "hash": "ad60ba3d6748ebfd779dff164ecdca54fbf007dbac97c522a9077ed5230659e8"
   }
  }
 },
 "nbformat": 4,
 "nbformat_minor": 4
}
