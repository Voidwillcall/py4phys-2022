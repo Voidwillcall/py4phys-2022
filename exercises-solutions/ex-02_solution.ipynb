{
 "cells": [
  {
   "cell_type": "markdown",
   "metadata": {
    "tags": []
   },
   "source": [
    "# Exercise sheet 2\n",
    "### Due 11/11/2022"
   ]
  },
  {
   "cell_type": "markdown",
   "metadata": {},
   "source": [
    "___\n",
    "\n",
    "### Group:\n",
    "-  \n",
    "-  \n",
    "- \n",
    "\n",
    "___"
   ]
  },
  {
   "cell_type": "markdown",
   "metadata": {
    "tags": []
   },
   "source": [
    "## Problem 1 - Prime counting\n",
    "\n",
    "Write a function `count_primes` that, given an input integer `n`, calculates the number of prime numbers smaller or equal to `n`.\n",
    "\n",
    "Use a double loop for this."
   ]
  },
  {
   "cell_type": "code",
   "execution_count": 66,
   "metadata": {},
   "outputs": [
    {
     "name": "stdout",
     "output_type": "stream",
     "text": [
      "0\n",
      "1\n",
      "2\n",
      "168\n"
     ]
    }
   ],
   "source": [
    "def count_primes(n):\n",
    "    '''Returns the number of prime numbers netween 1 and n.'''\n",
    "    number_of_primes = 0\n",
    "    for i in range(2, n + 1): # 2 is the lowest prime number, and we have to \n",
    "                              # include n to check whether it is prime \n",
    "                              \n",
    "        has_dividends = 0\n",
    "        for j in range(2,i):  # now for each i, we check if there is any\n",
    "                              # number from 2 up to i-1 by which i can be \n",
    "                              # divided. Here we don't include i itself, \n",
    "                              # because any number can be divided by itself\n",
    "            if i % j == 0:\n",
    "                has_dividends = 1 # once we find the first dividend,\n",
    "                                  # we stop the inner loop with `break`\n",
    "                break\n",
    "        # Now we're out of the inner loop over j\n",
    "        if has_dividends == 0:\n",
    "            number_of_primes += 1   # if there wasn't even one j such that \n",
    "                                    # i%j == 0, then i is prime. Notice that \n",
    "                                    # this if-statement will repeat for all \n",
    "                                    # values of i from 2 to up to n\n",
    "\n",
    "    return number_of_primes\n",
    "\n",
    "# Always test your function near the boundaries!\n",
    "print(count_primes(1))    # 1 is not a prime number, so we expect 0\n",
    "print(count_primes(2))    # 2 is the lowest prime number, so we expect 1\n",
    "print(count_primes(3))    # Here we expect 2\n",
    "print(count_primes(1000)) # Here we expect 168 (Yes, I checked)"
   ]
  },
  {
   "cell_type": "markdown",
   "metadata": {
    "tags": []
   },
   "source": [
    "## Problem 2 - Matrix multiplication \n",
    "\n",
    "This exercise is about 2D matrices, such as\n",
    "\n",
    "$$A = \\begin{bmatrix} 5 & 10 & 2 & 1 \\\\ 3 & 0 & 2 & 1\\\\ 0.5 & 2 & 1 & 6\\end{bmatrix}, B = \\begin{bmatrix} 3 & 3 & 1 \\\\ 2 & 5 & 3\\\\ 0.1 & 20 & 2\\\\ 0 & 4 & 1\\end{bmatrix}, C = \\begin{bmatrix} 1 & 0.5 \\\\ 4 & 3\\end{bmatrix}$$\n",
    "\n",
    "The simplest way to represent a matrix in Pyhon is using nested lists.\n",
    "\n",
    "For example, matrix $C$ above can be represented by a list `cmat = [[1, 0.5], [4,3]]`. This way, each element of the list is a row of the matrix, and so element $C_{i,j}$ can be accessed through `cmat[i][j]`."
   ]
  },
  {
   "cell_type": "markdown",
   "metadata": {},
   "source": [
    "Using nested loops, write a function `multiply2d` that accepts as input two matrices in the form of nested lists, calculates their product and returns it also in the form of a nested list.\n",
    "\n",
    "Test your function by computing $A\\times B$ and $C^2$.\n",
    "\n",
    "In case you need a reminder- the product of two matrices $P \\equiv A\\times B$ is such that $P_{i,j} = \\sum_{k=1}^n A_{i,k}B_{k,j}$.\n",
    "Here, $n$ is the number of columns of matrix $A$, which has to be the same as the number of rows of matrix $B$."
   ]
  },
  {
   "cell_type": "code",
   "execution_count": 53,
   "metadata": {},
   "outputs": [],
   "source": [
    "def multiply2d(mat1, mat2):\n",
    "    '''Multiplies two 2D matrices in the form of nested lists.'''\n",
    "    \n",
    "    nrows1, nrows2 = len(mat1), len(mat2)\n",
    "    ncols1, ncols2 = len(mat1[0]), len(mat2[0])\n",
    "    \n",
    "    if ncols1 != nrows2:\n",
    "        print(\"[multiply2d]Error: Wrong shapes for multiplication!\")\n",
    "        return None  # This ends the function if the input matrix shapes \n",
    "                     # are incompatible\n",
    "    \n",
    "    prod = []\n",
    "    for i in range(nrows1):\n",
    "        prod.append([])  # for every row in mat1, we append \n",
    "                         # a new row to our product matrix \n",
    "        for j in range(ncols2):\n",
    "            res = 0 \n",
    "            for k in range(ncols1): # this loop performs the sum\n",
    "                res += mat1[i][k] * mat2[k][j]\n",
    "            prod[i].append(res)  # We now append the resulting sum \n",
    "                                 # to the row of `prod` that we are\n",
    "                                 # currently working on\n",
    "        \n",
    "    return prod"
   ]
  },
  {
   "cell_type": "markdown",
   "metadata": {},
   "source": [
    "### Another kind of solution that some of you found was to create first an array with the final shape flled with zeros, and then add the products one by one:"
   ]
  },
  {
   "cell_type": "code",
   "execution_count": 56,
   "metadata": {},
   "outputs": [],
   "source": [
    "def multiply2d_version2(mat1, mat2):\n",
    "    '''Multiplies two 2D matrices in the form of nested lists.\n",
    "    This is an alternative solution compared to multiply2d.\n",
    "    '''\n",
    "    \n",
    "    nrows1, nrows2 = len(mat1), len(mat2)\n",
    "    ncols1, ncols2 = len(mat1[0]), len(mat2[0])\n",
    "                                                                  \n",
    "    if ncols1 != nrows2:\n",
    "        print(\"[multiply2d]Error: Wrong shapes for multiplication!\")\n",
    "        return None      \n",
    "\n",
    "    prod = [[0 for i in range(nrows1)] for j in range(ncols2)] # This is a matrix with only\n",
    "                                                               # zeros, which has the right\n",
    "                                                               # shape of the output matrix:\n",
    "                                                               # (nrows1 x ncols2)\n",
    "    for i in range(nrows1):\n",
    "        for j in range(ncols2):\n",
    "            res = 0 \n",
    "            for k in range(ncols1): # this loop performs the sum\n",
    "                prod[i][j] += mat1[i][k] * mat2[k][j]\n",
    "            \n",
    "    return prod"
   ]
  },
  {
   "cell_type": "code",
   "execution_count": 65,
   "metadata": {},
   "outputs": [
    {
     "name": "stdout",
     "output_type": "stream",
     "text": [
      "[[35.2, 109, 40], [9.2, 53, 8], [5.6, 55.5, 14.5]]\n",
      "[[3.0, 2.0], [16, 11.0]]\n"
     ]
    }
   ],
   "source": [
    "# Test functions:\n",
    "\n",
    "amat = [[5, 10, 2, 1], [3, 0, 2, 1], [0.5, 2, 1, 6]]\n",
    "bmat = [[3, 3, 1], [2, 5, 3], [0.1, 20, 2], [0, 4, 1]]\n",
    "cmat = [[1, 0.5], [4, 3]]\n",
    "\n",
    "print(multiply2d(amat, bmat)) # A * B\n",
    "print(multiply2d(cmat, cmat)) # C ** 2\n"
   ]
  },
  {
   "cell_type": "markdown",
   "metadata": {
    "tags": []
   },
   "source": [
    "## Problem 3 - Nuclear iterations\n",
    "\n",
    "In this problem you'll be organizing nuclear data tables into a nested dictionary.\n",
    "\n",
    "A nucleus $^\\rm{A}_\\rm{Z}\\rm{X}$ is characterized by its number of protons $\\rm{Z}$, also called the *atomic number*, and the total number of protons and neutrons $\\rm{A}$, called the *mass number*. The name of the element, as well as its chemical symbol $X$, depend only on $Z$. Nuclei with the same number of protons $Z$ but different mass numbers $A$ are called isotopes. Some isotopes are stable, others are unstable.\n",
    "\n",
    "Each nuclear isotope can be uniquely idenfified by a \"particle code\" $\\rm{A}\\times100+\\rm{Z}$. So in the case of $^{28}_{14}\\rm{Si}$, which has 14 protons and 14 protons, this particle code is `28 * 100 + 14 == 2814`.\n",
    "\n",
    "In this exercie you'll use the lists `database` and `symbols`, both loaded in the cell below:"
   ]
  },
  {
   "cell_type": "code",
   "execution_count": 5,
   "metadata": {},
   "outputs": [],
   "source": [
    "from pickle import load as pload\n",
    "\n",
    "with open(\"ex-02_nuc_database.pkl\", \"rb\") as f: # Make sure this pkl file is in the same directory\n",
    "                                                # as this notebook\n",
    "    database, symbols = pload(f)"
   ]
  },
  {
   "cell_type": "markdown",
   "metadata": {},
   "source": [
    "`database` is a table (adopted from <href>https://www-nds.iaea.org/amdc/</href>), given here in the form of a list of lists. Each of these lists has information about a different nuclear isotope: particle code, half-life in seconds, and the year its spectrum was measured. If the half-life is `None`, the isotope is stable.\n",
    "\n",
    "`symbols` is a simple list of strings with chemical symbols of the elements ordered by $Z$.\n",
    "\n",
    "Oragnize the information in `database` in the form of a **nested dictionary** called `nuc_dict`.\n",
    "\n",
    "For every chemical element, `nuc_dict` should map its chemical symbol to a dictionary with the following information: \n",
    "- the number of protons $Z$;\n",
    "- how many stable and unstable isotopes of the element are present in the database;\n",
    "- the minimum and maximum number of neutrons of the isotopes in the database;\n",
    "- the average of the half-lives of its unstable isotopes;\n",
    "- year when the first isotope was discovered\n",
    "\n",
    "In the end, your dictionary shuld look something like:\n",
    "\n",
    "```\n",
    "nuc_dict = {\"H\" :  {\"n_protons\"        : 1,\n",
    "                    \"n_neutrons_min\"   : 0,      # hydrogen-1 has no neutrons\n",
    "                    \"n_neutrons_max\"   : 5,      # hydrogen-6 has 5 neutrons\n",
    "                    \"n_iso_stable\"     : 2,      # hydrogen-1 and hydrogen-2 are stable\n",
    "                    \"n_iso_unstable\"   : 4,      # hydrogen-3 through hydrogen-6 are unstable\n",
    "                    \"average_halflife\" : 337.83, # average of the half-lives of the\n",
    "                                                 # four unstable hydrogen isotopes\n",
    "                    \"first_measured\" : 1920},    # hydrogen-1 measured 1920 (other isotopes later)\n",
    "            \"He\" : {...},\n",
    "            ...\n",
    "           }\n",
    "```"
   ]
  },
  {
   "cell_type": "code",
   "execution_count": 60,
   "metadata": {},
   "outputs": [
    {
     "name": "stdout",
     "output_type": "stream",
     "text": [
      "CPU times: user 11.4 ms, sys: 1.08 ms, total: 12.4 ms\n",
      "Wall time: 11.8 ms\n"
     ]
    }
   ],
   "source": [
    "%%time\n",
    "\n",
    "zset = range(1, len(symbols)) # We start at Z == 1 with protons \n",
    "                              # (Z == 0 would be just a neutron)\n",
    "\n",
    "nuc_dict = {}\n",
    "\n",
    "                                       ###################################\n",
    "for pcode, halflife, year in database: ### Notice how I run only **once** \n",
    "                                       ### through my long database!\n",
    "                                       ### This is extremely important for\n",
    "                                       ### having an efficient parser.\n",
    "                                       ###################################\n",
    "    z = pcode % 100\n",
    "    a = pcode // 100\n",
    "    n = a - z         # number of neutrons of the isotope\n",
    "    sym = symbols[z]\n",
    "    \n",
    "    if sym not in nuc_dict.keys():                # If it's the first occurrence of the\n",
    "                                                  # element, we create a new entry\n",
    "        nuc_dict[sym] = {'n_protons'        : z,\n",
    "                         'n_neutrons_min'   : n,\n",
    "                         'n_neutrons_max'   : n,\n",
    "                         'first_measured'   : year,\n",
    "                         'n_iso_stable'     : 0,\n",
    "                         'n_iso_unstable'   : 0,\n",
    "                         'average_halflife' : 0\n",
    "                        }\n",
    "    else:\n",
    "        if nuc_dict[sym]['n_neutrons_max'] < n:\n",
    "            nuc_dict[sym]['n_neutrons_max'] = n\n",
    "    \n",
    "        if nuc_dict[sym]['n_neutrons_min'] > n:\n",
    "            nuc_dict[sym]['n_neutrons_min'] = n\n",
    "        \n",
    "        if year is not None:\n",
    "            if nuc_dict[sym]['first_measured'] is None: # Note that `None` cannot be \n",
    "                                                        # compared using `>` or `<`, or \n",
    "                                                        # it will result in an error\n",
    "                nuc_dict[sym]['first_measured'] = year\n",
    "                \n",
    "            elif nuc_dict[sym]['first_measured'] > year:\n",
    "                nuc_dict[sym]['first_measured'] = year\n",
    "                \n",
    "    # Now we take case of the half life and the stable/unstable distinction:\n",
    "                \n",
    "    if halflife:                                      # This evaluates to True if halflife > 0\n",
    "                                                      # (isotope is unstable)\n",
    "                                                      # and to False if halflife is None \n",
    "                                                      # (isotope is stable)\n",
    "        nuc_dict[sym]['n_iso_unstable'] += 1\n",
    "        nuc_dict[sym]['average_halflife'] += halflife # For now we collect the sum of the\n",
    "                                                      # half-lives of all unstable isotopes\n",
    "    else:\n",
    "        nuc_dict[sym]['n_iso_stable'] += 1\n",
    "        \n",
    "for sym in nuc_dict.keys():\n",
    "    nuc_dict[sym]['average_halflife'] /= nuc_dict[sym]['n_iso_unstable'] # Finally, we calculate \n",
    "                                                                         # the average half-life \n",
    "    "
   ]
  },
  {
   "cell_type": "code",
   "execution_count": 7,
   "metadata": {},
   "outputs": [
    {
     "data": {
      "text/plain": [
       "{'n_protons': 1,\n",
       " 'n_neutrons_min': 0,\n",
       " 'n_neutrons_max': 5,\n",
       " 'first_measured': 1920,\n",
       " 'n_iso_stable': 2,\n",
       " 'n_iso_unstable': 4,\n",
       " 'average_halflife': 337.83}"
      ]
     },
     "execution_count": 7,
     "metadata": {},
     "output_type": "execute_result"
    }
   ],
   "source": [
    "nuc_dict['H']"
   ]
  },
  {
   "cell_type": "code",
   "execution_count": 8,
   "metadata": {},
   "outputs": [
    {
     "data": {
      "text/plain": [
       "{'n_protons': 39,\n",
       " 'n_neutrons_min': 38,\n",
       " 'n_neutrons_max': 70,\n",
       " 'first_measured': 1923,\n",
       " 'n_iso_stable': 1,\n",
       " 'n_iso_unstable': 66,\n",
       " 'average_halflife': 146.35436363636362}"
      ]
     },
     "execution_count": 8,
     "metadata": {},
     "output_type": "execute_result"
    }
   ],
   "source": [
    "nuc_dict['Y']"
   ]
  }
 ],
 "metadata": {
  "kernelspec": {
   "display_name": "Python 3",
   "language": "python",
   "name": "python3"
  },
  "language_info": {
   "codemirror_mode": {
    "name": "ipython",
    "version": 3
   },
   "file_extension": ".py",
   "mimetype": "text/x-python",
   "name": "python",
   "nbconvert_exporter": "python",
   "pygments_lexer": "ipython3",
   "version": "3.9.12"
  },
  "vscode": {
   "interpreter": {
    "hash": "ad60ba3d6748ebfd779dff164ecdca54fbf007dbac97c522a9077ed5230659e8"
   }
  }
 },
 "nbformat": 4,
 "nbformat_minor": 4
}
