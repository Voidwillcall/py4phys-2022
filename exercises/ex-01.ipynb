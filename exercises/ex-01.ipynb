{
 "cells": [
  {
   "cell_type": "markdown",
   "metadata": {},
   "source": [
    "# Exercise 1"
   ]
  },
  {
   "cell_type": "markdown",
   "metadata": {},
   "source": [
    "## Tip: simple functions\n",
    "We haven't yet introduced functions, and you can surely solve this exercise sheet without them, but this may require repeating multiple times the same block of code, which is a *very bad* way of programming.\n",
    "\n",
    "Functions allow you to reuse the same instructions on different input values to get a result. We will show here an example for you to follow:"
   ]
  },
  {
   "cell_type": "code",
   "execution_count": null,
   "metadata": {},
   "outputs": [],
   "source": [
    "def sum(a, b):\n",
    "    c = a + b\n",
    "    return c\n",
    "    # the body of the function is indented\n",
    "\n",
    "# now we go back to the main program\n",
    "print(sum(1,2))\n",
    "\n",
    "a, b = 5, 6\n",
    "print(sum(a,b))"
   ]
  },
  {
   "cell_type": "markdown",
   "metadata": {},
   "source": [
    "As you see, the syntax is very intuitive. The name of the function is introduced by `def`, the input arguments of the function are delimited by round brackets and separated by commas, and the result is reported with `return`.\n",
    "\n",
    "**Important**: the code inside the function need to be *indented*, i.e. each line has to be introduced by a spacing that can be inserted using the \"Tab\" key. In `python`, *indentation is part of the syntax*. Most editors will take care of it automatically. You can indent and un-indent lines with \"Tab\" and \"shift + Tab\". More about this in the next lecture...\n",
    "\n",
    "Try to write a function that joins two strings by a given character:"
   ]
  },
  {
   "cell_type": "code",
   "execution_count": null,
   "metadata": {},
   "outputs": [],
   "source": [
    "def concat(s1, s2, c):\n",
    "    # result = # some codes that makes use of s1, s2 and c\n",
    "    return result"
   ]
  },
  {
   "cell_type": "markdown",
   "metadata": {},
   "source": [
    "## 1.1 Caesar's cypher\n",
    "\n",
    "The Caesar's cypher is a very simple cryptographical system where each letter is shifted by n positions in the alphabet. For example for `n = 2`, \"A\" becomes \"C\", \"B\" becomes \"D\", etc. A special case of  the Caesar's cypher widely known in computing is known as ROT13 (*rotate by 13*), where `n = 13`. For a 26-letter alphabet, it's easy to see how ROT13 is its own inverse.\n",
    "\n",
    "**(A)** Write a block of code that, starting from an example string `message`, can apply a Caesar's cypher with arbitrary `n`, and print the result, according to the following rules:\n",
    "- only letters in the 26-letter Latin alphabet shall be transformed;\n",
    "- punctuation, whitespaces and new lines should be left unchanged.\n",
    "We will call this operation *encoding*.\n",
    "\n",
    "**(B)** Make sure that your code is able to retrieve the original message with a proper adjustment of `n`!"
   ]
  },
  {
   "cell_type": "code",
   "execution_count": null,
   "metadata": {},
   "outputs": [],
   "source": [
    "message = '\"In that case,\" said Sancho Panza, \"if I should become a king by one of those miracles your worship speaks of, even Juana Gutierrez, my old woman, would come to be queen and my children infantes.\"\\n\"Well, who doubts it?\" said Don Quixote.'\n",
    "n = 12\n",
    "print(message)"
   ]
  },
  {
   "cell_type": "markdown",
   "metadata": {},
   "source": [
    "Hidden in the python standard libraries, there exist a message which we know is encoded with ROT13. We will show you how to retrieve this message, then it's up to you to show that you can decode it."
   ]
  },
  {
   "cell_type": "code",
   "execution_count": null,
   "metadata": {},
   "outputs": [],
   "source": [
    "from this import s as secret_message # we will learn about imports another time\n",
    "# for now, `secret_message` is just a string\n",
    "print(secret_message)"
   ]
  },
  {
   "cell_type": "markdown",
   "metadata": {},
   "source": [
    "**(C)** Apply the ROT13 algorithm to the secret message and show that you can decode it. Store the result in a variable named `plain_message`!"
   ]
  },
  {
   "cell_type": "markdown",
   "metadata": {},
   "source": [
    "## 1.2 Frequency analysis\n",
    "A very common problem in statistic involves the estimation of the frequency of appearance of a given value in a sample. More in general, we want to know the frequency all the values that appear at least once in the sample. You may know that frequencies can be absolute (the total number of appearances) or relative (the absolute frequency divided by the number of elements in the sample).\n",
    "\n",
    "**(A)** take the `message` and `plain_message` strings from the previous exercise:\n",
    "- calculate absolute and relative frequencies of the letters appearing in each message (ignore punctuaction, whitespaces and newlines)\n",
    "- calculate the *mean squared error* between the relative frequencies of the two strings."
   ]
  },
  {
   "cell_type": "markdown",
   "metadata": {},
   "source": [
    "## 1.3 Dreaming of arrays\n",
    "You are given a list `L_1D` of `N` elements that need to be distributed on a table with a fixed number of columns `n_c` and a variable number of rows `n_r`. The elements are to be distributed filling the table row-by-row according to the original order of `L_1D`.\n",
    "\n",
    "**(A)** Solve the following tasks:\n",
    "- write a block of code (or a function) that given `i` the index of an element in `L_1D` will calculate the row number `j` and the column number `k` assigned to the element;\n",
    "- starting from `L_1D`, create a nested list (list of lists) `L_2D` containing all the elements of `L_1D` arranged in rows, each row being a list contained in `L_2D`;\n",
    "- verify that `L[i]` is the same as `NL[j][k]` for all the elements in L."
   ]
  },
  {
   "cell_type": "code",
   "execution_count": null,
   "metadata": {},
   "outputs": [],
   "source": [
    "symbolkeys = \"1234567890qwertyuiopasdfghjkl;zxcvbnm,./\"\n",
    "controlkeys = \"CTRL,META,ALT,SPACE,ALT,FN,MENU,CTRL\"\n",
    "\n",
    "symbolkeys_list = list(symbolkeys)\n",
    "controlkeys_list = controlkeys.split(\",\")\n",
    "\n",
    "L_1D = symbolkeys_list + controlkeys_list\n",
    "\n",
    "print(L_1D)\n",
    "\n",
    "n_c = 10 # number of columns\n"
   ]
  }
 ],
 "metadata": {
  "kernelspec": {
   "display_name": "Python 3.10.5 ('astronomy')",
   "language": "python",
   "name": "python3"
  },
  "language_info": {
   "codemirror_mode": {
    "name": "ipython",
    "version": 3
   },
   "file_extension": ".py",
   "mimetype": "text/x-python",
   "name": "python",
   "nbconvert_exporter": "python",
   "pygments_lexer": "ipython3",
   "version": "3.10.5"
  },
  "orig_nbformat": 4,
  "vscode": {
   "interpreter": {
    "hash": "a27840a7b1c12ed5c4097e0c82ce74f146693c21815a51f33b43828b75394333"
   }
  }
 },
 "nbformat": 4,
 "nbformat_minor": 2
}
