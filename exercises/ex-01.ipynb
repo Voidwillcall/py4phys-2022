{
 "cells": [
  {
   "cell_type": "markdown",
   "metadata": {},
   "source": [
    "# Exercise 1\n",
    "\n",
    "Group:\n",
    "- Name 1\n",
    "- Name 2\n",
    "- Name 3"
   ]
  },
  {
   "cell_type": "markdown",
   "metadata": {},
   "source": [
    "## Tip: simple functions\n",
    "We haven't yet introduced functions, and you can surely solve this exercise sheet without them, but this may require repeating multiple times the same block of code, which is a *very bad* way of programming.\n",
    "\n",
    "Functions allow you to reuse the same instructions on different input values to get a result. We will show here an example for you to follow:"
   ]
  },
  {
   "cell_type": "code",
   "execution_count": 1,
   "metadata": {},
   "outputs": [
    {
     "name": "stdout",
     "output_type": "stream",
     "text": [
      "3\n",
      "11\n"
     ]
    }
   ],
   "source": [
    "def sum(a, b):\n",
    "    c = a + b\n",
    "    return c\n",
    "    # the body of the function is indented\n",
    "\n",
    "# now we go back to the main program\n",
    "print(sum(1,2))\n",
    "\n",
    "a, b = 5, 6\n",
    "print(sum(a,b))"
   ]
  },
  {
   "cell_type": "markdown",
   "metadata": {},
   "source": [
    "As you see, the syntax is very intuitive. The name of the function is introduced by `def`, the input arguments of the function are delimited by round brackets and separated by commas, and the result is reported with `return`.\n",
    "\n",
    "**Important**: the code inside the function need to be *indented*, i.e. each line has to be introduced by a spacing that can be inserted using the \"Tab\" key. In `python`, *indentation is part of the syntax*. Most editors will take care of it automatically. You can indent and un-indent lines with \"Tab\" and \"shift + Tab\". More about this in the next lecture...\n",
    "\n",
    "Try to write a function that joins two strings by a given character:"
   ]
  },
  {
   "cell_type": "code",
   "execution_count": 2,
   "metadata": {},
   "outputs": [],
   "source": [
    "def concat(s1, s2, c):\n",
    "    # result = # some codes that makes use of s1, s2 and c\n",
    "    return result"
   ]
  },
  {
   "cell_type": "markdown",
   "metadata": {},
   "source": [
    "## 1.1 Caesar's cypher\n",
    "\n",
    "The Caesar's cypher is a very simple cryptographical system where each letter is shifted by n positions in the alphabet. For example for `n = 2`, \"A\" becomes \"C\", \"B\" becomes \"D\", etc. A special case of  the Caesar's cypher widely known in computing is known as ROT13 (*rotate by 13*), where `n = 13`. For a 26-letter alphabet, it's easy to see how ROT13 is its own inverse.\n",
    "\n",
    "**(A)** Write a function that, starting from an example string, can apply a Caesar's cypher with arbitrary `n`, and print the result, according to the following rules:\n",
    "- only letters in the 26-letter Latin alphabet shall be transformed;\n",
    "- punctuation, whitespaces and new lines should be left unchanged.\n",
    "We will call this operation *encoding*.\n",
    "\n",
    "**(B)** Make sure that your code is able to retrieve the original message with a proper adjustment of `n`!"
   ]
  },
  {
   "cell_type": "code",
   "execution_count": 3,
   "metadata": {},
   "outputs": [
    {
     "name": "stdout",
     "output_type": "stream",
     "text": [
      "\"In that case,\" said Sancho Panza, \"if I should become a king by one of those miracles your worship speaks of, even Juana Gutierrez, my old woman, would come to be queen and my children infantes.\"\n",
      "\"Well, who doubts it?\" said Don Quixote.\n"
     ]
    }
   ],
   "source": [
    "test_message = '\"In that case,\" said Sancho Panza, \"if I should become a king by one of those miracles your worship speaks of, even Juana Gutierrez, my old woman, would come to be queen and my children infantes.\"\\n\"Well, who doubts it?\" said Don Quixote.'\n",
    "n = 12\n",
    "print(test_message)"
   ]
  },
  {
   "cell_type": "code",
   "execution_count": null,
   "metadata": {},
   "outputs": [],
   "source": [
    "\"\"\"\n",
    "YOUR CODE HERE\n",
    "\"\"\"\n",
    "def cypher(message, n):\n",
    "    encoded_message = \"\"\n",
    "    # ... build result from `message`\n",
    "    return encoded_message"
   ]
  },
  {
   "cell_type": "markdown",
   "metadata": {},
   "source": [
    "Hidden in the python standard libraries, there exist a message which we know is encoded with ROT13. We will show you how to retrieve this message, then it's up to you to show that you can decode it."
   ]
  },
  {
   "cell_type": "code",
   "execution_count": 9,
   "metadata": {},
   "outputs": [
    {
     "name": "stdout",
     "output_type": "stream",
     "text": [
      "Gur Mra bs Clguba, ol Gvz Crgref\n",
      "Ornhgvshy vf orggre guna htyl.\n",
      "Rkcyvpvg vf orggre guna vzcyvpvg.\n",
      "Fvzcyr vf orggre guna pbzcyrk.\n",
      "Pbzcyrk vf orggre guna pbzcyvpngrq.\n",
      "Syng vf orggre guna arfgrq.\n",
      "Fcnefr vf orggre guna qrafr.\n",
      "Ernqnovyvgl pbhagf.\n",
      "Fcrpvny pnfrf nera'g fcrpvny rabhtu gb oernx gur ehyrf.\n",
      "Nygubhtu cenpgvpnyvgl orngf chevgl.\n",
      "Reebef fubhyq arire cnff fvyragyl.\n",
      "Hayrff rkcyvpvgyl fvyraprq.\n",
      "Va gur snpr bs nzovthvgl, ershfr gur grzcgngvba gb thrff.\n",
      "Gurer fubhyq or bar-- naq cersrenoyl bayl bar --boivbhf jnl gb qb vg.\n",
      "Nygubhtu gung jnl znl abg or boivbhf ng svefg hayrff lbh'er Qhgpu.\n",
      "Abj vf orggre guna arire.\n",
      "Nygubhtu arire vf bsgra orggre guna *evtug* abj.\n",
      "Vs gur vzcyrzragngvba vf uneq gb rkcynva, vg'f n onq vqrn.\n",
      "Vs gur vzcyrzragngvba vf rnfl gb rkcynva, vg znl or n tbbq vqrn.\n",
      "Anzrfcnprf ner bar ubaxvat terng vqrn -- yrg'f qb zber bs gubfr!\n"
     ]
    }
   ],
   "source": [
    "with open(\"secret_message.txt\", \"r\") as f:\n",
    "    secret_message = f.read()\n",
    "print(secret_message)"
   ]
  },
  {
   "cell_type": "markdown",
   "metadata": {},
   "source": [
    "**(C)** Apply the ROT13 algorithm to the secret message and show that you can decode it. Store the result in a variable named `plain_message`!"
   ]
  },
  {
   "cell_type": "markdown",
   "metadata": {},
   "source": [
    "## 1.2 Frequency analysis\n",
    "A very common problem in statistic involves the estimation of the frequency of appearance of a given value in a sample. More in general, we want to know the frequency of all the values that appear at least once in the sample. You may know that frequencies can be absolute (the total number of appearances) or relative (the absolute frequency divided by the number of elements in the sample).\n",
    "\n",
    "Take the `secret_message` and `plain_message` strings from the previous exercise:\n",
    "**(A)** calculate absolute and relative frequencies of all the letters appearing in each message (you can ignore punctuaction, whitespaces and newlines); for each result, present the result in two dictionaries where the keys are the letters and the values are their relative frequencies!\n",
    "**(B)**  for each letter, check that the frequency in `plain_message` corresponds to the frequency of its transformed in `secret_message`."
   ]
  },
  {
   "cell_type": "markdown",
   "metadata": {},
   "source": [
    "## 1.3 A grid-like problem\n",
    "You are given a list `L_1D` of `N` elements that need to be distributed on a table with a chosen number of columns `n_c` and a number of rows `n_r` that will depend on `N` and `n_c`. The elements are to be distributed filling the table row-by-row according to the original order of `L_1D`.\n",
    "\n",
    "Solve the following tasks:\n",
    "- **(A)** write a function that given `i` the index of an element in `L_1D` and `n_c` the number of columns, will calculate the row index `j` and the column index `k` of the element in the table;\n",
    "- **(B)** starting from `L_1D`, build a table in the form of a list of lists, `L_2D`, where each of the lists represents a row. `L_2D[j][k]` should give the element at row `j` and column `k`;\n",
    "- **(C)** test your function by checking that in general `L_1D[i]` is the same as `L_2D[j][k]`."
   ]
  },
  {
   "cell_type": "code",
   "execution_count": 7,
   "metadata": {},
   "outputs": [
    {
     "name": "stdout",
     "output_type": "stream",
     "text": [
      "['1', '2', '3', '4', '5', '6', '7', '8', '9', '0', 'q', 'w', 'e', 'r', 't', 'y', 'u', 'i', 'o', 'p', 'a', 's', 'd', 'f', 'g', 'h', 'j', 'k', 'l', ';', 'z', 'x', 'c', 'v', 'b', 'n', 'm', ',', '.', '/', 'CTRL', 'META', 'ALT', 'SPACE', 'ALT', 'FN', 'MENU', 'CTRL']\n"
     ]
    }
   ],
   "source": [
    "\"\"\" We will just prepare a list for you \"\"\"\n",
    "from numpy import kaiser\n",
    "\n",
    "\n",
    "symbolkeys = \"1234567890qwertyuiopasdfghjkl;zxcvbnm,./\"\n",
    "controlkeys = \"CTRL,META,ALT,SPACE,ALT,FN,MENU,CTRL\"\n",
    "\n",
    "symbolkeys_list = list(symbolkeys)\n",
    "controlkeys_list = controlkeys.split(\",\")\n",
    "\n",
    "L_1D = symbolkeys_list + controlkeys_list\n",
    "\n",
    "print(L_1D)\n"
   ]
  },
  {
   "cell_type": "code",
   "execution_count": 8,
   "metadata": {},
   "outputs": [
    {
     "ename": "NameError",
     "evalue": "name 'i' is not defined",
     "output_type": "error",
     "traceback": [
      "\u001b[0;31m---------------------------------------------------------------------------\u001b[0m",
      "\u001b[0;31mNameError\u001b[0m                                 Traceback (most recent call last)",
      "\u001b[1;32m/home/lincetto/Work/python-lecture-2022-public/exercises/ex-01.ipynb Cell 14\u001b[0m in \u001b[0;36m<cell line: 11>\u001b[0;34m()\u001b[0m\n\u001b[1;32m      <a href='vscode-notebook-cell:/home/lincetto/Work/python-lecture-2022-public/exercises/ex-01.ipynb#X16sZmlsZQ%3D%3D?line=7'>8</a>\u001b[0m     \u001b[39mreturn\u001b[39;00m j, k\n\u001b[1;32m     <a href='vscode-notebook-cell:/home/lincetto/Work/python-lecture-2022-public/exercises/ex-01.ipynb#X16sZmlsZQ%3D%3D?line=9'>10</a>\u001b[0m \u001b[39m# You can read the result with:\u001b[39;00m\n\u001b[0;32m---> <a href='vscode-notebook-cell:/home/lincetto/Work/python-lecture-2022-public/exercises/ex-01.ipynb#X16sZmlsZQ%3D%3D?line=10'>11</a>\u001b[0m j, k \u001b[39m=\u001b[39m generate_indices(i, n_c)\n",
      "\u001b[0;31mNameError\u001b[0m: name 'i' is not defined"
     ]
    }
   ],
   "source": [
    "n_c = 10 # number of columns\n",
    "\n",
    "\"\"\"\n",
    "YOUR CODE HERE\n",
    "\"\"\"\n",
    "# first  define the function to map i to j,k depending on n_c\n",
    "def generate_indices(i, n_c):\n",
    "    # j = ...\n",
    "    # k = ...\n",
    "    return j, k\n",
    "\n",
    "# You can read the result with:\n",
    "row, col = generate_indices(i, n_c)\n",
    "\n",
    "# continue with the exercise...\n"
   ]
  }
 ],
 "metadata": {
  "kernelspec": {
   "display_name": "Python 3.10.5 ('astronomy')",
   "language": "python",
   "name": "python3"
  },
  "language_info": {
   "codemirror_mode": {
    "name": "ipython",
    "version": 3
   },
   "file_extension": ".py",
   "mimetype": "text/x-python",
   "name": "python",
   "nbconvert_exporter": "python",
   "pygments_lexer": "ipython3",
   "version": "3.10.5"
  },
  "orig_nbformat": 4,
  "vscode": {
   "interpreter": {
    "hash": "a27840a7b1c12ed5c4097e0c82ce74f146693c21815a51f33b43828b75394333"
   }
  }
 },
 "nbformat": 4,
 "nbformat_minor": 2
}
