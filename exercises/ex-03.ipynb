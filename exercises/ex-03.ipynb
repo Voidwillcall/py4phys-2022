{
 "cells": [
  {
   "cell_type": "markdown",
   "metadata": {
    "tags": []
   },
   "source": [
    "# Exercise sheet 3\n",
    "### Due 18/11/2022, 14:00 "
   ]
  },
  {
   "cell_type": "markdown",
   "metadata": {},
   "source": [
    "### Group:\n",
    "-  \n",
    "-  \n",
    "-  "
   ]
  },
  {
   "cell_type": "markdown",
   "metadata": {},
   "source": [
    "# The concept"
   ]
  },
  {
   "cell_type": "markdown",
   "metadata": {},
   "source": [
    "A popular integration technique is the **trapezoid** method, which can be implemented to different degrees of accuracy $n$.\n",
    "\n",
    "To first degree ($n=0$), the trapezoid method is just the area under a trapezoid connecting the two end points of our function:\n",
    "\n",
    "$\n",
    "\\begin{align}\n",
    "n=0: \\int_a^b f(x) dx \\,\\approx\\, I_0 = \\frac{1}{2} h_0 [f(a) + f(b)], \\hspace{5mm}\\mathrm{where}\\;h_0 = (b - a) \\hspace{5cm}(1)\n",
    "\\end{align}\n",
    "$"
   ]
  },
  {
   "cell_type": "markdown",
   "metadata": {},
   "source": [
    "$I_0$ gives a very crude estimate of the integral. To increase our precision, we can divide the region between $a$ and $b$ into $n+1$ segments, calculate the area within these segments, and add them up. The formula for the n-th degree of accuracy of this algorithm is:"
   ]
  },
  {
   "cell_type": "markdown",
   "metadata": {},
   "source": [
    "$\n",
    "\\begin{align}\n",
    "n>0: \\int_a^b f(x) dx \\,\\approx\\, I_n = \\frac{1}{2} I_{n-1} + h_n\\sum_{i=1,3.,,,}^{2^{n-1}} f(a + i h_n), \\hspace{5mm}\\mathrm{where}\\;h_n=\\frac{1}{2}h_{n-1} \\hspace{3.3cm}(2)\n",
    "\\end{align}\n",
    "$"
   ]
  },
  {
   "cell_type": "markdown",
   "metadata": {},
   "source": [
    "As you can see, the result of the integral using the $n$-th degree of accuracy of this agorithmis is given as a recurrence relation,  $I_n=I_n(I_{n-1})$.\n",
    "\n",
    "As you calculate the algorithm for higher degree $n$, your approximation $I_n$ assimptotically approaches the result of the integral. The precision of your approximation can then be estimated by looking at the relative change between the last two steps:\n",
    "\n",
    "$\n",
    "\\begin{align}\n",
    "\\varepsilon(n) = \\frac{I_{n} - I_{n-1}}{I_n} \\hspace{10cm}(3)\n",
    "\\end{align}\n",
    "$"
   ]
  },
  {
   "cell_type": "markdown",
   "metadata": {},
   "source": [
    "# The complex-looking task"
   ]
  },
  {
   "cell_type": "markdown",
   "metadata": {},
   "source": [
    "You'll be building a function `trapz(f,a,b, prec)` that calculates the definite integral of a function `f` between `a` and `b`, down to a precision of `prec`.\n",
    "\n",
    "For this, `trapz` calculates approximations of the integral using the trapezoidal algorithm, starting from $n=0$ and successively increasing $n$ until $|\\varepsilon(n)|<$`prec` and our precision is satisfied. \n",
    "\n",
    "Once the precision is satisfied at $n=n_\\mathrm{final}$, our function returns $I_{n_\\mathrm{final}}$, $n_\\mathrm{final}$, and $\\varepsilon(n_\\mathrm{final})$."
   ]
  },
  {
   "cell_type": "markdown",
   "metadata": {},
   "source": [
    "# The step-by-step breakdown"
   ]
  },
  {
   "cell_type": "markdown",
   "metadata": {
    "tags": []
   },
   "source": [
    "#### 1. Write a function `h_n` that returns the value of $h_n(a,b)$.\n",
    "\n",
    "- Tip 1: Check out the example of a recurrence function we worked out in the lecture. \n",
    "- Tip 2: Remember that $h_n$ is defined recursively for $n>0$ (eq. 2) and has a special definition for $n=0$ (see eq. 1)"
   ]
  },
  {
   "cell_type": "code",
   "execution_count": 3,
   "metadata": {},
   "outputs": [],
   "source": [
    "def h_n(n,a,b):\n",
    "    '''Recursively calculate the term h_n(a,b).'''\n",
    "    # ..."
   ]
  },
  {
   "cell_type": "markdown",
   "metadata": {
    "tags": []
   },
   "source": [
    "#### 2. Write a function `sum_terms` that calculates the sum in eq. (2).\n",
    "\n",
    "- Tip 1: for a given `n` (passed to `sum_terms` as an argument), you must iterate over `i` from 1 to $2^{n-1}$ in steps of 2\n",
    "- Tip 2: remember to **include** $2^{n-1}$ itself in your iteration!\n",
    "- Tip 3: remember that this sum depends on the function `f` that the user ultimately wants to integrate, so it has to take it as an argument additionally to `n`, `a` and `b`"
   ]
  },
  {
   "cell_type": "code",
   "execution_count": null,
   "metadata": {},
   "outputs": [],
   "source": []
  },
  {
   "cell_type": "markdown",
   "metadata": {
    "tags": []
   },
   "source": [
    "#### 3. Write a function `approx_n` that calculates the value of $I_n(a,b)$ for any given function `f`\n",
    "\n",
    "- Tip 1: make use of `h_n` and `sum_terms` and remember to pass on the arguments\n",
    "- Tip 2: remember that like $h_n$, $I_n$ is also defined recursively for $n>0$ (eq.1) and has a special definition for the initial estimate $I_0$ (eq. 1)"
   ]
  },
  {
   "cell_type": "code",
   "execution_count": null,
   "metadata": {},
   "outputs": [],
   "source": []
  },
  {
   "cell_type": "markdown",
   "metadata": {
    "tags": []
   },
   "source": [
    "#### 4. Write a function `absepsilon` that takes two different approxiation values and returns the value of $|\\varepsilon|$ between them (eq. 3)\n",
    "\n",
    "- Tip: you can use Python's native abs() function "
   ]
  },
  {
   "cell_type": "code",
   "execution_count": null,
   "metadata": {},
   "outputs": [],
   "source": []
  },
  {
   "cell_type": "markdown",
   "metadata": {
    "tags": []
   },
   "source": [
    "#### 5. Finally, put all the above functions together to create your integrator in the form of a function `trapz(f,a,b, prec)`. Make `prec` a keyword argument so that a precision of `1e-7` is assumed if the user doesn't specify any value. Once the precision is met, the function should return $I_n$, $n$ and $\\varepsilon$.\n",
    "\n",
    "- Tip 1: first, calculate $I_0$. Then starting with $n=1$, calculate a new approximation $I_n$ and compare it with the latest approximation. While your $\\varepsilon$ is larger than the desired precision `prec`, keep increasing $n$, replacing the old approximation with the latest one.  \n",
    "\n",
    "- Tip 2: make your life easier by printing the successive values of $I_n$, $n$ and $\\varepsilon$ in every iteration, so you can see what is happening "
   ]
  },
  {
   "cell_type": "code",
   "execution_count": null,
   "metadata": {},
   "outputs": [],
   "source": []
  },
  {
   "cell_type": "markdown",
   "metadata": {
    "tags": []
   },
   "source": [
    "#### 6. Test your function by computing some integrals:\n",
    "\n",
    "$\n",
    "\\begin{align}\n",
    "\\int_{-1}^{2} x^3 dx = \\left[ \\frac{x^4}{4} \\right]_{-1}^{2} = 3.75\n",
    "\\end{align}\n",
    "$\n",
    "\n",
    "\n",
    "$\n",
    "\\begin{align}\n",
    "\\int_{-a}^{a} (x^5 + 2x^3) dx = 0 \\hspace{5mm} \\forall a \\in \\mathbb{R} \\hspace{5mm}\\text{(try $a=10^{-5}$ and $a=10^5$)}\n",
    "\\end{align}\n",
    "$\n"
   ]
  },
  {
   "cell_type": "code",
   "execution_count": 32,
   "metadata": {},
   "outputs": [],
   "source": [
    "f1 = lambda x: x ** 3\n",
    "f2 = lambda x: x ** 5 + 2 * x ** 3\n",
    "# ..."
   ]
  },
  {
   "cell_type": "markdown",
   "metadata": {},
   "source": [
    "## Bonus exercise!\n",
    "\n",
    "An *extra* 3 points are up for grabs if you optimize your allgorithm so that when calculating $I_{n}$ I don't have to calculate $I_{n-1}$ iteratively (perhaps by passing the latest value of $I_{n-1}$ to your `approx_n` function...)\n",
    "\n",
    "This will greatly increase the performance of your function!\n"
   ]
  },
  {
   "cell_type": "code",
   "execution_count": null,
   "metadata": {},
   "outputs": [],
   "source": []
  },
  {
   "cell_type": "markdown",
   "metadata": {
    "tags": []
   },
   "source": [
    "### Notes\n",
    "\n",
    "- Remember to document all your functions with a docstring. For helper funcitons a one-liner may be enough, but for `trapz` a proper description is necessary (see notebook from lecture #3)\n",
    "\n",
    "- There are Python libraries with tools to integrate functions through many different methods, and we're going to be working with them later on in the course. But for this task you should use **only native Python tools**, because the goal is to become comfortable creating and manipulating functions in Python."
   ]
  },
  {
   "cell_type": "code",
   "execution_count": null,
   "metadata": {},
   "outputs": [],
   "source": []
  }
 ],
 "metadata": {
  "kernelspec": {
   "display_name": "Python 3",
   "language": "python",
   "name": "python3"
  },
  "language_info": {
   "codemirror_mode": {
    "name": "ipython",
    "version": 3
   },
   "file_extension": ".py",
   "mimetype": "text/x-python",
   "name": "python",
   "nbconvert_exporter": "python",
   "pygments_lexer": "ipython3",
   "version": "3.9.12"
  },
  "vscode": {
   "interpreter": {
    "hash": "ad60ba3d6748ebfd779dff164ecdca54fbf007dbac97c522a9077ed5230659e8"
   }
  }
 },
 "nbformat": 4,
 "nbformat_minor": 4
}
