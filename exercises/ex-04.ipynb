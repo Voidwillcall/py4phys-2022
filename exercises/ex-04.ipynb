{
 "cells": [
  {
   "cell_type": "markdown",
   "metadata": {},
   "source": [
    "# WARNING: THIS VERSION IS NOT FINAL\n",
    "\n",
    "# Exercise sheet 4\n",
    "### Due 25/11/2022, 14:00 \n",
    "- Name 1\n",
    "- Name 2\n",
    "- Name 3"
   ]
  },
  {
   "cell_type": "markdown",
   "metadata": {},
   "source": [
    "## A Particle Zoo \n",
    "Build a system of classes that is able to represent particles and their properties!\n",
    "\n",
    "### 1. Generic particle\n",
    "\n",
    "Define a `Particle` class to represent a generic particle.\n",
    "\n",
    "The class should provide access to the following constant properties by means of getter methods:\n",
    "- rest mass (in eV);\n",
    "- electric charge;\n",
    "- spin;\n",
    "- is stable or not;\n",
    "- can be observed in isolation or not.\n",
    "\n",
    "The class should allow to set the following modifiable properties by means of a setter method:\n",
    "- momentum (scalar, in eV).\n"
   ]
  },
  {
   "cell_type": "code",
   "execution_count": 7,
   "metadata": {},
   "outputs": [],
   "source": [
    "class Particle():\n",
    "    \"\"\"\n",
    "    YOUR CODE HERE\n",
    "    \"\"\""
   ]
  },
  {
   "cell_type": "markdown",
   "metadata": {},
   "source": [
    "### 2. Elementary particles\n",
    "Define a class `ElementaryParticle` derived from `Particle`.\n",
    "\n",
    "Then, derive from `ElementaryParticle` separate classes to represent their different categories:\n",
    "- `class Quark` (up, down, top, bottom, charm, strange)\n",
    "- `class Lepton` (electron, muon, tau, electron neutrino, tau neutrino, muon neutrino)\n",
    "- `class GaugeBoson` (gluon, photon, Z boson, W boson)\n",
    "- `class ScalarBoson` (Higgs boson)\n",
    "\n",
    "Instructions:\n",
    "- choose an unique identifier (a single letter or short string) for each type of particle in a category;\n",
    "- use a class to represent a category, as suggested;\n",
    "- use an attribute to identify a particle in its own category (it can be the same as the unique identifier);\n",
    "- use an attribute to signal if the particle is an antiparticle; remember that an antiparticle has opposite charge but all the other constant properties are identical!\n",
    "- provide each class with a class method `from_id(id)` that takes as an argument the unique identifier of a particle and returns an *instance* of such particle! This is probably where you should take care of assigning the properties (charge, spin, mass etc.) of each elementary particle, but feel free to adopt more clever solutions!\n",
    "- Reminder: all particles except quarks can be observed in isolation. Stable particles are: up, down, electron, all neutrinos, gluon, photon."
   ]
  },
  {
   "cell_type": "code",
   "execution_count": 8,
   "metadata": {},
   "outputs": [],
   "source": [
    "\"\"\"\n",
    "YOUR CODE HERE\n",
    "\"\"\"\n",
    "\n",
    "class ElementaryParticle(Particle):\n",
    "    pass\n",
    "\n",
    "class Quark(ElementaryParticle):\n",
    "    pass"
   ]
  },
  {
   "cell_type": "markdown",
   "metadata": {},
   "source": [
    "### 3. Hadrons\n",
    "Define a class `Hadron` derived from `Particles` to describe particles made of quarks:\n",
    "- `Meson`: pi+ (u anti-d), pi- (d anti-u), pi0 (u anti-u), K+ (u anti-s), K0 (d anti-s), K- (s anti-u);\n",
    "- `Nucleon`: proton (u u d), neutron (u d d);\n",
    "\n",
    "Notes:\n",
    "- choose an unique identifier (a single letter or short string) for each type of particle in a category;\n",
    "- make sure a `Hadron` object always contains a list of the objects corresponding to the particles composing it;\n",
    "- remember that the electric charge (the spin) of a hadron is the sum of the charges (spin) of the quarks composing it; \n",
    "- provide each class with a `from_id()` method that takes as an argument the unique identifier of a particle and returns an *instance* of such particle!\n",
    "- provide `Hadron` with a class method that takes as an input a list of `Quark` objects and returns the corresponding `Meson` or `Nucleon` if the combination corresponds to a known particles (limit yourself to the particles in the above list)."
   ]
  },
  {
   "cell_type": "code",
   "execution_count": 9,
   "metadata": {},
   "outputs": [],
   "source": [
    "class Hadron(Particle):\n",
    "    \"\"\"\n",
    "    YOUR CODE HERE\n",
    "    \"\"\""
   ]
  },
  {
   "cell_type": "markdown",
   "metadata": {},
   "source": [
    "### 4/Bonus: Atomic nuclei\n",
    "*This exercise is optional and will allow you to gain bonus points!*\n",
    "\n",
    "Provide your own design of a class `Nucleus` to represent atomic nuclei!"
   ]
  }
 ],
 "metadata": {
  "kernelspec": {
   "display_name": "Python 3.10.5 ('astronomy')",
   "language": "python",
   "name": "python3"
  },
  "language_info": {
   "codemirror_mode": {
    "name": "ipython",
    "version": 3
   },
   "file_extension": ".py",
   "mimetype": "text/x-python",
   "name": "python",
   "nbconvert_exporter": "python",
   "pygments_lexer": "ipython3",
   "version": "3.10.5"
  },
  "orig_nbformat": 4,
  "vscode": {
   "interpreter": {
    "hash": "a27840a7b1c12ed5c4097e0c82ce74f146693c21815a51f33b43828b75394333"
   }
  }
 },
 "nbformat": 4,
 "nbformat_minor": 2
}
