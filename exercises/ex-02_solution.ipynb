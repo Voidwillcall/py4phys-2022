{
 "cells": [
  {
   "cell_type": "markdown",
   "metadata": {
    "tags": []
   },
   "source": [
    "# Exercise sheet 2\n",
    "### Due 11/11/2022"
   ]
  },
  {
   "cell_type": "markdown",
   "metadata": {},
   "source": [
    "___\n",
    "\n",
    "### Group:\n",
    "-  \n",
    "-  \n",
    "- \n",
    "\n",
    "___"
   ]
  },
  {
   "cell_type": "markdown",
   "metadata": {
    "tags": []
   },
   "source": [
    "## Problem 1 - Prime counting\n",
    "\n",
    "Write a function `count_primes` that, given an input integer `n`, calculates the number of prime numbers smaller or equal to `n`.\n",
    "\n",
    "Use a double loop for this."
   ]
  },
  {
   "cell_type": "code",
   "execution_count": 36,
   "metadata": {},
   "outputs": [],
   "source": [
    "def count_primes(n):\n",
    "    # ...\n",
    "    return count\n",
    "\n",
    "# Always test your function near the boundaries!\n",
    "print(count_primes(1))    # 1 is not a prime number, so we expect 0\n",
    "print(count_primes(2))    # 2 is the lowest prime number, so we expect 1\n",
    "print(count_primes(3))    # Here we expect 2\n",
    "print(count_primes(1000)) # Here we expect 186 (Yes, I checked)"
   ]
  },
  {
   "cell_type": "markdown",
   "metadata": {
    "tags": []
   },
   "source": [
    "## Problem 2 - Matrix multiplication \n",
    "\n",
    "This exercise is about 2D matrices, such as\n",
    "\n",
    "$$A = \\begin{bmatrix} 5 & 10 & 2 & 1 \\\\ 3 & 0 & 2 & 1\\\\ 0.5 & 2 & 1 & 6\\end{bmatrix}, B = \\begin{bmatrix} 3 & 3 & 1 \\\\ 2 & 5 & 3\\\\ 0.1 & 20 & 2\\\\ 0 & 4 & 1\\end{bmatrix}, C = \\begin{bmatrix} 1 & 0.5 \\\\ 4 & 3\\end{bmatrix}$$\n",
    "\n",
    "The simplest way to represent a matrix in Pyhon is using nested lists.\n",
    "\n",
    "For example, matrix $C$ above can be represented by a list `cmat = [[1, 0.5], [4,3]]`. This way, each element of the list is a row of the matrix, and so element $C_{i,j}$ can be accessed through `cmat[i][j]`."
   ]
  },
  {
   "cell_type": "markdown",
   "metadata": {},
   "source": [
    "Using nested loops, write a function `multiply2d` that accepts as input two matrices in the form of nested lists, calculates their product and returns it also in the form of a nested list.\n",
    "\n",
    "Test your function by computing $A\\times B$ and $C^2$.\n",
    "\n",
    "In case you need a reminder- the product of two matrices $P \\equiv A\\times B$ is such that $P_{i,j} = \\sum_{k=1}^n A_{i,k}B_{k,j}$.\n",
    "Here, $n$ is the number of columns of matrix $A$, which has to be the same as the number of rows of matrix $B$."
   ]
  },
  {
   "cell_type": "code",
   "execution_count": 9,
   "metadata": {},
   "outputs": [],
   "source": [
    "def multiply2d(mat1, mat2):\n",
    "    # ...\n",
    "    return prod"
   ]
  },
  {
   "cell_type": "markdown",
   "metadata": {},
   "source": [
    "## Problem 3 - Nuclear iterations\n",
    "\n",
    "In this problem you'll be organizing nuclear data tables into a nested dictionary.\n",
    "\n",
    "A nucleus $^\\rm{A}_\\rm{Z}\\rm{X}$ is characterized by its number of protons $\\rm{Z}$, also called the *atomic number*, and the total number of protons and neutrons $\\rm{A}$, called the *mass number*. The name of the element, as well as its chemical symbol $X$, depend only on $Z$. Nuclei with the same number of protons $Z$ but different mass numbers $A$ are called isotopes. Some isotopes are stable, others are unstable.\n",
    "\n",
    "Each nuclear isotope can be uniquely idenfified by a \"particle code\" $\\rm{A}\\times100+\\rm{Z}$. So in the case of $^{28}_{14}\\rm{Si}$, which has 14 protons and 14 protons, this particle code is `28 * 100 + 14 == 2814`.\n",
    "\n",
    "In this exercie you'll use the lists `database` and `symbols`, both loaded in the cell below:"
   ]
  },
  {
   "cell_type": "code",
   "execution_count": 93,
   "metadata": {},
   "outputs": [],
   "source": [
    "from pickle import load as pload\n",
    "\n",
    "with open(\"ex-02_nuc_database.pkl\", \"rb\") as f: # Make sure this pkl file is in the same directory\n",
    "                                                # as this notebook\n",
    "    database, symbols = pload(f)"
   ]
  },
  {
   "cell_type": "markdown",
   "metadata": {},
   "source": [
    "`database` is a table (adopted from <href>https://www-nds.iaea.org/amdc/</href>), given here in the form of a list of lists. Each of these lists has information about a different nuclear isotope: particle code, half-life in seconds, and the year its spectrum was measured. If the half-life is `None`, the isotope is stable."
   ]
  },
  {
   "cell_type": "code",
   "execution_count": 107,
   "metadata": {},
   "outputs": [
    {
     "name": "stdout",
     "output_type": "stream",
     "text": [
      "[503, 370.0, 1941]\n"
     ]
    }
   ],
   "source": [
    "print(database[9]) # Particle code: 503 (5 * 100 + 3, so this is lithium-5);\n",
    "                   # Half-life = 370 s;\n",
    "                   # Spectrum measured 1941"
   ]
  },
  {
   "cell_type": "markdown",
   "metadata": {},
   "source": [
    "`symbols` is a simple list of strings with chemical symbols of the elements ordered by $Z$:"
   ]
  },
  {
   "cell_type": "code",
   "execution_count": 77,
   "metadata": {},
   "outputs": [
    {
     "name": "stdout",
     "output_type": "stream",
     "text": [
      "Li\n"
     ]
    }
   ],
   "source": [
    "print(symbols[3]) # Z=3 corresponds to element lithium, so we get the symbol 'Li'"
   ]
  },
  {
   "cell_type": "markdown",
   "metadata": {},
   "source": [
    "___\n",
    "At last, the task:\n",
    "\n",
    "Oragnize the information in `database` in the form of a **nested dictionary** called `nuc_dict`.\n",
    "\n",
    "For every chemical element, `nuc_dict` should map its chemical symbol to a dictionary with the following information: \n",
    "- the number of protons $Z$;\n",
    "- how many stable and unstable isotopes of the element are present in the database;\n",
    "- the minimum and maximum number of neutrons of the isotopes in the database;\n",
    "- the average of the half-lives of its unstable isotopes;\n",
    "- year when the first isotope was discovered\n",
    "\n",
    "In the end, your dictionary shuld look something like:\n",
    "\n",
    "```\n",
    "nuc_dict = {\"H\" :  {\"n_protons\"        : 1,\n",
    "                    \"n_neutrons_min\"   : 0,      # hydrogen-1 has no neutrons\n",
    "                    \"n_neutrons_max\"   : 5,      # hydrogen-6 has 5 neutrons\n",
    "                    \"n_iso_stable\"     : 2,      # hydrogen-1 and hydrogen-2 are stable\n",
    "                    \"n_iso_unstable\"   : 4,      # hydrogen-3 through hydrogen-6 are unstable\n",
    "                    \"average_halflife\" : 337.83, # average of the half-lives of the\n",
    "                                                 # four unstable hydrogen isotopes\n",
    "                    \"first_measured\" : 1920},    # hydrogen-1 measured 1920 (other isotopes later)\n",
    "            \"He\" : {...},\n",
    "            ...\n",
    "           }\n",
    "```\n",
    "\n",
    "This will allows us to access all information about a given chamical element by checking `nuc_dict`, like such:"
   ]
  },
  {
   "cell_type": "code",
   "execution_count": null,
   "metadata": {},
   "outputs": [],
   "source": [
    "print(nuc_dict['H']['average_halflife']) # Should print 337.83"
   ]
  }
 ],
 "metadata": {
  "kernelspec": {
   "display_name": "Python 3",
   "language": "python",
   "name": "python3"
  },
  "language_info": {
   "codemirror_mode": {
    "name": "ipython",
    "version": 3
   },
   "file_extension": ".py",
   "mimetype": "text/x-python",
   "name": "python",
   "nbconvert_exporter": "python",
   "pygments_lexer": "ipython3",
   "version": "3.9.12"
  },
  "vscode": {
   "interpreter": {
    "hash": "ad60ba3d6748ebfd779dff164ecdca54fbf007dbac97c522a9077ed5230659e8"
   }
  }
 },
 "nbformat": 4,
 "nbformat_minor": 4
}
