{
 "cells": [
  {
   "cell_type": "markdown",
   "metadata": {},
   "source": [
    "# Exercise sheet 5\n",
    "### Due 02/12/2022, 14:00 \n",
    "- Name 1\n",
    "- Name 2\n",
    "- Name 3"
   ]
  },
  {
   "cell_type": "markdown",
   "metadata": {},
   "source": [
    "## Fun with files: bright astronomical transients\n",
    "The *Bright Transient Survey* (BTS) is an astronomical survey carried out by the Zwicky Transient Facility (ZTF), a multi-telescope research infrastructure targeting transient astronomical phenomena. The BTS website provides a catalogue of very bright transient astronomy sources, such as supernovae, tidal disruption events and others."
   ]
  },
  {
   "cell_type": "markdown",
   "metadata": {},
   "source": [
    "### 1. Download the current version of the catalogue\n",
    "- Open the [BTS explorer](https://sites.astro.caltech.edu/ztf/bts/explorer.php) webpage. Keep all the default options and select \"Display as: CSV\".\n",
    "- Download the webpage as a CSV file and place it at `\"./data/bts.csv\"` where `.` is the \"current working directory\" of the notebook."
   ]
  },
  {
   "cell_type": "code",
   "execution_count": null,
   "metadata": {},
   "outputs": [],
   "source": [
    "import os\n",
    "from pathlib import Path\n",
    "\n",
    "\"\"\"\n",
    "Define the path to the catalogue in a way that is relative to the current working directory of the notebook.\n",
    "Remember that your code will be executed in another computer and all \"absolute\" paths (for example containing your username or system) will not work! \n",
    "\"\"\"\n",
    "# YOUR CODE HERE\n",
    "catalogue_path = None # replace with the path to the catalogue"
   ]
  },
  {
   "cell_type": "markdown",
   "metadata": {},
   "source": [
    "### 2. Read the file\n",
    "- Define a function to read the file making use of the [CSV library](https://docs.python.org/3/library/csv.html).\n",
    "- The function should return a dictionary mapping a field name to a list, each list should contain the corresponding field values for all the entries in the file. In other words, `dataset[\"redshift\"][i]` should give the \"redshift\" value of the i-th entry in the CSV file.\n",
    "- Notice that the first line of the CSV file contains the field names. These are what we call *metadata*, information that *describe the data*. Use these names as keys of the dictionary.\n",
    "- Make sure that numerical values are actually stored at numbers and not as strings. You can keep \"RA\" and \"Dec\" as strings since we do not know how to deal with date/times/coordinates (yet)."
   ]
  },
  {
   "cell_type": "code",
   "execution_count": null,
   "metadata": {},
   "outputs": [],
   "source": [
    "def read_bts(file_path : str):\n",
    "    \"\"\" YOUR CODE HERE \"\"\"\n",
    "    pass\n",
    "\n",
    "dataset = read_bts(catalogue_path)"
   ]
  },
  {
   "cell_type": "markdown",
   "metadata": {},
   "source": [
    "### 3. Catalogue as a class\n",
    "Define a class `Catalogue` that is meant **store the catalogue** and provide a set of utility and analysis methods according to the following:\n",
    "- the  `__init__()` method of the class should take as an argument the dictionary as defined at point `#2`;\n",
    "- provide the class with a `from_csv()` class method that takes as an argument a CSV file path and returns an instance of `Catalogue` representing the file content. You may recycle the code of your `read_bts()` function but make sure all the necessary code is contained in the class (in other words, do not call `read_bts()` from inside the class);\n",
    "- provide the `Catalogue` class with a non-modifiable `origin` attribute (to be taken care of in `__init()__`). `origin` should tell whether the object has been created from a dictionary, another catalogue (see later `filter_by_types()`), or a file. In the case of a file, `origin` should keep track of the file path in the form of a string;\n",
    "- provide the class with a `__repr__()` method. Remember: this method is meant to return a string representation of the object but in general not of its full content. Use `__repr__()` method to return a string containing at least the size of the catalogue and the `origin` information;\n",
    "- provide the class with a `__str__()` format. Remember: this method is meant to return a more descriptive representation than `__repr__()` that is used when the instance is passed to the `print()` function. The `__str__()` method should return a string with a table-like representation of the catalogue content, limited to the following fields: `IAUID`, `RA`, `Dec`, `peakabs`, `type`, `redshift`. Since it may not be always desiderable to print a long catalogue, make `__str()__` depend on an instance attribute `print_max_nsources` that can be set for the `Catalogue` object;\n",
    "- provide a method `filter_by_types()` that takes as an argument a list of strings and returns a new instance of `Catalogue` containing only the sources for which the value of the `type` field is comprised in the list; the syntax of the operation should be like `new_cat = full_cat.filter_by_types([\"SN Ia\"])`;\n",
    "- provide methods `get_brightest_source()` and `get_closest_source()` where the brightest source is the one with the lower value of `peakmag` and the closest source is the one with the lower value of `redshift`; the return value should contain the data of the source in the form of a dictionary (ideally, we would like to define a dedicated `Source` class in such circumstance but this is not a requirement for this exercise);\n",
    "- provide a method `__eq__(self, other)` that takes as an argument another instance of `Catalogue` and returns `True` if the **content** of the two catalogues is the same, regardless of the `origin`. Tip: remember you can compare list contents with `==` and that you can make use of `all()` and `any()` special functions for booleans.\n"
   ]
  },
  {
   "cell_type": "code",
   "execution_count": null,
   "metadata": {},
   "outputs": [],
   "source": [
    "class Catalogue:\n",
    "    \"\"\"\n",
    "    DEVELOP YOUR CLASS\n",
    "    \"\"\"\n",
    "    def __init__(self, input_dict, origin=None):\n",
    "        pass\n",
    "\n",
    "    @classmethod\n",
    "    def from_csv(cls, path):\n",
    "        pass"
   ]
  },
  {
   "cell_type": "code",
   "execution_count": null,
   "metadata": {},
   "outputs": [],
   "source": [
    "\"\"\"\n",
    "Test the two ways of building a Catalogue object!\n",
    "\"\"\"\n",
    "cat_b = Catalogue.from_csv(catalogue_path)\n",
    "\n",
    "cat_a = Catalogue(input_dict=dataset)"
   ]
  },
  {
   "cell_type": "markdown",
   "metadata": {},
   "source": [
    "### 3. CSV to JSON and viceversa\n",
    "- Provide the class with a method `to_json()` that takes as an argument a file path and writes a JSON representation of the object content to a file. Store the `origin` information in the output file. Remember: while a generic object cannot be directly *dumped* to JSON, a dictionary wrapping the relevant data can!\n",
    "- Provide the class with a class method `from_json()` that takes as an argument a file path and returns a `Catalogue` instance based on the file content.\n",
    "- Test that the read/write functionality works by verifying the equivalence (you have defined an `__eq__` method for this)!"
   ]
  },
  {
   "cell_type": "code",
   "execution_count": null,
   "metadata": {},
   "outputs": [],
   "source": [
    "\"\"\" TEST EXAMPLE \"\"\"\n",
    "json_path = None # define your path to a file here\n",
    "\n",
    "csv_cat = Catalogue.from_csv(catalogue_path)\n",
    "csv_cat.to_json(json_path)\n",
    "json_cat = Catalogue.from_json(json_path)\n",
    "\n",
    "print(json_cat == csv_cat) # here python should invoke your `__eq__` method."
   ]
  },
  {
   "cell_type": "markdown",
   "metadata": {},
   "source": []
  }
 ],
 "metadata": {
  "kernelspec": {
   "display_name": "Python 3.10.6",
   "language": "python",
   "name": "python3"
  },
  "language_info": {
   "codemirror_mode": {
    "name": "ipython",
    "version": 3
   },
   "file_extension": ".py",
   "mimetype": "text/x-python",
   "name": "python",
   "nbconvert_exporter": "python",
   "pygments_lexer": "ipython3",
   "version": "3.10.6"
  },
  "orig_nbformat": 4,
  "vscode": {
   "interpreter": {
    "hash": "2549115f32c44c7a8b5a7e02bed83e0a52b02d36b801495d26c408aeeebb7054"
   }
  }
 },
 "nbformat": 4,
 "nbformat_minor": 2
}
